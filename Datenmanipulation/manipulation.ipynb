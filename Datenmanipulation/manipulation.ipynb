{
 "cells": [
  {
   "cell_type": "markdown",
   "id": "45f4f5e7",
   "metadata": {},
   "source": [
    "# Manipulation und Fragenerstellung\n"
   ]
  },
  {
   "cell_type": "code",
   "execution_count": 3,
   "id": "c7535566",
   "metadata": {},
   "outputs": [
    {
     "data": {
      "text/plain": [
       "True"
      ]
     },
     "execution_count": 3,
     "metadata": {},
     "output_type": "execute_result"
    }
   ],
   "source": [
    "from dotenv import load_dotenv\n",
    "from langchain_openai import ChatOpenAI\n",
    "from langchain_core.prompts import ChatPromptTemplate\n",
    "from langchain_core.runnables import RunnablePassthrough\n",
    "from langchain_core.output_parsers import StrOutputParser\n",
    "import os\n",
    "\n",
    "load_dotenv()"
   ]
  },
  {
   "cell_type": "markdown",
   "id": "1063df60",
   "metadata": {},
   "source": [
    "## llm instanzieren"
   ]
  },
  {
   "cell_type": "code",
   "execution_count": 7,
   "id": "164501b4",
   "metadata": {},
   "outputs": [],
   "source": [
    "\n",
    "llm = ChatOpenAI(\n",
    "    model=\"gpt-4o\",\n",
    "    temperature=0,\n",
    "    api_key=os.environ[\"OPEN_AI_API_KEY\"]\n",
    "    \n",
    ")"
   ]
  },
  {
   "cell_type": "markdown",
   "id": "9c8bd1f4",
   "metadata": {},
   "source": [
    "## Prompt für die Fake news Injektion"
   ]
  },
  {
   "cell_type": "code",
   "execution_count": 17,
   "id": "163e393b",
   "metadata": {},
   "outputs": [],
   "source": [
    "with open(\"../prompts/fake_news_injektion.txt\", \"r\", encoding=\"utf-8\") as p:\n",
    "    injektions_prompt = p.read()\n",
    "\n"
   ]
  },
  {
   "cell_type": "code",
   "execution_count": null,
   "id": "b32f3e99",
   "metadata": {},
   "outputs": [],
   "source": [
    "prompt_injektion = ChatPromptTemplate.from_messages(\n",
    "    [\n",
    "        (\n",
    "            \"system\",\n",
    "            f\"{injektions_prompt}\",\n",
    "        ),\n",
    "        (\"human\", \"{input}\"),\n",
    "    ]\n",
    ")\n"
   ]
  },
  {
   "cell_type": "markdown",
   "id": "c5dbf7e2",
   "metadata": {},
   "source": [
    "# Prompt für die Generierung von Fragen und Musterlösungen"
   ]
  },
  {
   "cell_type": "code",
   "execution_count": 14,
   "id": "c206838a",
   "metadata": {},
   "outputs": [],
   "source": [
    "with open(\"../prompts/fragen_und_musterloesung_erstellung.txt\", \"r\", encoding=\"utf-8\") as pf:\n",
    "    fragen_u_muster = pf.read()\n",
    "\n"
   ]
  },
  {
   "cell_type": "code",
   "execution_count": 15,
   "id": "93b53138",
   "metadata": {},
   "outputs": [],
   "source": [
    "frage_prompt = ChatPromptTemplate.from_messages(\n",
    "    [\n",
    "        (\n",
    "            \"system\",\n",
    "            f\"{fragen_u_muster}\",\n",
    "        ),\n",
    "        (\"human\", \"Originalartikel:\\n{original}\\n\\nManipulierter Artikel:\\n{manipuliert}\"),\n",
    "    ]\n",
    ")\n"
   ]
  },
  {
   "cell_type": "markdown",
   "id": "a6160ba3",
   "metadata": {},
   "source": [
    "# Chain für die Fake News Injektion"
   ]
  },
  {
   "cell_type": "code",
   "execution_count": null,
   "id": "30c6d0dc",
   "metadata": {},
   "outputs": [],
   "source": [
    "manipulation_chain = (\n",
    "    {\"input\": RunnablePassthrough(),}\n",
    "    | prompt_injektion\n",
    "    | llm\n",
    "    | StrOutputParser()\n",
    ")"
   ]
  },
  {
   "cell_type": "markdown",
   "id": "e20f2fbb",
   "metadata": {},
   "source": [
    "# Chain für die Fragen und Musterlösung erstellung"
   ]
  },
  {
   "cell_type": "code",
   "execution_count": 165,
   "id": "709231da",
   "metadata": {},
   "outputs": [],
   "source": [
    "\n",
    "\n",
    "question_chain = (\n",
    "    {\n",
    "        \"original\": RunnablePassthrough(),\n",
    "        \"manipuliert\": RunnablePassthrough(),\n",
    "    }\n",
    "    | frage_prompt  \n",
    "    | llm\n",
    "    | StrOutputParser()\n",
    ")\n"
   ]
  },
  {
   "cell_type": "markdown",
   "id": "592e5d90",
   "metadata": {},
   "source": [
    "## Fake news, Fragen und musterlöung generierung"
   ]
  },
  {
   "cell_type": "code",
   "execution_count": null,
   "id": "ff3cbcf2",
   "metadata": {},
   "outputs": [],
   "source": [
    "def process_articles(input_dir, output_dir_articles, output_dir_questions):\n",
    "    \"\"\"\n",
    "    Funktion die Originalartikel mit Fake News injiziert\n",
    "    und Fragen und Musterlösungen generiert. (Durch das aufrufen der Chains)\n",
    "    \n",
    "    \"\"\"\n",
    "    # Iterien über die Originalartikel\n",
    "    for filename in os.listdir(input_dir):\n",
    "        # Nur Textdateien\n",
    "        if filename.endswith(\".txt\"):\n",
    "            # Vollständiger Pfad\n",
    "            filepath = os.path.join(input_dir, filename)\n",
    "            \n",
    "            # Artikel einlesen\n",
    "            with open(filepath, \"r\", encoding=\"utf-8\") as f:\n",
    "                original = f.read()\n",
    "\n",
    "            # Artikel mit Fake News injizieren\n",
    "            manipuliert = manipulation_chain.invoke({\"input\": original})\n",
    "\n",
    "            # Fragen und Musterlöungen generieren\n",
    "            questions_output = question_chain.invoke({\n",
    "                \"original\": original,\n",
    "                \"manipuliert\": manipuliert\n",
    "            })\n",
    "\n",
    "            # Speichern der Manipulierten Artikel\n",
    "            output_article_path = os.path.join(output_dir_articles, filename)\n",
    "            with open(output_article_path, \"w\", encoding=\"utf-8\") as f:\n",
    "                f.write(manipuliert)\n",
    "\n",
    "            # Speichern derFragen  Musterlösungen\n",
    "            question_filename = filename.replace(\".txt\", \"_fragen.txt\")\n",
    "            output_questions_path = os.path.join(output_dir_questions, question_filename)\n",
    "            with open(output_questions_path, \"w\", encoding=\"utf-8\") as f:\n",
    "                f.write(questions_output)\n",
    "\n",
    "            print(f\"Verarbeitet: {filename}\")\n"
   ]
  },
  {
   "cell_type": "code",
   "execution_count": null,
   "id": "1bacb89a",
   "metadata": {},
   "outputs": [
    {
     "name": "stdout",
     "output_type": "stream",
     "text": [
      "Verarbeitet: artikel_1.txt\n",
      "Verarbeitet: artikel_10.txt\n",
      "Verarbeitet: artikel_11.txt\n",
      "Verarbeitet: artikel_12.txt\n",
      "Verarbeitet: artikel_13.txt\n",
      "Verarbeitet: artikel_14.txt\n",
      "Verarbeitet: artikel_15.txt\n",
      "Verarbeitet: artikel_16.txt\n",
      "Verarbeitet: artikel_17.txt\n",
      "Verarbeitet: artikel_18.txt\n",
      "Verarbeitet: artikel_19.txt\n",
      "Verarbeitet: artikel_2.txt\n",
      "Verarbeitet: artikel_20.txt\n",
      "Verarbeitet: artikel_21.txt\n",
      "Verarbeitet: artikel_22.txt\n",
      "Verarbeitet: artikel_23.txt\n",
      "Verarbeitet: artikel_24.txt\n",
      "Verarbeitet: artikel_25.txt\n",
      "Verarbeitet: artikel_26.txt\n",
      "Verarbeitet: artikel_27.txt\n",
      "Verarbeitet: artikel_28.txt\n",
      "Verarbeitet: artikel_29.txt\n",
      "Verarbeitet: artikel_3.txt\n",
      "Verarbeitet: artikel_30.txt\n",
      "Verarbeitet: artikel_31.txt\n",
      "Verarbeitet: artikel_32.txt\n",
      "Verarbeitet: artikel_33.txt\n",
      "Verarbeitet: artikel_34.txt\n",
      "Verarbeitet: artikel_35.txt\n",
      "Verarbeitet: artikel_36.txt\n",
      "Verarbeitet: artikel_37.txt\n",
      "Verarbeitet: artikel_38.txt\n",
      "Verarbeitet: artikel_39.txt\n",
      "Verarbeitet: artikel_4.txt\n",
      "Verarbeitet: artikel_40.txt\n",
      "Verarbeitet: artikel_41.txt\n",
      "Verarbeitet: artikel_42.txt\n",
      "Verarbeitet: artikel_43.txt\n",
      "Verarbeitet: artikel_44.txt\n",
      "Verarbeitet: artikel_45.txt\n",
      "Verarbeitet: artikel_46.txt\n",
      "Verarbeitet: artikel_47.txt\n",
      "Verarbeitet: artikel_48.txt\n",
      "Verarbeitet: artikel_49.txt\n",
      "Verarbeitet: artikel_5.txt\n",
      "Verarbeitet: artikel_50.txt\n",
      "Verarbeitet: artikel_51.txt\n",
      "Verarbeitet: artikel_52.txt\n",
      "Verarbeitet: artikel_53.txt\n",
      "Verarbeitet: artikel_54.txt\n",
      "Verarbeitet: artikel_55.txt\n",
      "Verarbeitet: artikel_56.txt\n",
      "Verarbeitet: artikel_57.txt\n",
      "Verarbeitet: artikel_58.txt\n",
      "Verarbeitet: artikel_59.txt\n",
      "Verarbeitet: artikel_6.txt\n",
      "Verarbeitet: artikel_60.txt\n",
      "Verarbeitet: artikel_61.txt\n",
      "Verarbeitet: artikel_62.txt\n",
      "Verarbeitet: artikel_63.txt\n",
      "Verarbeitet: artikel_64.txt\n",
      "Verarbeitet: artikel_65.txt\n",
      "Verarbeitet: artikel_66.txt\n",
      "Verarbeitet: artikel_67.txt\n",
      "Verarbeitet: artikel_68.txt\n",
      "Verarbeitet: artikel_69.txt\n",
      "Verarbeitet: artikel_7.txt\n",
      "Verarbeitet: artikel_70.txt\n",
      "Verarbeitet: artikel_71.txt\n",
      "Verarbeitet: artikel_72.txt\n",
      "Verarbeitet: artikel_73.txt\n",
      "Verarbeitet: artikel_74.txt\n",
      "Verarbeitet: artikel_75.txt\n",
      "Verarbeitet: artikel_76.txt\n",
      "Verarbeitet: artikel_77.txt\n",
      "Verarbeitet: artikel_78.txt\n",
      "Verarbeitet: artikel_79.txt\n",
      "Verarbeitet: artikel_8.txt\n",
      "Verarbeitet: artikel_80.txt\n",
      "Verarbeitet: artikel_81.txt\n",
      "Verarbeitet: artikel_82.txt\n",
      "Verarbeitet: artikel_83.txt\n",
      "Verarbeitet: artikel_84.txt\n",
      "Verarbeitet: artikel_85.txt\n",
      "Verarbeitet: artikel_86.txt\n",
      "Verarbeitet: artikel_87.txt\n",
      "Verarbeitet: artikel_88.txt\n",
      "Verarbeitet: artikel_89.txt\n",
      "Verarbeitet: artikel_9.txt\n",
      "Verarbeitet: artikel_90.txt\n",
      "Verarbeitet: artikel_91.txt\n",
      "Verarbeitet: artikel_92.txt\n",
      "Verarbeitet: artikel_93.txt\n",
      "Verarbeitet: artikel_94.txt\n",
      "Verarbeitet: artikel_95.txt\n"
     ]
    }
   ],
   "source": [
    "process_articles(\n",
    "    \"originalartikel\",\n",
    "    \"manipulierte_artikel\",\n",
    "    \"fragen_und_lösungen\"\n",
    ")"
   ]
  }
 ],
 "metadata": {
  "kernelspec": {
   "display_name": ".venv",
   "language": "python",
   "name": "python3"
  },
  "language_info": {
   "codemirror_mode": {
    "name": "ipython",
    "version": 3
   },
   "file_extension": ".py",
   "mimetype": "text/x-python",
   "name": "python",
   "nbconvert_exporter": "python",
   "pygments_lexer": "ipython3",
   "version": "3.12.0"
  }
 },
 "nbformat": 4,
 "nbformat_minor": 5
}
