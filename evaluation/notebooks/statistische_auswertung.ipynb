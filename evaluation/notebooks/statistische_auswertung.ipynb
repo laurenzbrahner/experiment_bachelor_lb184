{
 "cells": [
  {
   "cell_type": "markdown",
   "id": "ce29b2cb",
   "metadata": {},
   "source": [
    "# Statistische Auswertung"
   ]
  },
  {
   "cell_type": "markdown",
   "id": "856c5f44",
   "metadata": {},
   "source": [
    "##### Quellen:\n",
    "\n",
    "```\n",
    "Pandas. (2025, 7. Juli). Pandas Documentation. Abgerufen am 11. Juli 2025, von https://pandas.pydata.org/docs/\n",
    "\n",
    "SciPy. (o. D.). chi2_contingency. Abgerufen am 1. Juli 2025, von https://docs.scipy.org/doc/scipy/reference/generated/scipy.stats.chi2_contingency.html\n",
    "\n",
    "```"
   ]
  },
  {
   "cell_type": "markdown",
   "id": "5388c60c",
   "metadata": {},
   "source": [
    "**globaler chi-Quadrat-Test zur Überprüfung der gloaben Hypothese:**"
   ]
  },
  {
   "cell_type": "code",
   "execution_count": 1,
   "id": "675b426f",
   "metadata": {},
   "outputs": [
    {
     "name": "stdout",
     "output_type": "stream",
     "text": [
      "Chi2ContingencyResult(statistic=np.float64(156.49355877063675), pvalue=np.float64(1.041970650553558e-34), dof=2, expected_freq=array([[303.66666667, 266.33333333],\n",
      "       [303.66666667, 266.33333333],\n",
      "       [303.66666667, 266.33333333]]))\n"
     ]
    }
   ],
   "source": [
    "import pandas as pd\n",
    "from scipy.stats import chi2_contingency\n",
    "\n",
    "\n",
    "global_df_alle_systeme = pd.DataFrame({\n",
    "    \"korrekt\": [365, 182, 364],\n",
    "    \"fehlerhaft\": [205,388,206]\n",
    "}, index=[\"VectorRAG\", \"GraphRAG\", \"HybridRAG\"]) \n",
    "\n",
    "\n",
    "\n",
    "print(chi2_contingency(global_df_alle_systeme))"
   ]
  },
  {
   "cell_type": "code",
   "execution_count": 2,
   "id": "76cb42f7",
   "metadata": {},
   "outputs": [],
   "source": [
    "chi2, p, dof, expected = chi2_contingency(global_df_alle_systeme) "
   ]
  },
  {
   "cell_type": "code",
   "execution_count": 3,
   "id": "6ce3f37f",
   "metadata": {},
   "outputs": [
    {
     "name": "stdout",
     "output_type": "stream",
     "text": [
      "Chi2: 156.49355877063675 \n",
      "pWert: 1.041970650553558e-34\n"
     ]
    }
   ],
   "source": [
    "print(\"Chi2:\", chi2, \"\\n\"\n",
    "       \"pWert:\" , p)"
   ]
  },
  {
   "cell_type": "markdown",
   "id": "0f9f8d5c",
   "metadata": {},
   "source": [
    "**Paarweiser Chi-Quadrat-Test Vector vs Hybrid:**"
   ]
  },
  {
   "cell_type": "code",
   "execution_count": 4,
   "id": "23a53e10",
   "metadata": {},
   "outputs": [],
   "source": [
    "df_vector_vs_hybrid =  pd.DataFrame({\n",
    "    \"korrekt\": [365, 364],\n",
    "    \"fehlerhaft\": [205, 206]\n",
    "}, index=[\"VectorRAG\", \"HybridRAG\"]) "
   ]
  },
  {
   "cell_type": "code",
   "execution_count": 5,
   "id": "29e0ba84",
   "metadata": {},
   "outputs": [],
   "source": [
    "chi2_h_vs_v, p_h_vs_v, dof_h_vs_v, expectedh_vs_v = chi2_contingency(df_vector_vs_hybrid) \n"
   ]
  },
  {
   "cell_type": "code",
   "execution_count": 6,
   "id": "70f25930",
   "metadata": {},
   "outputs": [
    {
     "name": "stdout",
     "output_type": "stream",
     "text": [
      "Chi2: 0.0 \n",
      "pWert: 1.0\n"
     ]
    }
   ],
   "source": [
    "print(\"Chi2:\", chi2_h_vs_v, \"\\n\"\n",
    "       \"pWert:\" , p_h_vs_v)"
   ]
  },
  {
   "cell_type": "markdown",
   "id": "8ca555ed",
   "metadata": {},
   "source": [
    "**Paarweiser Chi-Quadrat-Test Vector vs Graph:**"
   ]
  },
  {
   "cell_type": "code",
   "execution_count": 7,
   "id": "0828dfae",
   "metadata": {},
   "outputs": [],
   "source": [
    "df_vector_vs_graph = pd.DataFrame({\n",
    "    \"korrekt\": [365, 182],\n",
    "    \"fehlerhaft\": [205,388]\n",
    "}, index=[\"VectorRAG\", \"GraphRAG\"]) "
   ]
  },
  {
   "cell_type": "code",
   "execution_count": 8,
   "id": "6ad5ccc7",
   "metadata": {},
   "outputs": [
    {
     "data": {
      "text/plain": [
       "Chi2ContingencyResult(statistic=np.float64(116.41410606990144), pvalue=np.float64(3.857284125472644e-27), dof=1, expected_freq=array([[273.5, 296.5],\n",
       "       [273.5, 296.5]]))"
      ]
     },
     "execution_count": 8,
     "metadata": {},
     "output_type": "execute_result"
    }
   ],
   "source": [
    "chi2_contingency(df_vector_vs_graph)"
   ]
  },
  {
   "cell_type": "markdown",
   "id": "fe553293",
   "metadata": {},
   "source": [
    "**Paarweiser Chi-Quadrat-Test Hybrid vs Graph:**"
   ]
  },
  {
   "cell_type": "code",
   "execution_count": 9,
   "id": "1c318c10",
   "metadata": {},
   "outputs": [],
   "source": [
    "df_hybrid_vs_graph = pd.DataFrame({\n",
    "    \"korrekt\": [182, 364],\n",
    "    \"fehlerhaft\": [388,206]\n",
    "}, index=[\"GraphRAG\", \"HybridRAG\"]) "
   ]
  },
  {
   "cell_type": "code",
   "execution_count": 10,
   "id": "f1d184fa",
   "metadata": {},
   "outputs": [
    {
     "data": {
      "text/plain": [
       "Chi2ContingencyResult(statistic=np.float64(115.15503015503015), pvalue=np.float64(7.277943940288312e-27), dof=1, expected_freq=array([[273., 297.],\n",
       "       [273., 297.]]))"
      ]
     },
     "execution_count": 10,
     "metadata": {},
     "output_type": "execute_result"
    }
   ],
   "source": [
    "chi2_contingency(df_hybrid_vs_graph)"
   ]
  }
 ],
 "metadata": {
  "kernelspec": {
   "display_name": ".venv",
   "language": "python",
   "name": "python3"
  },
  "language_info": {
   "codemirror_mode": {
    "name": "ipython",
    "version": 3
   },
   "file_extension": ".py",
   "mimetype": "text/x-python",
   "name": "python",
   "nbconvert_exporter": "python",
   "pygments_lexer": "ipython3",
   "version": "3.12.0"
  }
 },
 "nbformat": 4,
 "nbformat_minor": 5
}
