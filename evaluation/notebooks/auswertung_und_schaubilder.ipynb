{
 "cells": [
  {
   "cell_type": "markdown",
   "id": "e7e0861e",
   "metadata": {},
   "source": [
    "# Auswertung und Visualisierung der erhobenen Daten"
   ]
  },
  {
   "cell_type": "markdown",
   "id": "79d05609",
   "metadata": {},
   "source": [
    "##### Quellen\n",
    "```\n",
    "Pandas. (2025, 7. Juli). Pandas Documentation. Abgerufen am 11. Juli 2025, von https://pandas.pydata.org/docs/\n",
    "\n",
    "\n",
    "Plotly. (o. D.). Plotly Express in Python. Abgerufen am 16. Juli 2025, von https://plotly.com/python/plotly-express/\n",
    "```\n"
   ]
  },
  {
   "cell_type": "code",
   "execution_count": 2,
   "id": "d3ea8b9c",
   "metadata": {},
   "outputs": [],
   "source": [
    "import pandas as pd"
   ]
  },
  {
   "cell_type": "code",
   "execution_count": 3,
   "id": "74ef6036",
   "metadata": {},
   "outputs": [],
   "source": [
    "# Bewertungen der Systemantworten im Originalkontext für beide durchläufe einlesen\n",
    "\n",
    "df_original = pd.read_csv(\"../llm_bewertung_originalkontext_beide_durchgänge/bewertung_original.csv\", index_col=0)\n",
    "df_original_2 = pd.read_csv(\"../llm_bewertung_originalkontext_beide_durchgänge/bewertung_original_2.csv\", index_col=0)\n",
    "\n",
    "# Bewertungen der Systemantworten im manipulierten Kontext für beide durchläufe einlesen\n",
    "\n",
    "df_manipuliert = pd.read_csv(\"../llm_bewertungen_manipulierter_kontext_beide_durchgänge/bewertung_manipulierter_kontext.csv\", index_col=0)\n",
    "df_manipuliert_2 = pd.read_csv(\"../llm_bewertungen_manipulierter_kontext_beide_durchgänge/bewertung_manipulierter_kontext_2.csv\", index_col=0)\n",
    "\n",
    "# Manuelle bewertung einlesen\n",
    "df_manuell = pd.read_csv(\"../manuelle_evaluation_csv/manuelle_bewertung_manipuliert_2.csv\", index_col=0)"
   ]
  },
  {
   "cell_type": "markdown",
   "id": "86649765",
   "metadata": {},
   "source": [
    "### Manuelle Bewertung mit der des LLMs vergleichen"
   ]
  },
  {
   "cell_type": "code",
   "execution_count": 6,
   "id": "9a086aeb",
   "metadata": {},
   "outputs": [],
   "source": [
    "def vergleich_bewertungen(df_manuell, df_llm):\n",
    "    \n",
    "    # Relevante daten aus dem mannuellen bewertungsdF herausziehen\n",
    "    vergleich_df = df_manuell[[\"frage\", \"fake_news_art\", \"system\", \"antwort\", \"manuelle_bewertung\"]].copy()\n",
    "\n",
    "    vergleich_df[\"system\"] = vergleich_df[\"system\"].str.extract(r\"^(vector_rag|graph_rag|hybrid_rag)\")\n",
    "\n",
    "\n",
    "    # leerer Df \n",
    "    df_gesamt = pd.DataFrame()\n",
    "\n",
    "    for system in [\"vector_rag\", \"graph_rag\", \"hybrid_rag\"]:\n",
    "        spalte_antwort = f\"{system}_antwort_manipuliert_2\"\n",
    "        spalte_bewertung = f\"{system}_antwort_manipuliert_bewertung_2\"\n",
    "\n",
    "        # Extrahiert die Frage, Fake News Art, Antwort und die Bewertung des llms\n",
    "        df_temp = df_llm[[\"frage\", \"fake_news_art\", spalte_antwort, spalte_bewertung]].copy()\n",
    "        df_temp[\"system\"] = system\n",
    "\n",
    "\n",
    "        df_temp[\"antwort\"] = df_temp[spalte_antwort]\n",
    "        df_temp[\"llm_bewertung\"] = df_temp[spalte_bewertung]\n",
    "\n",
    "        df_gesamt = pd.concat([df_gesamt, df_temp[[\"frage\", \"fake_news_art\", \"system\", \"antwort\", \"llm_bewertung\"]]], ignore_index=True)\n",
    "\n",
    "    # mergen\n",
    "    merged_df = pd.merge(\n",
    "        vergleich_df, df_gesamt,\n",
    "        on=[\"frage\", \"fake_news_art\", \"antwort\", \"system\"],\n",
    "        how=\"left\"\n",
    "    )\n",
    "\n",
    "    # abweichungen markieren\n",
    "    merged_df[\"abweichung\"] = merged_df[\"manuelle_bewertung\"] != merged_df[\"llm_bewertung\"]\n",
    "\n",
    "    return merged_df"
   ]
  },
  {
   "cell_type": "code",
   "execution_count": 7,
   "id": "1388212b",
   "metadata": {},
   "outputs": [],
   "source": [
    "x_abweichungen = vergleich_bewertungen(df_manuell, df_manipuliert_2)"
   ]
  },
  {
   "cell_type": "code",
   "execution_count": 9,
   "id": "c4909d6f",
   "metadata": {},
   "outputs": [
    {
     "data": {
      "text/html": [
       "<div>\n",
       "<style scoped>\n",
       "    .dataframe tbody tr th:only-of-type {\n",
       "        vertical-align: middle;\n",
       "    }\n",
       "\n",
       "    .dataframe tbody tr th {\n",
       "        vertical-align: top;\n",
       "    }\n",
       "\n",
       "    .dataframe thead th {\n",
       "        text-align: right;\n",
       "    }\n",
       "</style>\n",
       "<table border=\"1\" class=\"dataframe\">\n",
       "  <thead>\n",
       "    <tr style=\"text-align: right;\">\n",
       "      <th></th>\n",
       "      <th>frage</th>\n",
       "      <th>fake_news_art</th>\n",
       "      <th>system</th>\n",
       "      <th>antwort</th>\n",
       "      <th>manuelle_bewertung</th>\n",
       "      <th>llm_bewertung</th>\n",
       "      <th>abweichung</th>\n",
       "    </tr>\n",
       "  </thead>\n",
       "  <tbody>\n",
       "    <tr>\n",
       "      <th>0</th>\n",
       "      <td>Wie viele Teilnehmer wurden tatsächlich bei de...</td>\n",
       "      <td>Fake Fact</td>\n",
       "      <td>vector_rag</td>\n",
       "      <td>Bei dem Autokorso in Tucson, der von Jorge org...</td>\n",
       "      <td>1</td>\n",
       "      <td>1</td>\n",
       "      <td>False</td>\n",
       "    </tr>\n",
       "    <tr>\n",
       "      <th>1</th>\n",
       "      <td>Wie hoch war der Anteil der Wähler in Kaliforn...</td>\n",
       "      <td>Fake Fact</td>\n",
       "      <td>vector_rag</td>\n",
       "      <td>Bei der aktuellen Wahl haben 40 Prozent der Wä...</td>\n",
       "      <td>1</td>\n",
       "      <td>1</td>\n",
       "      <td>False</td>\n",
       "    </tr>\n",
       "    <tr>\n",
       "      <th>2</th>\n",
       "      <td>Welche finanziellen Auswirkungen könnten Trump...</td>\n",
       "      <td>Fake Fact</td>\n",
       "      <td>vector_rag</td>\n",
       "      <td>Gemäß den Modellierungen des Instituts der deu...</td>\n",
       "      <td>0</td>\n",
       "      <td>0</td>\n",
       "      <td>False</td>\n",
       "    </tr>\n",
       "    <tr>\n",
       "      <th>3</th>\n",
       "      <td>Welche Steuerpolitik verfolgen Harris und Trum...</td>\n",
       "      <td>Fake Fact</td>\n",
       "      <td>vector_rag</td>\n",
       "      <td>Beide Präsidentschaftskandidaten, Kamala Harri...</td>\n",
       "      <td>1</td>\n",
       "      <td>1</td>\n",
       "      <td>False</td>\n",
       "    </tr>\n",
       "    <tr>\n",
       "      <th>4</th>\n",
       "      <td>Wer wurde von Trump für das Amt des Justizmini...</td>\n",
       "      <td>Fake Fact</td>\n",
       "      <td>vector_rag</td>\n",
       "      <td>Donald Trump hat den erzkonservativen Abgeordn...</td>\n",
       "      <td>1</td>\n",
       "      <td>1</td>\n",
       "      <td>False</td>\n",
       "    </tr>\n",
       "    <tr>\n",
       "      <th>...</th>\n",
       "      <td>...</td>\n",
       "      <td>...</td>\n",
       "      <td>...</td>\n",
       "      <td>...</td>\n",
       "      <td>...</td>\n",
       "      <td>...</td>\n",
       "      <td>...</td>\n",
       "    </tr>\n",
       "    <tr>\n",
       "      <th>58</th>\n",
       "      <td>Wie würde sich die Situation der deutschen Aut...</td>\n",
       "      <td>Exaggeration</td>\n",
       "      <td>hybrid_rag</td>\n",
       "      <td>Unter einem Präsidenten Donald Trump würde sic...</td>\n",
       "      <td>1</td>\n",
       "      <td>1</td>\n",
       "      <td>False</td>\n",
       "    </tr>\n",
       "    <tr>\n",
       "      <th>59</th>\n",
       "      <td>Wie bewerten Ökonomen Trumps wirtschaftliche P...</td>\n",
       "      <td>Exaggeration</td>\n",
       "      <td>hybrid_rag</td>\n",
       "      <td>Ökonomen bewerten Trumps wirtschaftliche Pläne...</td>\n",
       "      <td>1</td>\n",
       "      <td>1</td>\n",
       "      <td>False</td>\n",
       "    </tr>\n",
       "    <tr>\n",
       "      <th>60</th>\n",
       "      <td>Wie wurde die Nominierung von Gaetz zum Justiz...</td>\n",
       "      <td>Exaggeration</td>\n",
       "      <td>hybrid_rag</td>\n",
       "      <td>Der bereitgestellte Kontext enthält keine spez...</td>\n",
       "      <td>0</td>\n",
       "      <td>0</td>\n",
       "      <td>False</td>\n",
       "    </tr>\n",
       "    <tr>\n",
       "      <th>61</th>\n",
       "      <td>Welche maximale Höhe der Strafzölle drohte Don...</td>\n",
       "      <td>Exaggeration</td>\n",
       "      <td>hybrid_rag</td>\n",
       "      <td>Der bereitgestellte Kontext enthält keine spez...</td>\n",
       "      <td>0</td>\n",
       "      <td>0</td>\n",
       "      <td>False</td>\n",
       "    </tr>\n",
       "    <tr>\n",
       "      <th>62</th>\n",
       "      <td>Wie wird die Niederlage von Colin Allred in Te...</td>\n",
       "      <td>Exaggeration</td>\n",
       "      <td>hybrid_rag</td>\n",
       "      <td>Die Niederlage von Colin Allred in Texas wird ...</td>\n",
       "      <td>0</td>\n",
       "      <td>0</td>\n",
       "      <td>False</td>\n",
       "    </tr>\n",
       "  </tbody>\n",
       "</table>\n",
       "<p>63 rows × 7 columns</p>\n",
       "</div>"
      ],
      "text/plain": [
       "                                                frage fake_news_art  \\\n",
       "0   Wie viele Teilnehmer wurden tatsächlich bei de...     Fake Fact   \n",
       "1   Wie hoch war der Anteil der Wähler in Kaliforn...     Fake Fact   \n",
       "2   Welche finanziellen Auswirkungen könnten Trump...     Fake Fact   \n",
       "3   Welche Steuerpolitik verfolgen Harris und Trum...     Fake Fact   \n",
       "4   Wer wurde von Trump für das Amt des Justizmini...     Fake Fact   \n",
       "..                                                ...           ...   \n",
       "58  Wie würde sich die Situation der deutschen Aut...  Exaggeration   \n",
       "59  Wie bewerten Ökonomen Trumps wirtschaftliche P...  Exaggeration   \n",
       "60  Wie wurde die Nominierung von Gaetz zum Justiz...  Exaggeration   \n",
       "61  Welche maximale Höhe der Strafzölle drohte Don...  Exaggeration   \n",
       "62  Wie wird die Niederlage von Colin Allred in Te...  Exaggeration   \n",
       "\n",
       "        system                                            antwort  \\\n",
       "0   vector_rag  Bei dem Autokorso in Tucson, der von Jorge org...   \n",
       "1   vector_rag  Bei der aktuellen Wahl haben 40 Prozent der Wä...   \n",
       "2   vector_rag  Gemäß den Modellierungen des Instituts der deu...   \n",
       "3   vector_rag  Beide Präsidentschaftskandidaten, Kamala Harri...   \n",
       "4   vector_rag  Donald Trump hat den erzkonservativen Abgeordn...   \n",
       "..         ...                                                ...   \n",
       "58  hybrid_rag  Unter einem Präsidenten Donald Trump würde sic...   \n",
       "59  hybrid_rag  Ökonomen bewerten Trumps wirtschaftliche Pläne...   \n",
       "60  hybrid_rag  Der bereitgestellte Kontext enthält keine spez...   \n",
       "61  hybrid_rag  Der bereitgestellte Kontext enthält keine spez...   \n",
       "62  hybrid_rag  Die Niederlage von Colin Allred in Texas wird ...   \n",
       "\n",
       "    manuelle_bewertung  llm_bewertung  abweichung  \n",
       "0                    1              1       False  \n",
       "1                    1              1       False  \n",
       "2                    0              0       False  \n",
       "3                    1              1       False  \n",
       "4                    1              1       False  \n",
       "..                 ...            ...         ...  \n",
       "58                   1              1       False  \n",
       "59                   1              1       False  \n",
       "60                   0              0       False  \n",
       "61                   0              0       False  \n",
       "62                   0              0       False  \n",
       "\n",
       "[63 rows x 7 columns]"
      ]
     },
     "execution_count": 9,
     "metadata": {},
     "output_type": "execute_result"
    }
   ],
   "source": [
    "x_abweichungen"
   ]
  },
  {
   "cell_type": "code",
   "execution_count": 10,
   "id": "d6a9c899",
   "metadata": {},
   "outputs": [
    {
     "data": {
      "text/plain": [
       "count        63\n",
       "unique        2\n",
       "top       False\n",
       "freq         58\n",
       "Name: abweichung, dtype: object"
      ]
     },
     "execution_count": 10,
     "metadata": {},
     "output_type": "execute_result"
    }
   ],
   "source": [
    "x_abweichungen[\"abweichung\"].describe()"
   ]
  },
  {
   "cell_type": "code",
   "execution_count": null,
   "id": "8f71686b",
   "metadata": {},
   "outputs": [],
   "source": [
    "#x_abweichungen.to_csv(\"abweichungen_llm_human.csv\")"
   ]
  },
  {
   "cell_type": "markdown",
   "id": "b2b5ebc6",
   "metadata": {},
   "source": [
    "## cohens kappa-koeffizient berechnen"
   ]
  },
  {
   "cell_type": "code",
   "execution_count": 147,
   "id": "8114bffd",
   "metadata": {},
   "outputs": [
    {
     "name": "stdout",
     "output_type": "stream",
     "text": [
      "Cohen's Kappa: 0.8087\n"
     ]
    }
   ],
   "source": [
    "from sklearn.metrics import cohen_kappa_score\n",
    "\n",
    "\n",
    "kappa = cohen_kappa_score(x_abweichungen[\"manuelle_bewertung\"], x_abweichungen[\"llm_bewertung\"])\n",
    "print(f\"Cohen's Kappa: {kappa:.4f}\")"
   ]
  },
  {
   "cell_type": "markdown",
   "id": "cbc5fdde",
   "metadata": {},
   "source": [
    "\n",
    "\n",
    "**cohens Kappa =**  0.8087"
   ]
  },
  {
   "cell_type": "markdown",
   "id": "5fdcae5f",
   "metadata": {},
   "source": [
    "## Agreement: 58 / 63  \n",
    "**Agreement =** 92.06%  \n",
    "\n"
   ]
  },
  {
   "cell_type": "code",
   "execution_count": null,
   "id": "f385e9e3",
   "metadata": {},
   "outputs": [],
   "source": []
  },
  {
   "cell_type": "markdown",
   "id": "74676adc",
   "metadata": {},
   "source": [
    "### Daten aus beiden Durchgängen aggregieren"
   ]
  },
  {
   "cell_type": "code",
   "execution_count": 11,
   "id": "44bc3178",
   "metadata": {},
   "outputs": [],
   "source": [
    "\n",
    "# Spalten mit den bewertungen für die Antworten im manipulierten Kontext aus Durchgang 1\n",
    "bewertungspalten = [\n",
    "    \"vector_rag_antwort_manipuliert_bewertung\", \n",
    "    \"graph_rag_antwort_manipuliert_bewertung\",\n",
    "    \"hybrid_rag_antwort_manipuliert_bewertung\"\n",
    "]\n",
    "\n",
    "# Dictionary für spätere Zusammenführung\n",
    "erg = {}\n",
    "\n",
    "# über die bewertungspalten iterieren\n",
    "for spalte in bewertungspalten:\n",
    "    # für den 2. Durchgang suffix hinzufügen\n",
    "    spalte_2 = spalte + \"_2\"\n",
    "    # Für spätere Umbennung _bewertung aus spaltennamen entfernen\n",
    "    col_prefix = spalte.replace(\"_bewertung\", \"\")\n",
    "\n",
    "    # Beide Dfs vereinheitlichen\n",
    "    df1 = df_manipuliert[[\"fake_news_art\", spalte]].rename(columns={spalte: \"bewertung\"})\n",
    "    df2 = df_manipuliert_2[[\"fake_news_art\", spalte_2]].rename(columns={spalte_2: \"bewertung\"})\n",
    "\n",
    "    #dfs konkatenieren\n",
    "    df_kombi = pd.concat([df1, df2], ignore_index=True)\n",
    "\n",
    "    # Zählen der 0er und 1er je Fake news Art\n",
    "    counts = df_kombi.groupby([\"fake_news_art\", \"bewertung\"]).size().unstack(fill_value=0)\n",
    "    \n",
    "    # Umbenennen der Spalten\n",
    "    counts.columns = [f\"{col_prefix}_bewertung_0\", f\"{col_prefix}_bewertung_1\"]\n",
    "    erg[spalte] = counts\n",
    "\n",
    "# Zu einem df zusammenfügen\n",
    "df_erg_manip = pd.concat(erg.values(), axis=1)\n",
    "\n",
    "# Summe hinzufüen\n",
    "df_erg_manip.loc[\"Summe\"] = df_erg_manip.sum(numeric_only=True)\n"
   ]
  },
  {
   "cell_type": "code",
   "execution_count": 16,
   "id": "c71a976b",
   "metadata": {},
   "outputs": [],
   "source": [
    "\n",
    "# Spalten mit den bewertungen für die Antworten im originalkontext aus Durchgang 1\n",
    "bewertungspalten = [\n",
    "    \"vector_rag_antwort_original_bewertung\", \n",
    "    \"graph_rag_antwort_original_bewertung\",\n",
    "    \"hybrid_rag_antwort_original_bewertung\"\n",
    "]\n",
    "\n",
    "# Dictionary für spätere Zusammenführung\n",
    "erg = {}\n",
    "\n",
    "# über die bewertungspalten iterieren\n",
    "for spalte in bewertungspalten:\n",
    "    # für den 2. Durchgang suffix hinzufügen\n",
    "    spalte_2 = spalte + \"_2\"\n",
    "    # Für spätere Umbennung _bewertung aus spaltennamen entfernen\n",
    "    col_prefix = spalte.replace(\"_bewertung\", \"\")\n",
    "\n",
    "    # Beide Dfs vereinheitlichen\n",
    "    df1_or = df_original[[\"fake_news_art\", spalte]].rename(columns={spalte: \"bewertung\"})\n",
    "    df2_or = df_original_2[[\"fake_news_art\", spalte_2]].rename(columns={spalte_2: \"bewertung\"})\n",
    "\n",
    "    # dfs konkatenieren\n",
    "    df_kombi_or = pd.concat([df1_or, df2_or], ignore_index=True)\n",
    "\n",
    "    # Zählen der 0er und 1er \n",
    "    counts = df_kombi_or.groupby([\"fake_news_art\", \"bewertung\"]).size().unstack(fill_value=0)\n",
    "\n",
    "    # Umbennen der Spalten\n",
    "    counts.columns = [f\"{col_prefix}_bewertung_0\", f\"{col_prefix}_bewertung_1\"]\n",
    "    erg[spalte] = counts\n",
    "\n",
    "# Zu einem Df zusammenführen\n",
    "df_erg_org = pd.concat(erg.values(), axis=1)\n",
    "\n",
    "# Summe hinzufügen\n",
    "df_erg_org.loc[\"Summe\"] = df_erg_org.sum(numeric_only=True)\n"
   ]
  },
  {
   "cell_type": "code",
   "execution_count": 17,
   "id": "cfd64909",
   "metadata": {},
   "outputs": [
    {
     "data": {
      "text/html": [
       "<div>\n",
       "<style scoped>\n",
       "    .dataframe tbody tr th:only-of-type {\n",
       "        vertical-align: middle;\n",
       "    }\n",
       "\n",
       "    .dataframe tbody tr th {\n",
       "        vertical-align: top;\n",
       "    }\n",
       "\n",
       "    .dataframe thead th {\n",
       "        text-align: right;\n",
       "    }\n",
       "</style>\n",
       "<table border=\"1\" class=\"dataframe\">\n",
       "  <thead>\n",
       "    <tr style=\"text-align: right;\">\n",
       "      <th></th>\n",
       "      <th>vector_rag_antwort_original_bewertung_0</th>\n",
       "      <th>vector_rag_antwort_original_bewertung_1</th>\n",
       "      <th>graph_rag_antwort_original_bewertung_0</th>\n",
       "      <th>graph_rag_antwort_original_bewertung_1</th>\n",
       "      <th>hybrid_rag_antwort_original_bewertung_0</th>\n",
       "      <th>hybrid_rag_antwort_original_bewertung_1</th>\n",
       "    </tr>\n",
       "    <tr>\n",
       "      <th>fake_news_art</th>\n",
       "      <th></th>\n",
       "      <th></th>\n",
       "      <th></th>\n",
       "      <th></th>\n",
       "      <th></th>\n",
       "      <th></th>\n",
       "    </tr>\n",
       "  </thead>\n",
       "  <tbody>\n",
       "    <tr>\n",
       "      <th>Exaggeration</th>\n",
       "      <td>51</td>\n",
       "      <td>139</td>\n",
       "      <td>132</td>\n",
       "      <td>58</td>\n",
       "      <td>43</td>\n",
       "      <td>147</td>\n",
       "    </tr>\n",
       "    <tr>\n",
       "      <th>Fake Fact</th>\n",
       "      <td>32</td>\n",
       "      <td>158</td>\n",
       "      <td>129</td>\n",
       "      <td>61</td>\n",
       "      <td>31</td>\n",
       "      <td>159</td>\n",
       "    </tr>\n",
       "    <tr>\n",
       "      <th>Framing</th>\n",
       "      <td>30</td>\n",
       "      <td>160</td>\n",
       "      <td>127</td>\n",
       "      <td>63</td>\n",
       "      <td>25</td>\n",
       "      <td>165</td>\n",
       "    </tr>\n",
       "    <tr>\n",
       "      <th>Summe</th>\n",
       "      <td>113</td>\n",
       "      <td>457</td>\n",
       "      <td>388</td>\n",
       "      <td>182</td>\n",
       "      <td>99</td>\n",
       "      <td>471</td>\n",
       "    </tr>\n",
       "  </tbody>\n",
       "</table>\n",
       "</div>"
      ],
      "text/plain": [
       "               vector_rag_antwort_original_bewertung_0  \\\n",
       "fake_news_art                                            \n",
       "Exaggeration                                        51   \n",
       "Fake Fact                                           32   \n",
       "Framing                                             30   \n",
       "Summe                                              113   \n",
       "\n",
       "               vector_rag_antwort_original_bewertung_1  \\\n",
       "fake_news_art                                            \n",
       "Exaggeration                                       139   \n",
       "Fake Fact                                          158   \n",
       "Framing                                            160   \n",
       "Summe                                              457   \n",
       "\n",
       "               graph_rag_antwort_original_bewertung_0  \\\n",
       "fake_news_art                                           \n",
       "Exaggeration                                      132   \n",
       "Fake Fact                                         129   \n",
       "Framing                                           127   \n",
       "Summe                                             388   \n",
       "\n",
       "               graph_rag_antwort_original_bewertung_1  \\\n",
       "fake_news_art                                           \n",
       "Exaggeration                                       58   \n",
       "Fake Fact                                          61   \n",
       "Framing                                            63   \n",
       "Summe                                             182   \n",
       "\n",
       "               hybrid_rag_antwort_original_bewertung_0  \\\n",
       "fake_news_art                                            \n",
       "Exaggeration                                        43   \n",
       "Fake Fact                                           31   \n",
       "Framing                                             25   \n",
       "Summe                                               99   \n",
       "\n",
       "               hybrid_rag_antwort_original_bewertung_1  \n",
       "fake_news_art                                           \n",
       "Exaggeration                                       147  \n",
       "Fake Fact                                          159  \n",
       "Framing                                            165  \n",
       "Summe                                              471  "
      ]
     },
     "execution_count": 17,
     "metadata": {},
     "output_type": "execute_result"
    }
   ],
   "source": [
    "df_erg_org"
   ]
  },
  {
   "cell_type": "code",
   "execution_count": 14,
   "id": "6e5e11d5",
   "metadata": {},
   "outputs": [
    {
     "data": {
      "text/html": [
       "<div>\n",
       "<style scoped>\n",
       "    .dataframe tbody tr th:only-of-type {\n",
       "        vertical-align: middle;\n",
       "    }\n",
       "\n",
       "    .dataframe tbody tr th {\n",
       "        vertical-align: top;\n",
       "    }\n",
       "\n",
       "    .dataframe thead th {\n",
       "        text-align: right;\n",
       "    }\n",
       "</style>\n",
       "<table border=\"1\" class=\"dataframe\">\n",
       "  <thead>\n",
       "    <tr style=\"text-align: right;\">\n",
       "      <th></th>\n",
       "      <th>vector_rag_antwort_manipuliert_bewertung_0</th>\n",
       "      <th>vector_rag_antwort_manipuliert_bewertung_1</th>\n",
       "      <th>graph_rag_antwort_manipuliert_bewertung_0</th>\n",
       "      <th>graph_rag_antwort_manipuliert_bewertung_1</th>\n",
       "      <th>hybrid_rag_antwort_manipuliert_bewertung_0</th>\n",
       "      <th>hybrid_rag_antwort_manipuliert_bewertung_1</th>\n",
       "    </tr>\n",
       "    <tr>\n",
       "      <th>fake_news_art</th>\n",
       "      <th></th>\n",
       "      <th></th>\n",
       "      <th></th>\n",
       "      <th></th>\n",
       "      <th></th>\n",
       "      <th></th>\n",
       "    </tr>\n",
       "  </thead>\n",
       "  <tbody>\n",
       "    <tr>\n",
       "      <th>Exaggeration</th>\n",
       "      <td>72</td>\n",
       "      <td>118</td>\n",
       "      <td>127</td>\n",
       "      <td>63</td>\n",
       "      <td>71</td>\n",
       "      <td>119</td>\n",
       "    </tr>\n",
       "    <tr>\n",
       "      <th>Fake Fact</th>\n",
       "      <td>60</td>\n",
       "      <td>130</td>\n",
       "      <td>137</td>\n",
       "      <td>53</td>\n",
       "      <td>68</td>\n",
       "      <td>122</td>\n",
       "    </tr>\n",
       "    <tr>\n",
       "      <th>Framing</th>\n",
       "      <td>73</td>\n",
       "      <td>117</td>\n",
       "      <td>124</td>\n",
       "      <td>66</td>\n",
       "      <td>67</td>\n",
       "      <td>123</td>\n",
       "    </tr>\n",
       "    <tr>\n",
       "      <th>Summe</th>\n",
       "      <td>205</td>\n",
       "      <td>365</td>\n",
       "      <td>388</td>\n",
       "      <td>182</td>\n",
       "      <td>206</td>\n",
       "      <td>364</td>\n",
       "    </tr>\n",
       "  </tbody>\n",
       "</table>\n",
       "</div>"
      ],
      "text/plain": [
       "               vector_rag_antwort_manipuliert_bewertung_0  \\\n",
       "fake_news_art                                               \n",
       "Exaggeration                                           72   \n",
       "Fake Fact                                              60   \n",
       "Framing                                                73   \n",
       "Summe                                                 205   \n",
       "\n",
       "               vector_rag_antwort_manipuliert_bewertung_1  \\\n",
       "fake_news_art                                               \n",
       "Exaggeration                                          118   \n",
       "Fake Fact                                             130   \n",
       "Framing                                               117   \n",
       "Summe                                                 365   \n",
       "\n",
       "               graph_rag_antwort_manipuliert_bewertung_0  \\\n",
       "fake_news_art                                              \n",
       "Exaggeration                                         127   \n",
       "Fake Fact                                            137   \n",
       "Framing                                              124   \n",
       "Summe                                                388   \n",
       "\n",
       "               graph_rag_antwort_manipuliert_bewertung_1  \\\n",
       "fake_news_art                                              \n",
       "Exaggeration                                          63   \n",
       "Fake Fact                                             53   \n",
       "Framing                                               66   \n",
       "Summe                                                182   \n",
       "\n",
       "               hybrid_rag_antwort_manipuliert_bewertung_0  \\\n",
       "fake_news_art                                               \n",
       "Exaggeration                                           71   \n",
       "Fake Fact                                              68   \n",
       "Framing                                                67   \n",
       "Summe                                                 206   \n",
       "\n",
       "               hybrid_rag_antwort_manipuliert_bewertung_1  \n",
       "fake_news_art                                              \n",
       "Exaggeration                                          119  \n",
       "Fake Fact                                             122  \n",
       "Framing                                               123  \n",
       "Summe                                                 364  "
      ]
     },
     "execution_count": 14,
     "metadata": {},
     "output_type": "execute_result"
    }
   ],
   "source": [
    "df_erg_manip"
   ]
  },
  {
   "cell_type": "markdown",
   "id": "688bfa33",
   "metadata": {},
   "source": [
    "## Df mit den absoluten Resilience Rates erstellen"
   ]
  },
  {
   "cell_type": "markdown",
   "id": "7109b313",
   "metadata": {},
   "source": [
    "Formel für Berechnung in der BA"
   ]
  },
  {
   "cell_type": "markdown",
   "id": "07a7689d",
   "metadata": {},
   "source": [
    "**nach Fake news Art:** "
   ]
  },
  {
   "cell_type": "code",
   "execution_count": 17,
   "id": "bd73206c",
   "metadata": {},
   "outputs": [],
   "source": [
    "df_resilience_rate_by_type = pd.DataFrame({\n",
    "    \"VectorRAG\": df_erg_manip[\"vector_rag_antwort_manipuliert_bewertung_1\"] / \n",
    "                 (df_erg_manip[\"vector_rag_antwort_manipuliert_bewertung_0\"] + df_erg_manip[\"vector_rag_antwort_manipuliert_bewertung_1\"]),\n",
    "    \n",
    "    \"GraphRAG\": df_erg_manip[\"graph_rag_antwort_manipuliert_bewertung_1\"] / \n",
    "                (df_erg_manip[\"graph_rag_antwort_manipuliert_bewertung_0\"] + df_erg_manip[\"graph_rag_antwort_manipuliert_bewertung_1\"]),\n",
    "    \n",
    "    \"HybridRAG\": df_erg_manip[\"hybrid_rag_antwort_manipuliert_bewertung_1\"] / \n",
    "                 (df_erg_manip[\"hybrid_rag_antwort_manipuliert_bewertung_0\"] + df_erg_manip[\"hybrid_rag_antwort_manipuliert_bewertung_1\"])\n",
    "})"
   ]
  },
  {
   "cell_type": "code",
   "execution_count": 32,
   "id": "cf40ff6e",
   "metadata": {},
   "outputs": [
    {
     "data": {
      "text/html": [
       "<div>\n",
       "<style scoped>\n",
       "    .dataframe tbody tr th:only-of-type {\n",
       "        vertical-align: middle;\n",
       "    }\n",
       "\n",
       "    .dataframe tbody tr th {\n",
       "        vertical-align: top;\n",
       "    }\n",
       "\n",
       "    .dataframe thead th {\n",
       "        text-align: right;\n",
       "    }\n",
       "</style>\n",
       "<table border=\"1\" class=\"dataframe\">\n",
       "  <thead>\n",
       "    <tr style=\"text-align: right;\">\n",
       "      <th></th>\n",
       "      <th>VectorRAG</th>\n",
       "      <th>GraphRAG</th>\n",
       "      <th>HybridRAG</th>\n",
       "    </tr>\n",
       "    <tr>\n",
       "      <th>fake_news_art</th>\n",
       "      <th></th>\n",
       "      <th></th>\n",
       "      <th></th>\n",
       "    </tr>\n",
       "  </thead>\n",
       "  <tbody>\n",
       "    <tr>\n",
       "      <th>Exaggeration</th>\n",
       "      <td>0.621053</td>\n",
       "      <td>0.331579</td>\n",
       "      <td>0.626316</td>\n",
       "    </tr>\n",
       "    <tr>\n",
       "      <th>Fake Fact</th>\n",
       "      <td>0.684211</td>\n",
       "      <td>0.278947</td>\n",
       "      <td>0.642105</td>\n",
       "    </tr>\n",
       "    <tr>\n",
       "      <th>Framing</th>\n",
       "      <td>0.615789</td>\n",
       "      <td>0.347368</td>\n",
       "      <td>0.647368</td>\n",
       "    </tr>\n",
       "    <tr>\n",
       "      <th>Summe</th>\n",
       "      <td>0.640351</td>\n",
       "      <td>0.319298</td>\n",
       "      <td>0.638596</td>\n",
       "    </tr>\n",
       "  </tbody>\n",
       "</table>\n",
       "</div>"
      ],
      "text/plain": [
       "               VectorRAG  GraphRAG  HybridRAG\n",
       "fake_news_art                                \n",
       "Exaggeration    0.621053  0.331579   0.626316\n",
       "Fake Fact       0.684211  0.278947   0.642105\n",
       "Framing         0.615789  0.347368   0.647368\n",
       "Summe           0.640351  0.319298   0.638596"
      ]
     },
     "execution_count": 32,
     "metadata": {},
     "output_type": "execute_result"
    }
   ],
   "source": [
    "df_resilience_rate_by_type"
   ]
  },
  {
   "cell_type": "markdown",
   "id": "776d32db",
   "metadata": {},
   "source": [
    "**Gesamt:**"
   ]
  },
  {
   "cell_type": "code",
   "execution_count": 30,
   "id": "935c9805",
   "metadata": {},
   "outputs": [],
   "source": [
    "df_total = df_erg_manip.loc[\"Summe\"]\n",
    "\n",
    "total_resilience = pd.Series({\n",
    "    \"VectorRAG\": df_total[\"vector_rag_antwort_manipuliert_bewertung_1\"] / \n",
    "                 (df_total[\"vector_rag_antwort_manipuliert_bewertung_0\"] + df_total[\"vector_rag_antwort_manipuliert_bewertung_1\"]),\n",
    "    \n",
    "    \"GraphRAG\": df_total[\"graph_rag_antwort_manipuliert_bewertung_1\"] / \n",
    "                (df_total[\"graph_rag_antwort_manipuliert_bewertung_0\"] + df_total[\"graph_rag_antwort_manipuliert_bewertung_1\"]),\n",
    "    \n",
    "    \"HybridRAG\": df_total[\"hybrid_rag_antwort_manipuliert_bewertung_1\"] / \n",
    "                 (df_total[\"hybrid_rag_antwort_manipuliert_bewertung_0\"] + df_total[\"hybrid_rag_antwort_manipuliert_bewertung_1\"])\n",
    "}).round(3) * 100\n"
   ]
  },
  {
   "cell_type": "code",
   "execution_count": 31,
   "id": "125092fc",
   "metadata": {},
   "outputs": [
    {
     "data": {
      "text/plain": [
       "vector_rag_antwort_manipuliert_bewertung_0    205\n",
       "vector_rag_antwort_manipuliert_bewertung_1    365\n",
       "graph_rag_antwort_manipuliert_bewertung_0     388\n",
       "graph_rag_antwort_manipuliert_bewertung_1     182\n",
       "hybrid_rag_antwort_manipuliert_bewertung_0    206\n",
       "hybrid_rag_antwort_manipuliert_bewertung_1    364\n",
       "Name: Summe, dtype: int64"
      ]
     },
     "execution_count": 31,
     "metadata": {},
     "output_type": "execute_result"
    }
   ],
   "source": [
    "df_total"
   ]
  },
  {
   "cell_type": "code",
   "execution_count": 20,
   "metadata": {},
   "outputs": [],
   "source": [
    "total_resilience_absolut = pd.Series({\n",
    "    \"VectorRAG\": 365 / (205 + 365),\n",
    "    \"GraphRAG\": 182 / (388 + 182),\n",
    "    \"HybridRAG\": 364 / (206 + 364)\n",
    "}).round(3) * 100"
   ]
  },
  {
   "cell_type": "code",
   "execution_count": 21,
   "id": "d5ba94ee",
   "metadata": {},
   "outputs": [
    {
     "data": {
      "text/plain": [
       "VectorRAG    64.0\n",
       "GraphRAG     31.9\n",
       "HybridRAG    63.9\n",
       "dtype: float64"
      ]
     },
     "execution_count": 21,
     "metadata": {},
     "output_type": "execute_result"
    }
   ],
   "source": [
    "total_resilience_absolut"
   ]
  },
  {
   "cell_type": "code",
   "execution_count": 22,
   "id": "887df735",
   "metadata": {},
   "outputs": [],
   "source": [
    "data = {\n",
    "    \"System\": [\"VectorRAG\", \"HybridRAG\", \"GraphRAG\"],\n",
    "    \"Resilience Rate (%)\": [64.0, 63.9, 31.9]\n",
    "}\n",
    "df_absoulute_res_ges = pd.DataFrame(data)"
   ]
  },
  {
   "cell_type": "code",
   "execution_count": 33,
   "id": "322410b2",
   "metadata": {},
   "outputs": [
    {
     "data": {
      "text/html": [
       "<div>\n",
       "<style scoped>\n",
       "    .dataframe tbody tr th:only-of-type {\n",
       "        vertical-align: middle;\n",
       "    }\n",
       "\n",
       "    .dataframe tbody tr th {\n",
       "        vertical-align: top;\n",
       "    }\n",
       "\n",
       "    .dataframe thead th {\n",
       "        text-align: right;\n",
       "    }\n",
       "</style>\n",
       "<table border=\"1\" class=\"dataframe\">\n",
       "  <thead>\n",
       "    <tr style=\"text-align: right;\">\n",
       "      <th></th>\n",
       "      <th>System</th>\n",
       "      <th>Resilience Rate (%)</th>\n",
       "    </tr>\n",
       "  </thead>\n",
       "  <tbody>\n",
       "    <tr>\n",
       "      <th>0</th>\n",
       "      <td>VectorRAG</td>\n",
       "      <td>64.0</td>\n",
       "    </tr>\n",
       "    <tr>\n",
       "      <th>1</th>\n",
       "      <td>HybridRAG</td>\n",
       "      <td>63.9</td>\n",
       "    </tr>\n",
       "    <tr>\n",
       "      <th>2</th>\n",
       "      <td>GraphRAG</td>\n",
       "      <td>31.9</td>\n",
       "    </tr>\n",
       "  </tbody>\n",
       "</table>\n",
       "</div>"
      ],
      "text/plain": [
       "      System  Resilience Rate (%)\n",
       "0  VectorRAG                 64.0\n",
       "1  HybridRAG                 63.9\n",
       "2   GraphRAG                 31.9"
      ]
     },
     "execution_count": 33,
     "metadata": {},
     "output_type": "execute_result"
    }
   ],
   "source": [
    "df_absoulute_res_ges"
   ]
  },
  {
   "cell_type": "markdown",
   "id": "49467789",
   "metadata": {},
   "source": [
    "## relative resilience Rate"
   ]
  },
  {
   "cell_type": "markdown",
   "id": "82c55bff",
   "metadata": {},
   "source": [
    "**nur nach Systemen aufschlüsselbar** siehe BA"
   ]
  },
  {
   "cell_type": "code",
   "execution_count": 23,
   "id": "5f2f319d",
   "metadata": {},
   "outputs": [],
   "source": [
    "data_rel = {\n",
    "    \"System\" :[\"GraphRAG\",\"VectorRAG\",  \"HybridRAG\"],\n",
    "    \" Relative Resilience Rate (%)\": [100,80.0, 77.3]\n",
    "}\n",
    "df_relative_res = pd.DataFrame(data_rel)"
   ]
  },
  {
   "cell_type": "code",
   "execution_count": null,
   "id": "e7410263",
   "metadata": {},
   "outputs": [],
   "source": []
  },
  {
   "cell_type": "markdown",
   "id": "1d21cf61",
   "metadata": {},
   "source": [
    "# Erstellung der Diagramme mit Plotly express"
   ]
  },
  {
   "cell_type": "markdown",
   "id": "8ce97d70",
   "metadata": {},
   "source": [
    "**allgemeines Layout:**"
   ]
  },
  {
   "cell_type": "code",
   "execution_count": 25,
   "id": "73e1df90",
   "metadata": {},
   "outputs": [],
   "source": [
    " # Schaubilder erstellen\n",
    "\n",
    "import plotly.express as px\n",
    "\n",
    "df_plot_manip = df_erg_manip.drop(index=\"Summe\")\n",
    "# df in langes format\n",
    "df_long = df_plot_manip.reset_index().melt(id_vars=\"fake_news_art\", var_name=\"system_bewertung\", value_name=\"anzahl\")\n",
    "\n",
    "df_long[\"system\"] = df_long[\"system_bewertung\"].str.extract(r\"^(.*?)_bewertung\")\n",
    "df_long[\"bewertung\"] = df_long[\"system_bewertung\"].str.extract(r\"_(\\d)$\")\n",
    "\n",
    "df_vector = df_long[df_long[\"system\"] == \"vector_rag_antwort_manipuliert\"]\n",
    "df_graph = df_long[df_long[\"system\"] == \"graph_rag_antwort_manipuliert\"]\n",
    "df_hybrid = df_long[df_long[\"system\"] == \"hybrid_rag_antwort_manipuliert\"]\n",
    "\n",
    "\n",
    "layout_kwargs = dict(\n",
    "    width=800,\n",
    "    height=550,\n",
    "    plot_bgcolor='white',\n",
    "    paper_bgcolor='white',\n",
    "    title_font=dict(size=22, color=\"#5F5F5F\"),\n",
    "    font=dict(size=16, color=\"#5F5F5F\"),\n",
    "    margin=dict(t=100),\n",
    "    legend_title='Bewertung'\n",
    ")\n",
    "\n",
    "xaxis_kwargs = dict(ticks='', tickfont=dict(size=14))\n",
    "yaxis_kwargs = dict(gridcolor='lightgrey', ticks='', tickfont=dict(size=14), )\n",
    "\n",
    "color_map = {'0': \"#B3B3B3\", '1': \"#096CB3\"}\n",
    "\n",
    "color_map_system = {\n",
    "    \"VectorRAG\": \"#1f77b4\",\n",
    "    \"GraphRAG\": \"#ff7f0e\",\n",
    "    \"HybridRAG\": \"#949494\"\n",
    "}\n",
    "\n"
   ]
  },
  {
   "cell_type": "markdown",
   "id": "efd6cca6",
   "metadata": {},
   "source": [
    "**Absolute Resilience Rate nach Systemen**\n"
   ]
  },
  {
   "cell_type": "code",
   "execution_count": 26,
   "id": "99c27b8c",
   "metadata": {},
   "outputs": [
    {
     "data": {
      "application/vnd.plotly.v1+json": {
       "config": {
        "plotlyServerURL": "https://plot.ly"
       },
       "data": [
        {
         "hovertemplate": "System=%{y}<br>Resilience Rate (%)=%{text}<extra></extra>",
         "legendgroup": "VectorRAG",
         "marker": {
          "color": "#1f77b4",
          "pattern": {
           "shape": ""
          }
         },
         "name": "VectorRAG",
         "orientation": "h",
         "showlegend": true,
         "text": {
          "bdata": "AAAAAAAAUEA=",
          "dtype": "f8"
         },
         "textposition": "outside",
         "type": "bar",
         "x": {
          "bdata": "AAAAAAAAUEA=",
          "dtype": "f8"
         },
         "xaxis": "x",
         "y": [
          "VectorRAG"
         ],
         "yaxis": "y"
        },
        {
         "hovertemplate": "System=%{y}<br>Resilience Rate (%)=%{text}<extra></extra>",
         "legendgroup": "HybridRAG",
         "marker": {
          "color": "#949494",
          "pattern": {
           "shape": ""
          }
         },
         "name": "HybridRAG",
         "orientation": "h",
         "showlegend": true,
         "text": {
          "bdata": "MzMzMzPzT0A=",
          "dtype": "f8"
         },
         "textposition": "outside",
         "type": "bar",
         "x": {
          "bdata": "MzMzMzPzT0A=",
          "dtype": "f8"
         },
         "xaxis": "x",
         "y": [
          "HybridRAG"
         ],
         "yaxis": "y"
        },
        {
         "hovertemplate": "System=%{y}<br>Resilience Rate (%)=%{text}<extra></extra>",
         "legendgroup": "GraphRAG",
         "marker": {
          "color": "#ff7f0e",
          "pattern": {
           "shape": ""
          }
         },
         "name": "GraphRAG",
         "orientation": "h",
         "showlegend": true,
         "text": {
          "bdata": "ZmZmZmbmP0A=",
          "dtype": "f8"
         },
         "textposition": "outside",
         "type": "bar",
         "x": {
          "bdata": "ZmZmZmbmP0A=",
          "dtype": "f8"
         },
         "xaxis": "x",
         "y": [
          "GraphRAG"
         ],
         "yaxis": "y"
        }
       ],
       "layout": {
        "barmode": "relative",
        "font": {
         "color": "#5F5F5F",
         "size": 16
        },
        "height": 550,
        "legend": {
         "title": {
          "text": "Bewertung"
         },
         "tracegroupgap": 0
        },
        "margin": {
         "t": 100
        },
        "paper_bgcolor": "white",
        "plot_bgcolor": "white",
        "template": {
         "data": {
          "bar": [
           {
            "error_x": {
             "color": "#2a3f5f"
            },
            "error_y": {
             "color": "#2a3f5f"
            },
            "marker": {
             "line": {
              "color": "#E5ECF6",
              "width": 0.5
             },
             "pattern": {
              "fillmode": "overlay",
              "size": 10,
              "solidity": 0.2
             }
            },
            "type": "bar"
           }
          ],
          "barpolar": [
           {
            "marker": {
             "line": {
              "color": "#E5ECF6",
              "width": 0.5
             },
             "pattern": {
              "fillmode": "overlay",
              "size": 10,
              "solidity": 0.2
             }
            },
            "type": "barpolar"
           }
          ],
          "carpet": [
           {
            "aaxis": {
             "endlinecolor": "#2a3f5f",
             "gridcolor": "white",
             "linecolor": "white",
             "minorgridcolor": "white",
             "startlinecolor": "#2a3f5f"
            },
            "baxis": {
             "endlinecolor": "#2a3f5f",
             "gridcolor": "white",
             "linecolor": "white",
             "minorgridcolor": "white",
             "startlinecolor": "#2a3f5f"
            },
            "type": "carpet"
           }
          ],
          "choropleth": [
           {
            "colorbar": {
             "outlinewidth": 0,
             "ticks": ""
            },
            "type": "choropleth"
           }
          ],
          "contour": [
           {
            "colorbar": {
             "outlinewidth": 0,
             "ticks": ""
            },
            "colorscale": [
             [
              0,
              "#0d0887"
             ],
             [
              0.1111111111111111,
              "#46039f"
             ],
             [
              0.2222222222222222,
              "#7201a8"
             ],
             [
              0.3333333333333333,
              "#9c179e"
             ],
             [
              0.4444444444444444,
              "#bd3786"
             ],
             [
              0.5555555555555556,
              "#d8576b"
             ],
             [
              0.6666666666666666,
              "#ed7953"
             ],
             [
              0.7777777777777778,
              "#fb9f3a"
             ],
             [
              0.8888888888888888,
              "#fdca26"
             ],
             [
              1,
              "#f0f921"
             ]
            ],
            "type": "contour"
           }
          ],
          "contourcarpet": [
           {
            "colorbar": {
             "outlinewidth": 0,
             "ticks": ""
            },
            "type": "contourcarpet"
           }
          ],
          "heatmap": [
           {
            "colorbar": {
             "outlinewidth": 0,
             "ticks": ""
            },
            "colorscale": [
             [
              0,
              "#0d0887"
             ],
             [
              0.1111111111111111,
              "#46039f"
             ],
             [
              0.2222222222222222,
              "#7201a8"
             ],
             [
              0.3333333333333333,
              "#9c179e"
             ],
             [
              0.4444444444444444,
              "#bd3786"
             ],
             [
              0.5555555555555556,
              "#d8576b"
             ],
             [
              0.6666666666666666,
              "#ed7953"
             ],
             [
              0.7777777777777778,
              "#fb9f3a"
             ],
             [
              0.8888888888888888,
              "#fdca26"
             ],
             [
              1,
              "#f0f921"
             ]
            ],
            "type": "heatmap"
           }
          ],
          "histogram": [
           {
            "marker": {
             "pattern": {
              "fillmode": "overlay",
              "size": 10,
              "solidity": 0.2
             }
            },
            "type": "histogram"
           }
          ],
          "histogram2d": [
           {
            "colorbar": {
             "outlinewidth": 0,
             "ticks": ""
            },
            "colorscale": [
             [
              0,
              "#0d0887"
             ],
             [
              0.1111111111111111,
              "#46039f"
             ],
             [
              0.2222222222222222,
              "#7201a8"
             ],
             [
              0.3333333333333333,
              "#9c179e"
             ],
             [
              0.4444444444444444,
              "#bd3786"
             ],
             [
              0.5555555555555556,
              "#d8576b"
             ],
             [
              0.6666666666666666,
              "#ed7953"
             ],
             [
              0.7777777777777778,
              "#fb9f3a"
             ],
             [
              0.8888888888888888,
              "#fdca26"
             ],
             [
              1,
              "#f0f921"
             ]
            ],
            "type": "histogram2d"
           }
          ],
          "histogram2dcontour": [
           {
            "colorbar": {
             "outlinewidth": 0,
             "ticks": ""
            },
            "colorscale": [
             [
              0,
              "#0d0887"
             ],
             [
              0.1111111111111111,
              "#46039f"
             ],
             [
              0.2222222222222222,
              "#7201a8"
             ],
             [
              0.3333333333333333,
              "#9c179e"
             ],
             [
              0.4444444444444444,
              "#bd3786"
             ],
             [
              0.5555555555555556,
              "#d8576b"
             ],
             [
              0.6666666666666666,
              "#ed7953"
             ],
             [
              0.7777777777777778,
              "#fb9f3a"
             ],
             [
              0.8888888888888888,
              "#fdca26"
             ],
             [
              1,
              "#f0f921"
             ]
            ],
            "type": "histogram2dcontour"
           }
          ],
          "mesh3d": [
           {
            "colorbar": {
             "outlinewidth": 0,
             "ticks": ""
            },
            "type": "mesh3d"
           }
          ],
          "parcoords": [
           {
            "line": {
             "colorbar": {
              "outlinewidth": 0,
              "ticks": ""
             }
            },
            "type": "parcoords"
           }
          ],
          "pie": [
           {
            "automargin": true,
            "type": "pie"
           }
          ],
          "scatter": [
           {
            "fillpattern": {
             "fillmode": "overlay",
             "size": 10,
             "solidity": 0.2
            },
            "type": "scatter"
           }
          ],
          "scatter3d": [
           {
            "line": {
             "colorbar": {
              "outlinewidth": 0,
              "ticks": ""
             }
            },
            "marker": {
             "colorbar": {
              "outlinewidth": 0,
              "ticks": ""
             }
            },
            "type": "scatter3d"
           }
          ],
          "scattercarpet": [
           {
            "marker": {
             "colorbar": {
              "outlinewidth": 0,
              "ticks": ""
             }
            },
            "type": "scattercarpet"
           }
          ],
          "scattergeo": [
           {
            "marker": {
             "colorbar": {
              "outlinewidth": 0,
              "ticks": ""
             }
            },
            "type": "scattergeo"
           }
          ],
          "scattergl": [
           {
            "marker": {
             "colorbar": {
              "outlinewidth": 0,
              "ticks": ""
             }
            },
            "type": "scattergl"
           }
          ],
          "scattermap": [
           {
            "marker": {
             "colorbar": {
              "outlinewidth": 0,
              "ticks": ""
             }
            },
            "type": "scattermap"
           }
          ],
          "scattermapbox": [
           {
            "marker": {
             "colorbar": {
              "outlinewidth": 0,
              "ticks": ""
             }
            },
            "type": "scattermapbox"
           }
          ],
          "scatterpolar": [
           {
            "marker": {
             "colorbar": {
              "outlinewidth": 0,
              "ticks": ""
             }
            },
            "type": "scatterpolar"
           }
          ],
          "scatterpolargl": [
           {
            "marker": {
             "colorbar": {
              "outlinewidth": 0,
              "ticks": ""
             }
            },
            "type": "scatterpolargl"
           }
          ],
          "scatterternary": [
           {
            "marker": {
             "colorbar": {
              "outlinewidth": 0,
              "ticks": ""
             }
            },
            "type": "scatterternary"
           }
          ],
          "surface": [
           {
            "colorbar": {
             "outlinewidth": 0,
             "ticks": ""
            },
            "colorscale": [
             [
              0,
              "#0d0887"
             ],
             [
              0.1111111111111111,
              "#46039f"
             ],
             [
              0.2222222222222222,
              "#7201a8"
             ],
             [
              0.3333333333333333,
              "#9c179e"
             ],
             [
              0.4444444444444444,
              "#bd3786"
             ],
             [
              0.5555555555555556,
              "#d8576b"
             ],
             [
              0.6666666666666666,
              "#ed7953"
             ],
             [
              0.7777777777777778,
              "#fb9f3a"
             ],
             [
              0.8888888888888888,
              "#fdca26"
             ],
             [
              1,
              "#f0f921"
             ]
            ],
            "type": "surface"
           }
          ],
          "table": [
           {
            "cells": {
             "fill": {
              "color": "#EBF0F8"
             },
             "line": {
              "color": "white"
             }
            },
            "header": {
             "fill": {
              "color": "#C8D4E3"
             },
             "line": {
              "color": "white"
             }
            },
            "type": "table"
           }
          ]
         },
         "layout": {
          "annotationdefaults": {
           "arrowcolor": "#2a3f5f",
           "arrowhead": 0,
           "arrowwidth": 1
          },
          "autotypenumbers": "strict",
          "coloraxis": {
           "colorbar": {
            "outlinewidth": 0,
            "ticks": ""
           }
          },
          "colorscale": {
           "diverging": [
            [
             0,
             "#8e0152"
            ],
            [
             0.1,
             "#c51b7d"
            ],
            [
             0.2,
             "#de77ae"
            ],
            [
             0.3,
             "#f1b6da"
            ],
            [
             0.4,
             "#fde0ef"
            ],
            [
             0.5,
             "#f7f7f7"
            ],
            [
             0.6,
             "#e6f5d0"
            ],
            [
             0.7,
             "#b8e186"
            ],
            [
             0.8,
             "#7fbc41"
            ],
            [
             0.9,
             "#4d9221"
            ],
            [
             1,
             "#276419"
            ]
           ],
           "sequential": [
            [
             0,
             "#0d0887"
            ],
            [
             0.1111111111111111,
             "#46039f"
            ],
            [
             0.2222222222222222,
             "#7201a8"
            ],
            [
             0.3333333333333333,
             "#9c179e"
            ],
            [
             0.4444444444444444,
             "#bd3786"
            ],
            [
             0.5555555555555556,
             "#d8576b"
            ],
            [
             0.6666666666666666,
             "#ed7953"
            ],
            [
             0.7777777777777778,
             "#fb9f3a"
            ],
            [
             0.8888888888888888,
             "#fdca26"
            ],
            [
             1,
             "#f0f921"
            ]
           ],
           "sequentialminus": [
            [
             0,
             "#0d0887"
            ],
            [
             0.1111111111111111,
             "#46039f"
            ],
            [
             0.2222222222222222,
             "#7201a8"
            ],
            [
             0.3333333333333333,
             "#9c179e"
            ],
            [
             0.4444444444444444,
             "#bd3786"
            ],
            [
             0.5555555555555556,
             "#d8576b"
            ],
            [
             0.6666666666666666,
             "#ed7953"
            ],
            [
             0.7777777777777778,
             "#fb9f3a"
            ],
            [
             0.8888888888888888,
             "#fdca26"
            ],
            [
             1,
             "#f0f921"
            ]
           ]
          },
          "colorway": [
           "#636efa",
           "#EF553B",
           "#00cc96",
           "#ab63fa",
           "#FFA15A",
           "#19d3f3",
           "#FF6692",
           "#B6E880",
           "#FF97FF",
           "#FECB52"
          ],
          "font": {
           "color": "#2a3f5f"
          },
          "geo": {
           "bgcolor": "white",
           "lakecolor": "white",
           "landcolor": "#E5ECF6",
           "showlakes": true,
           "showland": true,
           "subunitcolor": "white"
          },
          "hoverlabel": {
           "align": "left"
          },
          "hovermode": "closest",
          "mapbox": {
           "style": "light"
          },
          "paper_bgcolor": "white",
          "plot_bgcolor": "#E5ECF6",
          "polar": {
           "angularaxis": {
            "gridcolor": "white",
            "linecolor": "white",
            "ticks": ""
           },
           "bgcolor": "#E5ECF6",
           "radialaxis": {
            "gridcolor": "white",
            "linecolor": "white",
            "ticks": ""
           }
          },
          "scene": {
           "xaxis": {
            "backgroundcolor": "#E5ECF6",
            "gridcolor": "white",
            "gridwidth": 2,
            "linecolor": "white",
            "showbackground": true,
            "ticks": "",
            "zerolinecolor": "white"
           },
           "yaxis": {
            "backgroundcolor": "#E5ECF6",
            "gridcolor": "white",
            "gridwidth": 2,
            "linecolor": "white",
            "showbackground": true,
            "ticks": "",
            "zerolinecolor": "white"
           },
           "zaxis": {
            "backgroundcolor": "#E5ECF6",
            "gridcolor": "white",
            "gridwidth": 2,
            "linecolor": "white",
            "showbackground": true,
            "ticks": "",
            "zerolinecolor": "white"
           }
          },
          "shapedefaults": {
           "line": {
            "color": "#2a3f5f"
           }
          },
          "ternary": {
           "aaxis": {
            "gridcolor": "white",
            "linecolor": "white",
            "ticks": ""
           },
           "baxis": {
            "gridcolor": "white",
            "linecolor": "white",
            "ticks": ""
           },
           "bgcolor": "#E5ECF6",
           "caxis": {
            "gridcolor": "white",
            "linecolor": "white",
            "ticks": ""
           }
          },
          "title": {
           "x": 0.05
          },
          "xaxis": {
           "automargin": true,
           "gridcolor": "white",
           "linecolor": "white",
           "ticks": "",
           "title": {
            "standoff": 15
           },
           "zerolinecolor": "white",
           "zerolinewidth": 2
          },
          "yaxis": {
           "automargin": true,
           "gridcolor": "white",
           "linecolor": "white",
           "ticks": "",
           "title": {
            "standoff": 15
           },
           "zerolinecolor": "white",
           "zerolinewidth": 2
          }
         }
        },
        "title": {
         "font": {
          "color": "#5F5F5F",
          "size": 22
         },
         "text": "Absolute Resilience Rate der Systeme",
         "x": 0,
         "xanchor": "left"
        },
        "width": 800,
        "xaxis": {
         "anchor": "y",
         "domain": [
          0,
          1
         ],
         "linecolor": "#5F5F5F",
         "range": [
          0,
          70
         ],
         "showgrid": false,
         "showline": true,
         "tickfont": {
          "size": 14
         },
         "ticks": "",
         "title": {
          "text": "Resilience Rate (%)"
         }
        },
        "yaxis": {
         "anchor": "x",
         "categoryarray": [
          "GraphRAG",
          "HybridRAG",
          "VectorRAG"
         ],
         "categoryorder": "array",
         "domain": [
          0,
          1
         ],
         "gridcolor": "lightgrey",
         "linecolor": "#5F5F5F",
         "showgrid": false,
         "showline": true,
         "tickfont": {
          "size": 14
         },
         "ticks": "",
         "title": {
          "text": "RAG-System"
         }
        }
       }
      }
     },
     "metadata": {},
     "output_type": "display_data"
    }
   ],
   "source": [
    "\n",
    "\n",
    "fig_ges_res = px.bar(\n",
    "    df_absoulute_res_ges,\n",
    "    x=\"Resilience Rate (%)\",\n",
    "    y=\"System\",\n",
    "    color=\"System\",\n",
    "    text=\"Resilience Rate (%)\",\n",
    "    title=\"Absolute Resilience Rate der Systeme\",\n",
    "    color_discrete_map=color_map_system,\n",
    "    orientation=\"h\"\n",
    ")\n",
    "\n",
    "fig_ges_res.update_layout(\n",
    "    title=dict(text=fig_ges_res.layout.title.text, x=0, xanchor='left'),\n",
    "    xaxis_title=\"Resilience Rate (%)\",  \n",
    "    yaxis_title=\"RAG-System\",\n",
    "    **layout_kwargs\n",
    ")\n",
    "fig_ges_res.update_xaxes(\n",
    "    showgrid=False,\n",
    "    showline=True,\n",
    "    linecolor='#5F5F5F',\n",
    "    range=[0, 70],\n",
    "    **xaxis_kwargs\n",
    ")\n",
    "\n",
    "fig_ges_res.update_yaxes(\n",
    "    showgrid=False,\n",
    "    showline=True,\n",
    "    linecolor='#5F5F5F',\n",
    "    \n",
    "    **yaxis_kwargs\n",
    ")\n",
    "\n",
    "fig_ges_res.update_traces(textposition=\"outside\")"
   ]
  },
  {
   "cell_type": "markdown",
   "id": "456c9467",
   "metadata": {},
   "source": [
    "**Schaubild zur realtiven Resilience Rate der Systeme**"
   ]
  },
  {
   "cell_type": "code",
   "execution_count": 34,
   "id": "baf8c113",
   "metadata": {},
   "outputs": [
    {
     "data": {
      "application/vnd.plotly.v1+json": {
       "config": {
        "plotlyServerURL": "https://plot.ly"
       },
       "data": [
        {
         "hovertemplate": "System=%{y}<br>Relative Resilience Rate (%)=%{text}<extra></extra>",
         "legendgroup": "GraphRAG",
         "marker": {
          "color": "#ff7f0e",
          "pattern": {
           "shape": ""
          }
         },
         "name": "GraphRAG",
         "orientation": "h",
         "showlegend": true,
         "text": {
          "bdata": "AAAAAAAAWUA=",
          "dtype": "f8"
         },
         "textposition": "outside",
         "type": "bar",
         "x": {
          "bdata": "AAAAAAAAWUA=",
          "dtype": "f8"
         },
         "xaxis": "x",
         "y": [
          "GraphRAG"
         ],
         "yaxis": "y"
        },
        {
         "hovertemplate": "System=%{y}<br>Relative Resilience Rate (%)=%{text}<extra></extra>",
         "legendgroup": "VectorRAG",
         "marker": {
          "color": "#1f77b4",
          "pattern": {
           "shape": ""
          }
         },
         "name": "VectorRAG",
         "orientation": "h",
         "showlegend": true,
         "text": {
          "bdata": "AAAAAAAAVEA=",
          "dtype": "f8"
         },
         "textposition": "outside",
         "type": "bar",
         "x": {
          "bdata": "AAAAAAAAVEA=",
          "dtype": "f8"
         },
         "xaxis": "x",
         "y": [
          "VectorRAG"
         ],
         "yaxis": "y"
        },
        {
         "hovertemplate": "System=%{y}<br>Relative Resilience Rate (%)=%{text}<extra></extra>",
         "legendgroup": "HybridRAG",
         "marker": {
          "color": "#949494",
          "pattern": {
           "shape": ""
          }
         },
         "name": "HybridRAG",
         "orientation": "h",
         "showlegend": true,
         "text": {
          "bdata": "MzMzMzNTU0A=",
          "dtype": "f8"
         },
         "textposition": "outside",
         "type": "bar",
         "x": {
          "bdata": "MzMzMzNTU0A=",
          "dtype": "f8"
         },
         "xaxis": "x",
         "y": [
          "HybridRAG"
         ],
         "yaxis": "y"
        }
       ],
       "layout": {
        "barmode": "relative",
        "font": {
         "color": "#5F5F5F",
         "size": 16
        },
        "height": 550,
        "legend": {
         "title": {
          "text": "Bewertung"
         },
         "tracegroupgap": 0
        },
        "margin": {
         "t": 100
        },
        "paper_bgcolor": "white",
        "plot_bgcolor": "white",
        "template": {
         "data": {
          "bar": [
           {
            "error_x": {
             "color": "#2a3f5f"
            },
            "error_y": {
             "color": "#2a3f5f"
            },
            "marker": {
             "line": {
              "color": "#E5ECF6",
              "width": 0.5
             },
             "pattern": {
              "fillmode": "overlay",
              "size": 10,
              "solidity": 0.2
             }
            },
            "type": "bar"
           }
          ],
          "barpolar": [
           {
            "marker": {
             "line": {
              "color": "#E5ECF6",
              "width": 0.5
             },
             "pattern": {
              "fillmode": "overlay",
              "size": 10,
              "solidity": 0.2
             }
            },
            "type": "barpolar"
           }
          ],
          "carpet": [
           {
            "aaxis": {
             "endlinecolor": "#2a3f5f",
             "gridcolor": "white",
             "linecolor": "white",
             "minorgridcolor": "white",
             "startlinecolor": "#2a3f5f"
            },
            "baxis": {
             "endlinecolor": "#2a3f5f",
             "gridcolor": "white",
             "linecolor": "white",
             "minorgridcolor": "white",
             "startlinecolor": "#2a3f5f"
            },
            "type": "carpet"
           }
          ],
          "choropleth": [
           {
            "colorbar": {
             "outlinewidth": 0,
             "ticks": ""
            },
            "type": "choropleth"
           }
          ],
          "contour": [
           {
            "colorbar": {
             "outlinewidth": 0,
             "ticks": ""
            },
            "colorscale": [
             [
              0,
              "#0d0887"
             ],
             [
              0.1111111111111111,
              "#46039f"
             ],
             [
              0.2222222222222222,
              "#7201a8"
             ],
             [
              0.3333333333333333,
              "#9c179e"
             ],
             [
              0.4444444444444444,
              "#bd3786"
             ],
             [
              0.5555555555555556,
              "#d8576b"
             ],
             [
              0.6666666666666666,
              "#ed7953"
             ],
             [
              0.7777777777777778,
              "#fb9f3a"
             ],
             [
              0.8888888888888888,
              "#fdca26"
             ],
             [
              1,
              "#f0f921"
             ]
            ],
            "type": "contour"
           }
          ],
          "contourcarpet": [
           {
            "colorbar": {
             "outlinewidth": 0,
             "ticks": ""
            },
            "type": "contourcarpet"
           }
          ],
          "heatmap": [
           {
            "colorbar": {
             "outlinewidth": 0,
             "ticks": ""
            },
            "colorscale": [
             [
              0,
              "#0d0887"
             ],
             [
              0.1111111111111111,
              "#46039f"
             ],
             [
              0.2222222222222222,
              "#7201a8"
             ],
             [
              0.3333333333333333,
              "#9c179e"
             ],
             [
              0.4444444444444444,
              "#bd3786"
             ],
             [
              0.5555555555555556,
              "#d8576b"
             ],
             [
              0.6666666666666666,
              "#ed7953"
             ],
             [
              0.7777777777777778,
              "#fb9f3a"
             ],
             [
              0.8888888888888888,
              "#fdca26"
             ],
             [
              1,
              "#f0f921"
             ]
            ],
            "type": "heatmap"
           }
          ],
          "histogram": [
           {
            "marker": {
             "pattern": {
              "fillmode": "overlay",
              "size": 10,
              "solidity": 0.2
             }
            },
            "type": "histogram"
           }
          ],
          "histogram2d": [
           {
            "colorbar": {
             "outlinewidth": 0,
             "ticks": ""
            },
            "colorscale": [
             [
              0,
              "#0d0887"
             ],
             [
              0.1111111111111111,
              "#46039f"
             ],
             [
              0.2222222222222222,
              "#7201a8"
             ],
             [
              0.3333333333333333,
              "#9c179e"
             ],
             [
              0.4444444444444444,
              "#bd3786"
             ],
             [
              0.5555555555555556,
              "#d8576b"
             ],
             [
              0.6666666666666666,
              "#ed7953"
             ],
             [
              0.7777777777777778,
              "#fb9f3a"
             ],
             [
              0.8888888888888888,
              "#fdca26"
             ],
             [
              1,
              "#f0f921"
             ]
            ],
            "type": "histogram2d"
           }
          ],
          "histogram2dcontour": [
           {
            "colorbar": {
             "outlinewidth": 0,
             "ticks": ""
            },
            "colorscale": [
             [
              0,
              "#0d0887"
             ],
             [
              0.1111111111111111,
              "#46039f"
             ],
             [
              0.2222222222222222,
              "#7201a8"
             ],
             [
              0.3333333333333333,
              "#9c179e"
             ],
             [
              0.4444444444444444,
              "#bd3786"
             ],
             [
              0.5555555555555556,
              "#d8576b"
             ],
             [
              0.6666666666666666,
              "#ed7953"
             ],
             [
              0.7777777777777778,
              "#fb9f3a"
             ],
             [
              0.8888888888888888,
              "#fdca26"
             ],
             [
              1,
              "#f0f921"
             ]
            ],
            "type": "histogram2dcontour"
           }
          ],
          "mesh3d": [
           {
            "colorbar": {
             "outlinewidth": 0,
             "ticks": ""
            },
            "type": "mesh3d"
           }
          ],
          "parcoords": [
           {
            "line": {
             "colorbar": {
              "outlinewidth": 0,
              "ticks": ""
             }
            },
            "type": "parcoords"
           }
          ],
          "pie": [
           {
            "automargin": true,
            "type": "pie"
           }
          ],
          "scatter": [
           {
            "fillpattern": {
             "fillmode": "overlay",
             "size": 10,
             "solidity": 0.2
            },
            "type": "scatter"
           }
          ],
          "scatter3d": [
           {
            "line": {
             "colorbar": {
              "outlinewidth": 0,
              "ticks": ""
             }
            },
            "marker": {
             "colorbar": {
              "outlinewidth": 0,
              "ticks": ""
             }
            },
            "type": "scatter3d"
           }
          ],
          "scattercarpet": [
           {
            "marker": {
             "colorbar": {
              "outlinewidth": 0,
              "ticks": ""
             }
            },
            "type": "scattercarpet"
           }
          ],
          "scattergeo": [
           {
            "marker": {
             "colorbar": {
              "outlinewidth": 0,
              "ticks": ""
             }
            },
            "type": "scattergeo"
           }
          ],
          "scattergl": [
           {
            "marker": {
             "colorbar": {
              "outlinewidth": 0,
              "ticks": ""
             }
            },
            "type": "scattergl"
           }
          ],
          "scattermap": [
           {
            "marker": {
             "colorbar": {
              "outlinewidth": 0,
              "ticks": ""
             }
            },
            "type": "scattermap"
           }
          ],
          "scattermapbox": [
           {
            "marker": {
             "colorbar": {
              "outlinewidth": 0,
              "ticks": ""
             }
            },
            "type": "scattermapbox"
           }
          ],
          "scatterpolar": [
           {
            "marker": {
             "colorbar": {
              "outlinewidth": 0,
              "ticks": ""
             }
            },
            "type": "scatterpolar"
           }
          ],
          "scatterpolargl": [
           {
            "marker": {
             "colorbar": {
              "outlinewidth": 0,
              "ticks": ""
             }
            },
            "type": "scatterpolargl"
           }
          ],
          "scatterternary": [
           {
            "marker": {
             "colorbar": {
              "outlinewidth": 0,
              "ticks": ""
             }
            },
            "type": "scatterternary"
           }
          ],
          "surface": [
           {
            "colorbar": {
             "outlinewidth": 0,
             "ticks": ""
            },
            "colorscale": [
             [
              0,
              "#0d0887"
             ],
             [
              0.1111111111111111,
              "#46039f"
             ],
             [
              0.2222222222222222,
              "#7201a8"
             ],
             [
              0.3333333333333333,
              "#9c179e"
             ],
             [
              0.4444444444444444,
              "#bd3786"
             ],
             [
              0.5555555555555556,
              "#d8576b"
             ],
             [
              0.6666666666666666,
              "#ed7953"
             ],
             [
              0.7777777777777778,
              "#fb9f3a"
             ],
             [
              0.8888888888888888,
              "#fdca26"
             ],
             [
              1,
              "#f0f921"
             ]
            ],
            "type": "surface"
           }
          ],
          "table": [
           {
            "cells": {
             "fill": {
              "color": "#EBF0F8"
             },
             "line": {
              "color": "white"
             }
            },
            "header": {
             "fill": {
              "color": "#C8D4E3"
             },
             "line": {
              "color": "white"
             }
            },
            "type": "table"
           }
          ]
         },
         "layout": {
          "annotationdefaults": {
           "arrowcolor": "#2a3f5f",
           "arrowhead": 0,
           "arrowwidth": 1
          },
          "autotypenumbers": "strict",
          "coloraxis": {
           "colorbar": {
            "outlinewidth": 0,
            "ticks": ""
           }
          },
          "colorscale": {
           "diverging": [
            [
             0,
             "#8e0152"
            ],
            [
             0.1,
             "#c51b7d"
            ],
            [
             0.2,
             "#de77ae"
            ],
            [
             0.3,
             "#f1b6da"
            ],
            [
             0.4,
             "#fde0ef"
            ],
            [
             0.5,
             "#f7f7f7"
            ],
            [
             0.6,
             "#e6f5d0"
            ],
            [
             0.7,
             "#b8e186"
            ],
            [
             0.8,
             "#7fbc41"
            ],
            [
             0.9,
             "#4d9221"
            ],
            [
             1,
             "#276419"
            ]
           ],
           "sequential": [
            [
             0,
             "#0d0887"
            ],
            [
             0.1111111111111111,
             "#46039f"
            ],
            [
             0.2222222222222222,
             "#7201a8"
            ],
            [
             0.3333333333333333,
             "#9c179e"
            ],
            [
             0.4444444444444444,
             "#bd3786"
            ],
            [
             0.5555555555555556,
             "#d8576b"
            ],
            [
             0.6666666666666666,
             "#ed7953"
            ],
            [
             0.7777777777777778,
             "#fb9f3a"
            ],
            [
             0.8888888888888888,
             "#fdca26"
            ],
            [
             1,
             "#f0f921"
            ]
           ],
           "sequentialminus": [
            [
             0,
             "#0d0887"
            ],
            [
             0.1111111111111111,
             "#46039f"
            ],
            [
             0.2222222222222222,
             "#7201a8"
            ],
            [
             0.3333333333333333,
             "#9c179e"
            ],
            [
             0.4444444444444444,
             "#bd3786"
            ],
            [
             0.5555555555555556,
             "#d8576b"
            ],
            [
             0.6666666666666666,
             "#ed7953"
            ],
            [
             0.7777777777777778,
             "#fb9f3a"
            ],
            [
             0.8888888888888888,
             "#fdca26"
            ],
            [
             1,
             "#f0f921"
            ]
           ]
          },
          "colorway": [
           "#636efa",
           "#EF553B",
           "#00cc96",
           "#ab63fa",
           "#FFA15A",
           "#19d3f3",
           "#FF6692",
           "#B6E880",
           "#FF97FF",
           "#FECB52"
          ],
          "font": {
           "color": "#2a3f5f"
          },
          "geo": {
           "bgcolor": "white",
           "lakecolor": "white",
           "landcolor": "#E5ECF6",
           "showlakes": true,
           "showland": true,
           "subunitcolor": "white"
          },
          "hoverlabel": {
           "align": "left"
          },
          "hovermode": "closest",
          "mapbox": {
           "style": "light"
          },
          "paper_bgcolor": "white",
          "plot_bgcolor": "#E5ECF6",
          "polar": {
           "angularaxis": {
            "gridcolor": "white",
            "linecolor": "white",
            "ticks": ""
           },
           "bgcolor": "#E5ECF6",
           "radialaxis": {
            "gridcolor": "white",
            "linecolor": "white",
            "ticks": ""
           }
          },
          "scene": {
           "xaxis": {
            "backgroundcolor": "#E5ECF6",
            "gridcolor": "white",
            "gridwidth": 2,
            "linecolor": "white",
            "showbackground": true,
            "ticks": "",
            "zerolinecolor": "white"
           },
           "yaxis": {
            "backgroundcolor": "#E5ECF6",
            "gridcolor": "white",
            "gridwidth": 2,
            "linecolor": "white",
            "showbackground": true,
            "ticks": "",
            "zerolinecolor": "white"
           },
           "zaxis": {
            "backgroundcolor": "#E5ECF6",
            "gridcolor": "white",
            "gridwidth": 2,
            "linecolor": "white",
            "showbackground": true,
            "ticks": "",
            "zerolinecolor": "white"
           }
          },
          "shapedefaults": {
           "line": {
            "color": "#2a3f5f"
           }
          },
          "ternary": {
           "aaxis": {
            "gridcolor": "white",
            "linecolor": "white",
            "ticks": ""
           },
           "baxis": {
            "gridcolor": "white",
            "linecolor": "white",
            "ticks": ""
           },
           "bgcolor": "#E5ECF6",
           "caxis": {
            "gridcolor": "white",
            "linecolor": "white",
            "ticks": ""
           }
          },
          "title": {
           "x": 0.05
          },
          "xaxis": {
           "automargin": true,
           "gridcolor": "white",
           "linecolor": "white",
           "ticks": "",
           "title": {
            "standoff": 15
           },
           "zerolinecolor": "white",
           "zerolinewidth": 2
          },
          "yaxis": {
           "automargin": true,
           "gridcolor": "white",
           "linecolor": "white",
           "ticks": "",
           "title": {
            "standoff": 15
           },
           "zerolinecolor": "white",
           "zerolinewidth": 2
          }
         }
        },
        "title": {
         "font": {
          "color": "#5F5F5F",
          "size": 22
         },
         "text": "Relative Resilience Rate der Systeme",
         "x": 0,
         "xanchor": "left"
        },
        "width": 800,
        "xaxis": {
         "anchor": "y",
         "domain": [
          0,
          1
         ],
         "linecolor": "#5F5F5F",
         "range": [
          0,
          110
         ],
         "showgrid": false,
         "showline": true,
         "tickfont": {
          "size": 14
         },
         "ticks": "",
         "title": {
          "text": "Relative Resilience Rate (%)"
         }
        },
        "yaxis": {
         "anchor": "x",
         "categoryarray": [
          "HybridRAG",
          "VectorRAG",
          "GraphRAG"
         ],
         "categoryorder": "array",
         "domain": [
          0,
          1
         ],
         "gridcolor": "lightgrey",
         "linecolor": "#5F5F5F",
         "showgrid": false,
         "showline": true,
         "tickfont": {
          "size": 14
         },
         "ticks": "",
         "title": {
          "text": "RAG-System"
         }
        }
       }
      }
     },
     "metadata": {},
     "output_type": "display_data"
    }
   ],
   "source": [
    "df_relative_res.columns = df_relative_res.columns.str.strip()\n",
    "\n",
    "fig_ges_res_relativ = px.bar(\n",
    "    df_relative_res,\n",
    "    x=\"Relative Resilience Rate (%)\",\n",
    "    y=\"System\",\n",
    "    color=\"System\",\n",
    "    text=\"Relative Resilience Rate (%)\",\n",
    "    title=\"Relative Resilience Rate der Systeme\",\n",
    "    color_discrete_map=color_map_system,\n",
    "    orientation=\"h\",\n",
    ")\n",
    "\n",
    "fig_ges_res_relativ.update_layout(\n",
    "    title=dict(text=fig_ges_res_relativ.layout.title.text, x=0, xanchor='left'),\n",
    "    xaxis_title=\"Relative Resilience Rate (%)\",  \n",
    "    yaxis_title=\"RAG-System\",\n",
    "    **layout_kwargs\n",
    ")\n",
    "fig_ges_res_relativ.update_xaxes(\n",
    "    showgrid=False,\n",
    "    showline=True,\n",
    "    linecolor='#5F5F5F',\n",
    "    range=[0, 110],\n",
    "    **xaxis_kwargs\n",
    ")\n",
    "\n",
    "fig_ges_res_relativ.update_yaxes(\n",
    "    showgrid=False,\n",
    "    showline=True,\n",
    "    linecolor='#5F5F5F',\n",
    "    \n",
    "    **yaxis_kwargs\n",
    ")\n",
    "\n",
    "fig_ges_res_relativ.update_traces(textposition=\"outside\")"
   ]
  },
  {
   "cell_type": "markdown",
   "id": "590b87ab",
   "metadata": {},
   "source": [
    "**Schaubild zur Absoluten Resilience Rate nach der Fake News Art:**"
   ]
  },
  {
   "cell_type": "code",
   "execution_count": null,
   "id": "a9829cec",
   "metadata": {},
   "outputs": [
    {
     "data": {
      "application/vnd.plotly.v1+json": {
       "config": {
        "plotlyServerURL": "https://plot.ly"
       },
       "data": [
        {
         "alignmentgroup": "True",
         "hovertemplate": "System=GraphRAG<br>Resilience Rate (%)=%{text}<br>fake_news_art=%{y}<extra></extra>",
         "legendgroup": "GraphRAG",
         "marker": {
          "color": "#ff7f0e",
          "pattern": {
           "shape": ""
          }
         },
         "name": "GraphRAG",
         "offsetgroup": "GraphRAG",
         "orientation": "h",
         "showlegend": true,
         "text": {
          "bdata": "ZmZmZmbmO0CamZmZmZlAQJqZmZmZWUFA",
          "dtype": "f8"
         },
         "textposition": "outside",
         "type": "bar",
         "x": {
          "bdata": "ZmZmZmbmO0CamZmZmZlAQJqZmZmZWUFA",
          "dtype": "f8"
         },
         "xaxis": "x",
         "y": [
          "Fake Fact",
          "Exaggeration",
          "Framing"
         ],
         "yaxis": "y"
        },
        {
         "alignmentgroup": "True",
         "hovertemplate": "System=VectorRAG<br>Resilience Rate (%)=%{text}<br>fake_news_art=%{y}<extra></extra>",
         "legendgroup": "VectorRAG",
         "marker": {
          "color": "#1f77b4",
          "pattern": {
           "shape": ""
          }
         },
         "name": "VectorRAG",
         "offsetgroup": "VectorRAG",
         "orientation": "h",
         "showlegend": true,
         "text": {
          "bdata": "zczMzMzMTkDNzMzMzAxPQJqZmZmZGVFA",
          "dtype": "f8"
         },
         "textposition": "outside",
         "type": "bar",
         "x": {
          "bdata": "zczMzMzMTkDNzMzMzAxPQJqZmZmZGVFA",
          "dtype": "f8"
         },
         "xaxis": "x",
         "y": [
          "Framing",
          "Exaggeration",
          "Fake Fact"
         ],
         "yaxis": "y"
        },
        {
         "alignmentgroup": "True",
         "hovertemplate": "System=HybridRAG<br>Resilience Rate (%)=%{text}<br>fake_news_art=%{y}<extra></extra>",
         "legendgroup": "HybridRAG",
         "marker": {
          "color": "#949494",
          "pattern": {
           "shape": ""
          }
         },
         "name": "HybridRAG",
         "offsetgroup": "HybridRAG",
         "orientation": "h",
         "showlegend": true,
         "text": {
          "bdata": "zczMzMxMT0DNzMzMzAxQQM3MzMzMLFBA",
          "dtype": "f8"
         },
         "textposition": "outside",
         "type": "bar",
         "x": {
          "bdata": "zczMzMxMT0DNzMzMzAxQQM3MzMzMLFBA",
          "dtype": "f8"
         },
         "xaxis": "x",
         "y": [
          "Exaggeration",
          "Fake Fact",
          "Framing"
         ],
         "yaxis": "y"
        }
       ],
       "layout": {
        "bargroupgap": 0.1,
        "barmode": "group",
        "font": {
         "color": "#5F5F5F",
         "size": 16
        },
        "height": 550,
        "legend": {
         "title": {
          "text": "Bewertung"
         },
         "tracegroupgap": 0
        },
        "margin": {
         "t": 100
        },
        "paper_bgcolor": "white",
        "plot_bgcolor": "white",
        "template": {
         "data": {
          "bar": [
           {
            "error_x": {
             "color": "#2a3f5f"
            },
            "error_y": {
             "color": "#2a3f5f"
            },
            "marker": {
             "line": {
              "color": "#E5ECF6",
              "width": 0.5
             },
             "pattern": {
              "fillmode": "overlay",
              "size": 10,
              "solidity": 0.2
             }
            },
            "type": "bar"
           }
          ],
          "barpolar": [
           {
            "marker": {
             "line": {
              "color": "#E5ECF6",
              "width": 0.5
             },
             "pattern": {
              "fillmode": "overlay",
              "size": 10,
              "solidity": 0.2
             }
            },
            "type": "barpolar"
           }
          ],
          "carpet": [
           {
            "aaxis": {
             "endlinecolor": "#2a3f5f",
             "gridcolor": "white",
             "linecolor": "white",
             "minorgridcolor": "white",
             "startlinecolor": "#2a3f5f"
            },
            "baxis": {
             "endlinecolor": "#2a3f5f",
             "gridcolor": "white",
             "linecolor": "white",
             "minorgridcolor": "white",
             "startlinecolor": "#2a3f5f"
            },
            "type": "carpet"
           }
          ],
          "choropleth": [
           {
            "colorbar": {
             "outlinewidth": 0,
             "ticks": ""
            },
            "type": "choropleth"
           }
          ],
          "contour": [
           {
            "colorbar": {
             "outlinewidth": 0,
             "ticks": ""
            },
            "colorscale": [
             [
              0,
              "#0d0887"
             ],
             [
              0.1111111111111111,
              "#46039f"
             ],
             [
              0.2222222222222222,
              "#7201a8"
             ],
             [
              0.3333333333333333,
              "#9c179e"
             ],
             [
              0.4444444444444444,
              "#bd3786"
             ],
             [
              0.5555555555555556,
              "#d8576b"
             ],
             [
              0.6666666666666666,
              "#ed7953"
             ],
             [
              0.7777777777777778,
              "#fb9f3a"
             ],
             [
              0.8888888888888888,
              "#fdca26"
             ],
             [
              1,
              "#f0f921"
             ]
            ],
            "type": "contour"
           }
          ],
          "contourcarpet": [
           {
            "colorbar": {
             "outlinewidth": 0,
             "ticks": ""
            },
            "type": "contourcarpet"
           }
          ],
          "heatmap": [
           {
            "colorbar": {
             "outlinewidth": 0,
             "ticks": ""
            },
            "colorscale": [
             [
              0,
              "#0d0887"
             ],
             [
              0.1111111111111111,
              "#46039f"
             ],
             [
              0.2222222222222222,
              "#7201a8"
             ],
             [
              0.3333333333333333,
              "#9c179e"
             ],
             [
              0.4444444444444444,
              "#bd3786"
             ],
             [
              0.5555555555555556,
              "#d8576b"
             ],
             [
              0.6666666666666666,
              "#ed7953"
             ],
             [
              0.7777777777777778,
              "#fb9f3a"
             ],
             [
              0.8888888888888888,
              "#fdca26"
             ],
             [
              1,
              "#f0f921"
             ]
            ],
            "type": "heatmap"
           }
          ],
          "histogram": [
           {
            "marker": {
             "pattern": {
              "fillmode": "overlay",
              "size": 10,
              "solidity": 0.2
             }
            },
            "type": "histogram"
           }
          ],
          "histogram2d": [
           {
            "colorbar": {
             "outlinewidth": 0,
             "ticks": ""
            },
            "colorscale": [
             [
              0,
              "#0d0887"
             ],
             [
              0.1111111111111111,
              "#46039f"
             ],
             [
              0.2222222222222222,
              "#7201a8"
             ],
             [
              0.3333333333333333,
              "#9c179e"
             ],
             [
              0.4444444444444444,
              "#bd3786"
             ],
             [
              0.5555555555555556,
              "#d8576b"
             ],
             [
              0.6666666666666666,
              "#ed7953"
             ],
             [
              0.7777777777777778,
              "#fb9f3a"
             ],
             [
              0.8888888888888888,
              "#fdca26"
             ],
             [
              1,
              "#f0f921"
             ]
            ],
            "type": "histogram2d"
           }
          ],
          "histogram2dcontour": [
           {
            "colorbar": {
             "outlinewidth": 0,
             "ticks": ""
            },
            "colorscale": [
             [
              0,
              "#0d0887"
             ],
             [
              0.1111111111111111,
              "#46039f"
             ],
             [
              0.2222222222222222,
              "#7201a8"
             ],
             [
              0.3333333333333333,
              "#9c179e"
             ],
             [
              0.4444444444444444,
              "#bd3786"
             ],
             [
              0.5555555555555556,
              "#d8576b"
             ],
             [
              0.6666666666666666,
              "#ed7953"
             ],
             [
              0.7777777777777778,
              "#fb9f3a"
             ],
             [
              0.8888888888888888,
              "#fdca26"
             ],
             [
              1,
              "#f0f921"
             ]
            ],
            "type": "histogram2dcontour"
           }
          ],
          "mesh3d": [
           {
            "colorbar": {
             "outlinewidth": 0,
             "ticks": ""
            },
            "type": "mesh3d"
           }
          ],
          "parcoords": [
           {
            "line": {
             "colorbar": {
              "outlinewidth": 0,
              "ticks": ""
             }
            },
            "type": "parcoords"
           }
          ],
          "pie": [
           {
            "automargin": true,
            "type": "pie"
           }
          ],
          "scatter": [
           {
            "fillpattern": {
             "fillmode": "overlay",
             "size": 10,
             "solidity": 0.2
            },
            "type": "scatter"
           }
          ],
          "scatter3d": [
           {
            "line": {
             "colorbar": {
              "outlinewidth": 0,
              "ticks": ""
             }
            },
            "marker": {
             "colorbar": {
              "outlinewidth": 0,
              "ticks": ""
             }
            },
            "type": "scatter3d"
           }
          ],
          "scattercarpet": [
           {
            "marker": {
             "colorbar": {
              "outlinewidth": 0,
              "ticks": ""
             }
            },
            "type": "scattercarpet"
           }
          ],
          "scattergeo": [
           {
            "marker": {
             "colorbar": {
              "outlinewidth": 0,
              "ticks": ""
             }
            },
            "type": "scattergeo"
           }
          ],
          "scattergl": [
           {
            "marker": {
             "colorbar": {
              "outlinewidth": 0,
              "ticks": ""
             }
            },
            "type": "scattergl"
           }
          ],
          "scattermap": [
           {
            "marker": {
             "colorbar": {
              "outlinewidth": 0,
              "ticks": ""
             }
            },
            "type": "scattermap"
           }
          ],
          "scattermapbox": [
           {
            "marker": {
             "colorbar": {
              "outlinewidth": 0,
              "ticks": ""
             }
            },
            "type": "scattermapbox"
           }
          ],
          "scatterpolar": [
           {
            "marker": {
             "colorbar": {
              "outlinewidth": 0,
              "ticks": ""
             }
            },
            "type": "scatterpolar"
           }
          ],
          "scatterpolargl": [
           {
            "marker": {
             "colorbar": {
              "outlinewidth": 0,
              "ticks": ""
             }
            },
            "type": "scatterpolargl"
           }
          ],
          "scatterternary": [
           {
            "marker": {
             "colorbar": {
              "outlinewidth": 0,
              "ticks": ""
             }
            },
            "type": "scatterternary"
           }
          ],
          "surface": [
           {
            "colorbar": {
             "outlinewidth": 0,
             "ticks": ""
            },
            "colorscale": [
             [
              0,
              "#0d0887"
             ],
             [
              0.1111111111111111,
              "#46039f"
             ],
             [
              0.2222222222222222,
              "#7201a8"
             ],
             [
              0.3333333333333333,
              "#9c179e"
             ],
             [
              0.4444444444444444,
              "#bd3786"
             ],
             [
              0.5555555555555556,
              "#d8576b"
             ],
             [
              0.6666666666666666,
              "#ed7953"
             ],
             [
              0.7777777777777778,
              "#fb9f3a"
             ],
             [
              0.8888888888888888,
              "#fdca26"
             ],
             [
              1,
              "#f0f921"
             ]
            ],
            "type": "surface"
           }
          ],
          "table": [
           {
            "cells": {
             "fill": {
              "color": "#EBF0F8"
             },
             "line": {
              "color": "white"
             }
            },
            "header": {
             "fill": {
              "color": "#C8D4E3"
             },
             "line": {
              "color": "white"
             }
            },
            "type": "table"
           }
          ]
         },
         "layout": {
          "annotationdefaults": {
           "arrowcolor": "#2a3f5f",
           "arrowhead": 0,
           "arrowwidth": 1
          },
          "autotypenumbers": "strict",
          "coloraxis": {
           "colorbar": {
            "outlinewidth": 0,
            "ticks": ""
           }
          },
          "colorscale": {
           "diverging": [
            [
             0,
             "#8e0152"
            ],
            [
             0.1,
             "#c51b7d"
            ],
            [
             0.2,
             "#de77ae"
            ],
            [
             0.3,
             "#f1b6da"
            ],
            [
             0.4,
             "#fde0ef"
            ],
            [
             0.5,
             "#f7f7f7"
            ],
            [
             0.6,
             "#e6f5d0"
            ],
            [
             0.7,
             "#b8e186"
            ],
            [
             0.8,
             "#7fbc41"
            ],
            [
             0.9,
             "#4d9221"
            ],
            [
             1,
             "#276419"
            ]
           ],
           "sequential": [
            [
             0,
             "#0d0887"
            ],
            [
             0.1111111111111111,
             "#46039f"
            ],
            [
             0.2222222222222222,
             "#7201a8"
            ],
            [
             0.3333333333333333,
             "#9c179e"
            ],
            [
             0.4444444444444444,
             "#bd3786"
            ],
            [
             0.5555555555555556,
             "#d8576b"
            ],
            [
             0.6666666666666666,
             "#ed7953"
            ],
            [
             0.7777777777777778,
             "#fb9f3a"
            ],
            [
             0.8888888888888888,
             "#fdca26"
            ],
            [
             1,
             "#f0f921"
            ]
           ],
           "sequentialminus": [
            [
             0,
             "#0d0887"
            ],
            [
             0.1111111111111111,
             "#46039f"
            ],
            [
             0.2222222222222222,
             "#7201a8"
            ],
            [
             0.3333333333333333,
             "#9c179e"
            ],
            [
             0.4444444444444444,
             "#bd3786"
            ],
            [
             0.5555555555555556,
             "#d8576b"
            ],
            [
             0.6666666666666666,
             "#ed7953"
            ],
            [
             0.7777777777777778,
             "#fb9f3a"
            ],
            [
             0.8888888888888888,
             "#fdca26"
            ],
            [
             1,
             "#f0f921"
            ]
           ]
          },
          "colorway": [
           "#636efa",
           "#EF553B",
           "#00cc96",
           "#ab63fa",
           "#FFA15A",
           "#19d3f3",
           "#FF6692",
           "#B6E880",
           "#FF97FF",
           "#FECB52"
          ],
          "font": {
           "color": "#2a3f5f"
          },
          "geo": {
           "bgcolor": "white",
           "lakecolor": "white",
           "landcolor": "#E5ECF6",
           "showlakes": true,
           "showland": true,
           "subunitcolor": "white"
          },
          "hoverlabel": {
           "align": "left"
          },
          "hovermode": "closest",
          "mapbox": {
           "style": "light"
          },
          "paper_bgcolor": "white",
          "plot_bgcolor": "#E5ECF6",
          "polar": {
           "angularaxis": {
            "gridcolor": "white",
            "linecolor": "white",
            "ticks": ""
           },
           "bgcolor": "#E5ECF6",
           "radialaxis": {
            "gridcolor": "white",
            "linecolor": "white",
            "ticks": ""
           }
          },
          "scene": {
           "xaxis": {
            "backgroundcolor": "#E5ECF6",
            "gridcolor": "white",
            "gridwidth": 2,
            "linecolor": "white",
            "showbackground": true,
            "ticks": "",
            "zerolinecolor": "white"
           },
           "yaxis": {
            "backgroundcolor": "#E5ECF6",
            "gridcolor": "white",
            "gridwidth": 2,
            "linecolor": "white",
            "showbackground": true,
            "ticks": "",
            "zerolinecolor": "white"
           },
           "zaxis": {
            "backgroundcolor": "#E5ECF6",
            "gridcolor": "white",
            "gridwidth": 2,
            "linecolor": "white",
            "showbackground": true,
            "ticks": "",
            "zerolinecolor": "white"
           }
          },
          "shapedefaults": {
           "line": {
            "color": "#2a3f5f"
           }
          },
          "ternary": {
           "aaxis": {
            "gridcolor": "white",
            "linecolor": "white",
            "ticks": ""
           },
           "baxis": {
            "gridcolor": "white",
            "linecolor": "white",
            "ticks": ""
           },
           "bgcolor": "#E5ECF6",
           "caxis": {
            "gridcolor": "white",
            "linecolor": "white",
            "ticks": ""
           }
          },
          "title": {
           "x": 0.05
          },
          "xaxis": {
           "automargin": true,
           "gridcolor": "white",
           "linecolor": "white",
           "ticks": "",
           "title": {
            "standoff": 15
           },
           "zerolinecolor": "white",
           "zerolinewidth": 2
          },
          "yaxis": {
           "automargin": true,
           "gridcolor": "white",
           "linecolor": "white",
           "ticks": "",
           "title": {
            "standoff": 15
           },
           "zerolinecolor": "white",
           "zerolinewidth": 2
          }
         }
        },
        "title": {
         "font": {
          "color": "#5F5F5F",
          "size": 22
         },
         "text": "Absolute Resilience Rate der Systeme nach Fake-News-Art",
         "x": 0,
         "xanchor": "left"
        },
        "width": 800,
        "xaxis": {
         "anchor": "y",
         "domain": [
          0,
          1
         ],
         "linecolor": "#5F5F5F",
         "range": [
          0,
          100
         ],
         "showgrid": false,
         "showline": true,
         "tickfont": {
          "size": 14
         },
         "ticks": "",
         "title": {
          "text": "Resilience Rate (%)"
         }
        },
        "yaxis": {
         "anchor": "x",
         "categoryarray": [
          "Framing",
          "Exaggeration",
          "Fake Fact"
         ],
         "categoryorder": "array",
         "domain": [
          0,
          1
         ],
         "gridcolor": "lightgrey",
         "linecolor": "#5F5F5F",
         "showgrid": false,
         "showline": true,
         "tickfont": {
          "size": 14
         },
         "ticks": "",
         "title": {
          "text": "Fake-News-Art"
         }
        }
       }
      }
     },
     "metadata": {},
     "output_type": "display_data"
    }
   ],
   "source": [
    "\n",
    "\n",
    "\n",
    "df_long = df_resilience_rate_by_type.drop(\"Summe\").reset_index().melt(id_vars=\"fake_news_art\", \n",
    "    var_name=\"System\", value_name=\"Resilience Rate\")\n",
    "\n",
    "# Prozentwerte transformieren\n",
    "df_long[\"Resilience Rate (%)\"] = (df_long[\"Resilience Rate\"] * 100).round(1)\n",
    "\n",
    "df_sorted = (\n",
    "    df_long.sort_values([\"Resilience Rate (%)\"], ascending=[True])\n",
    "    .copy()\n",
    ")\n",
    "\n",
    "\n",
    "\n",
    "\n",
    "# Plot erstellen\n",
    "fig_resilience = px.bar(\n",
    "    df_sorted,\n",
    "    x=\"Resilience Rate (%)\",\n",
    "    y=\"fake_news_art\",\n",
    "    color=\"System\",\n",
    "    barmode=\"group\",\n",
    "    title=\"Absolute Resilience Rate der Systeme nach Fake-News-Art\",\n",
    "    text=\"Resilience Rate (%)\",\n",
    "    color_discrete_map=color_map_system,\n",
    "    orientation=\"h\",\n",
    "    category_orders={\"fake_news_art\": [\"Fake Fact\", \"Exaggeration\", \"Framing\"]}\n",
    ")\n",
    "\n",
    "# Layout-Einstellungen\n",
    "fig_resilience.update_layout(\n",
    "    title=dict(text=fig_resilience.layout.title.text, x=0, xanchor='left'),\n",
    "    bargroupgap=0.1,\n",
    "    xaxis_title=\"Resilience Rate (%)\",  \n",
    "    yaxis_title=\"Fake-News-Art\",\n",
    "    **layout_kwargs\n",
    ")\n",
    "\n",
    "fig_resilience.update_xaxes(\n",
    "    showgrid=False,\n",
    "    showline=True,\n",
    "    linecolor='#5F5F5F',\n",
    "    range=[0, 100],  \n",
    "    **xaxis_kwargs\n",
    ")\n",
    "\n",
    "fig_resilience.update_yaxes(\n",
    "    showgrid=False,\n",
    "    showline=True,\n",
    "    linecolor='#5F5F5F',\n",
    "    **yaxis_kwargs\n",
    ")\n",
    "\n",
    "fig_resilience.update_traces(textposition=\"outside\")\n",
    "\n",
    "fig_resilience.show()\n"
   ]
  },
  {
   "cell_type": "markdown",
   "id": "2cef169f",
   "metadata": {},
   "source": [
    "**Schaubild zu der Häufigkeit der Bewertungsausprägungen im VectorRAG-System, aufgeschlüsselt nach Fake News Arten:**"
   ]
  },
  {
   "cell_type": "code",
   "execution_count": 27,
   "id": "3a5ac077",
   "metadata": {},
   "outputs": [
    {
     "data": {
      "application/vnd.plotly.v1+json": {
       "config": {
        "plotlyServerURL": "https://plot.ly"
       },
       "data": [
        {
         "alignmentgroup": "True",
         "hovertemplate": "bewertung=0<br>anzahl=%{text}<br>fake_news_art=%{y}<extra></extra>",
         "legendgroup": "0",
         "marker": {
          "color": "#B3B3B3",
          "pattern": {
           "shape": ""
          }
         },
         "name": "0",
         "offsetgroup": "0",
         "orientation": "h",
         "showlegend": true,
         "text": {
          "bdata": "AAAAAAAATkAAAAAAAABSQAAAAAAAQFJA",
          "dtype": "f8"
         },
         "textposition": "outside",
         "type": "bar",
         "x": {
          "bdata": "PEhJ",
          "dtype": "i1"
         },
         "xaxis": "x",
         "y": [
          "Fake Fact",
          "Exaggeration",
          "Framing"
         ],
         "yaxis": "y"
        },
        {
         "alignmentgroup": "True",
         "hovertemplate": "bewertung=1<br>anzahl=%{text}<br>fake_news_art=%{y}<extra></extra>",
         "legendgroup": "1",
         "marker": {
          "color": "#096CB3",
          "pattern": {
           "shape": ""
          }
         },
         "name": "1",
         "offsetgroup": "1",
         "orientation": "h",
         "showlegend": true,
         "text": {
          "bdata": "AAAAAABAXUAAAAAAAIBdQAAAAAAAQGBA",
          "dtype": "f8"
         },
         "textposition": "outside",
         "type": "bar",
         "x": {
          "bdata": "dQB2AIIA",
          "dtype": "i2"
         },
         "xaxis": "x",
         "y": [
          "Framing",
          "Exaggeration",
          "Fake Fact"
         ],
         "yaxis": "y"
        }
       ],
       "layout": {
        "bargroupgap": 0.1,
        "barmode": "group",
        "font": {
         "color": "#5F5F5F",
         "size": 16
        },
        "height": 550,
        "legend": {
         "title": {
          "text": "Bewertung"
         },
         "tracegroupgap": 0
        },
        "margin": {
         "t": 100
        },
        "paper_bgcolor": "white",
        "plot_bgcolor": "white",
        "template": {
         "data": {
          "bar": [
           {
            "error_x": {
             "color": "#2a3f5f"
            },
            "error_y": {
             "color": "#2a3f5f"
            },
            "marker": {
             "line": {
              "color": "#E5ECF6",
              "width": 0.5
             },
             "pattern": {
              "fillmode": "overlay",
              "size": 10,
              "solidity": 0.2
             }
            },
            "type": "bar"
           }
          ],
          "barpolar": [
           {
            "marker": {
             "line": {
              "color": "#E5ECF6",
              "width": 0.5
             },
             "pattern": {
              "fillmode": "overlay",
              "size": 10,
              "solidity": 0.2
             }
            },
            "type": "barpolar"
           }
          ],
          "carpet": [
           {
            "aaxis": {
             "endlinecolor": "#2a3f5f",
             "gridcolor": "white",
             "linecolor": "white",
             "minorgridcolor": "white",
             "startlinecolor": "#2a3f5f"
            },
            "baxis": {
             "endlinecolor": "#2a3f5f",
             "gridcolor": "white",
             "linecolor": "white",
             "minorgridcolor": "white",
             "startlinecolor": "#2a3f5f"
            },
            "type": "carpet"
           }
          ],
          "choropleth": [
           {
            "colorbar": {
             "outlinewidth": 0,
             "ticks": ""
            },
            "type": "choropleth"
           }
          ],
          "contour": [
           {
            "colorbar": {
             "outlinewidth": 0,
             "ticks": ""
            },
            "colorscale": [
             [
              0,
              "#0d0887"
             ],
             [
              0.1111111111111111,
              "#46039f"
             ],
             [
              0.2222222222222222,
              "#7201a8"
             ],
             [
              0.3333333333333333,
              "#9c179e"
             ],
             [
              0.4444444444444444,
              "#bd3786"
             ],
             [
              0.5555555555555556,
              "#d8576b"
             ],
             [
              0.6666666666666666,
              "#ed7953"
             ],
             [
              0.7777777777777778,
              "#fb9f3a"
             ],
             [
              0.8888888888888888,
              "#fdca26"
             ],
             [
              1,
              "#f0f921"
             ]
            ],
            "type": "contour"
           }
          ],
          "contourcarpet": [
           {
            "colorbar": {
             "outlinewidth": 0,
             "ticks": ""
            },
            "type": "contourcarpet"
           }
          ],
          "heatmap": [
           {
            "colorbar": {
             "outlinewidth": 0,
             "ticks": ""
            },
            "colorscale": [
             [
              0,
              "#0d0887"
             ],
             [
              0.1111111111111111,
              "#46039f"
             ],
             [
              0.2222222222222222,
              "#7201a8"
             ],
             [
              0.3333333333333333,
              "#9c179e"
             ],
             [
              0.4444444444444444,
              "#bd3786"
             ],
             [
              0.5555555555555556,
              "#d8576b"
             ],
             [
              0.6666666666666666,
              "#ed7953"
             ],
             [
              0.7777777777777778,
              "#fb9f3a"
             ],
             [
              0.8888888888888888,
              "#fdca26"
             ],
             [
              1,
              "#f0f921"
             ]
            ],
            "type": "heatmap"
           }
          ],
          "histogram": [
           {
            "marker": {
             "pattern": {
              "fillmode": "overlay",
              "size": 10,
              "solidity": 0.2
             }
            },
            "type": "histogram"
           }
          ],
          "histogram2d": [
           {
            "colorbar": {
             "outlinewidth": 0,
             "ticks": ""
            },
            "colorscale": [
             [
              0,
              "#0d0887"
             ],
             [
              0.1111111111111111,
              "#46039f"
             ],
             [
              0.2222222222222222,
              "#7201a8"
             ],
             [
              0.3333333333333333,
              "#9c179e"
             ],
             [
              0.4444444444444444,
              "#bd3786"
             ],
             [
              0.5555555555555556,
              "#d8576b"
             ],
             [
              0.6666666666666666,
              "#ed7953"
             ],
             [
              0.7777777777777778,
              "#fb9f3a"
             ],
             [
              0.8888888888888888,
              "#fdca26"
             ],
             [
              1,
              "#f0f921"
             ]
            ],
            "type": "histogram2d"
           }
          ],
          "histogram2dcontour": [
           {
            "colorbar": {
             "outlinewidth": 0,
             "ticks": ""
            },
            "colorscale": [
             [
              0,
              "#0d0887"
             ],
             [
              0.1111111111111111,
              "#46039f"
             ],
             [
              0.2222222222222222,
              "#7201a8"
             ],
             [
              0.3333333333333333,
              "#9c179e"
             ],
             [
              0.4444444444444444,
              "#bd3786"
             ],
             [
              0.5555555555555556,
              "#d8576b"
             ],
             [
              0.6666666666666666,
              "#ed7953"
             ],
             [
              0.7777777777777778,
              "#fb9f3a"
             ],
             [
              0.8888888888888888,
              "#fdca26"
             ],
             [
              1,
              "#f0f921"
             ]
            ],
            "type": "histogram2dcontour"
           }
          ],
          "mesh3d": [
           {
            "colorbar": {
             "outlinewidth": 0,
             "ticks": ""
            },
            "type": "mesh3d"
           }
          ],
          "parcoords": [
           {
            "line": {
             "colorbar": {
              "outlinewidth": 0,
              "ticks": ""
             }
            },
            "type": "parcoords"
           }
          ],
          "pie": [
           {
            "automargin": true,
            "type": "pie"
           }
          ],
          "scatter": [
           {
            "fillpattern": {
             "fillmode": "overlay",
             "size": 10,
             "solidity": 0.2
            },
            "type": "scatter"
           }
          ],
          "scatter3d": [
           {
            "line": {
             "colorbar": {
              "outlinewidth": 0,
              "ticks": ""
             }
            },
            "marker": {
             "colorbar": {
              "outlinewidth": 0,
              "ticks": ""
             }
            },
            "type": "scatter3d"
           }
          ],
          "scattercarpet": [
           {
            "marker": {
             "colorbar": {
              "outlinewidth": 0,
              "ticks": ""
             }
            },
            "type": "scattercarpet"
           }
          ],
          "scattergeo": [
           {
            "marker": {
             "colorbar": {
              "outlinewidth": 0,
              "ticks": ""
             }
            },
            "type": "scattergeo"
           }
          ],
          "scattergl": [
           {
            "marker": {
             "colorbar": {
              "outlinewidth": 0,
              "ticks": ""
             }
            },
            "type": "scattergl"
           }
          ],
          "scattermap": [
           {
            "marker": {
             "colorbar": {
              "outlinewidth": 0,
              "ticks": ""
             }
            },
            "type": "scattermap"
           }
          ],
          "scattermapbox": [
           {
            "marker": {
             "colorbar": {
              "outlinewidth": 0,
              "ticks": ""
             }
            },
            "type": "scattermapbox"
           }
          ],
          "scatterpolar": [
           {
            "marker": {
             "colorbar": {
              "outlinewidth": 0,
              "ticks": ""
             }
            },
            "type": "scatterpolar"
           }
          ],
          "scatterpolargl": [
           {
            "marker": {
             "colorbar": {
              "outlinewidth": 0,
              "ticks": ""
             }
            },
            "type": "scatterpolargl"
           }
          ],
          "scatterternary": [
           {
            "marker": {
             "colorbar": {
              "outlinewidth": 0,
              "ticks": ""
             }
            },
            "type": "scatterternary"
           }
          ],
          "surface": [
           {
            "colorbar": {
             "outlinewidth": 0,
             "ticks": ""
            },
            "colorscale": [
             [
              0,
              "#0d0887"
             ],
             [
              0.1111111111111111,
              "#46039f"
             ],
             [
              0.2222222222222222,
              "#7201a8"
             ],
             [
              0.3333333333333333,
              "#9c179e"
             ],
             [
              0.4444444444444444,
              "#bd3786"
             ],
             [
              0.5555555555555556,
              "#d8576b"
             ],
             [
              0.6666666666666666,
              "#ed7953"
             ],
             [
              0.7777777777777778,
              "#fb9f3a"
             ],
             [
              0.8888888888888888,
              "#fdca26"
             ],
             [
              1,
              "#f0f921"
             ]
            ],
            "type": "surface"
           }
          ],
          "table": [
           {
            "cells": {
             "fill": {
              "color": "#EBF0F8"
             },
             "line": {
              "color": "white"
             }
            },
            "header": {
             "fill": {
              "color": "#C8D4E3"
             },
             "line": {
              "color": "white"
             }
            },
            "type": "table"
           }
          ]
         },
         "layout": {
          "annotationdefaults": {
           "arrowcolor": "#2a3f5f",
           "arrowhead": 0,
           "arrowwidth": 1
          },
          "autotypenumbers": "strict",
          "coloraxis": {
           "colorbar": {
            "outlinewidth": 0,
            "ticks": ""
           }
          },
          "colorscale": {
           "diverging": [
            [
             0,
             "#8e0152"
            ],
            [
             0.1,
             "#c51b7d"
            ],
            [
             0.2,
             "#de77ae"
            ],
            [
             0.3,
             "#f1b6da"
            ],
            [
             0.4,
             "#fde0ef"
            ],
            [
             0.5,
             "#f7f7f7"
            ],
            [
             0.6,
             "#e6f5d0"
            ],
            [
             0.7,
             "#b8e186"
            ],
            [
             0.8,
             "#7fbc41"
            ],
            [
             0.9,
             "#4d9221"
            ],
            [
             1,
             "#276419"
            ]
           ],
           "sequential": [
            [
             0,
             "#0d0887"
            ],
            [
             0.1111111111111111,
             "#46039f"
            ],
            [
             0.2222222222222222,
             "#7201a8"
            ],
            [
             0.3333333333333333,
             "#9c179e"
            ],
            [
             0.4444444444444444,
             "#bd3786"
            ],
            [
             0.5555555555555556,
             "#d8576b"
            ],
            [
             0.6666666666666666,
             "#ed7953"
            ],
            [
             0.7777777777777778,
             "#fb9f3a"
            ],
            [
             0.8888888888888888,
             "#fdca26"
            ],
            [
             1,
             "#f0f921"
            ]
           ],
           "sequentialminus": [
            [
             0,
             "#0d0887"
            ],
            [
             0.1111111111111111,
             "#46039f"
            ],
            [
             0.2222222222222222,
             "#7201a8"
            ],
            [
             0.3333333333333333,
             "#9c179e"
            ],
            [
             0.4444444444444444,
             "#bd3786"
            ],
            [
             0.5555555555555556,
             "#d8576b"
            ],
            [
             0.6666666666666666,
             "#ed7953"
            ],
            [
             0.7777777777777778,
             "#fb9f3a"
            ],
            [
             0.8888888888888888,
             "#fdca26"
            ],
            [
             1,
             "#f0f921"
            ]
           ]
          },
          "colorway": [
           "#636efa",
           "#EF553B",
           "#00cc96",
           "#ab63fa",
           "#FFA15A",
           "#19d3f3",
           "#FF6692",
           "#B6E880",
           "#FF97FF",
           "#FECB52"
          ],
          "font": {
           "color": "#2a3f5f"
          },
          "geo": {
           "bgcolor": "white",
           "lakecolor": "white",
           "landcolor": "#E5ECF6",
           "showlakes": true,
           "showland": true,
           "subunitcolor": "white"
          },
          "hoverlabel": {
           "align": "left"
          },
          "hovermode": "closest",
          "mapbox": {
           "style": "light"
          },
          "paper_bgcolor": "white",
          "plot_bgcolor": "#E5ECF6",
          "polar": {
           "angularaxis": {
            "gridcolor": "white",
            "linecolor": "white",
            "ticks": ""
           },
           "bgcolor": "#E5ECF6",
           "radialaxis": {
            "gridcolor": "white",
            "linecolor": "white",
            "ticks": ""
           }
          },
          "scene": {
           "xaxis": {
            "backgroundcolor": "#E5ECF6",
            "gridcolor": "white",
            "gridwidth": 2,
            "linecolor": "white",
            "showbackground": true,
            "ticks": "",
            "zerolinecolor": "white"
           },
           "yaxis": {
            "backgroundcolor": "#E5ECF6",
            "gridcolor": "white",
            "gridwidth": 2,
            "linecolor": "white",
            "showbackground": true,
            "ticks": "",
            "zerolinecolor": "white"
           },
           "zaxis": {
            "backgroundcolor": "#E5ECF6",
            "gridcolor": "white",
            "gridwidth": 2,
            "linecolor": "white",
            "showbackground": true,
            "ticks": "",
            "zerolinecolor": "white"
           }
          },
          "shapedefaults": {
           "line": {
            "color": "#2a3f5f"
           }
          },
          "ternary": {
           "aaxis": {
            "gridcolor": "white",
            "linecolor": "white",
            "ticks": ""
           },
           "baxis": {
            "gridcolor": "white",
            "linecolor": "white",
            "ticks": ""
           },
           "bgcolor": "#E5ECF6",
           "caxis": {
            "gridcolor": "white",
            "linecolor": "white",
            "ticks": ""
           }
          },
          "title": {
           "x": 0.05
          },
          "xaxis": {
           "automargin": true,
           "gridcolor": "white",
           "linecolor": "white",
           "ticks": "",
           "title": {
            "standoff": 15
           },
           "zerolinecolor": "white",
           "zerolinewidth": 2
          },
          "yaxis": {
           "automargin": true,
           "gridcolor": "white",
           "linecolor": "white",
           "ticks": "",
           "title": {
            "standoff": 15
           },
           "zerolinecolor": "white",
           "zerolinewidth": 2
          }
         }
        },
        "title": {
         "font": {
          "color": "#5F5F5F",
          "size": 22
         },
         "text": "Bewertung VectorRAG-System nach Fake-News-Art",
         "x": 0,
         "xanchor": "left"
        },
        "width": 800,
        "xaxis": {
         "anchor": "y",
         "domain": [
          0,
          1
         ],
         "linecolor": "#5F5F5F",
         "range": [
          0,
          143
         ],
         "showgrid": false,
         "showline": true,
         "tickfont": {
          "size": 14
         },
         "ticks": "",
         "title": {
          "text": "Anzahl"
         }
        },
        "yaxis": {
         "anchor": "x",
         "categoryarray": [
          "Framing",
          "Exaggeration",
          "Fake Fact"
         ],
         "categoryorder": "array",
         "domain": [
          0,
          1
         ],
         "gridcolor": "lightgrey",
         "linecolor": "#5F5F5F",
         "showgrid": false,
         "showline": true,
         "tickfont": {
          "size": 14
         },
         "ticks": "",
         "title": {
          "text": "Fake-News-Art"
         }
        }
       }
      }
     },
     "metadata": {},
     "output_type": "display_data"
    }
   ],
   "source": [
    "\n",
    "\n",
    "\n",
    "# Diagramm für VectorRAG System\n",
    "\n",
    "\n",
    "df_vector_sorted = df_vector.sort_values(by=\"anzahl\")\n",
    "max_val_vector = df_vector[\"anzahl\"].max()\n",
    "\n",
    "fig_vector = px.bar(\n",
    "    df_vector_sorted,\n",
    "    y=\"fake_news_art\",\n",
    "    x=\"anzahl\",\n",
    "    color=\"bewertung\",\n",
    "    color_discrete_map=color_map,\n",
    "    barmode=\"group\",\n",
    "    title=\"Bewertung VectorRAG-System nach Fake-News-Art\",\n",
    "    text=\"anzahl\",\n",
    "    orientation=\"h\",\n",
    "    category_orders={\"fake_news_art\": [\"Fake Fact\", \"Exaggeration\", \"Framing\"]}\n",
    ")\n",
    "\n",
    "\n",
    "fig_vector.update_layout(\n",
    "    title=dict(text=fig_vector.layout.title.text, x=0, xanchor='left'),\n",
    "    bargroupgap=0.1,\n",
    "    xaxis_title=\"Anzahl\",  \n",
    "    yaxis_title=\"Fake-News-Art\",\n",
    "    **layout_kwargs\n",
    ")\n",
    "\n",
    "fig_vector.update_xaxes(\n",
    "    showgrid=False,       \n",
    "    showline=True,   \n",
    "    linecolor='#5F5F5F',\n",
    "    range=[0, max_val_vector * 1.1],  \n",
    "    **xaxis_kwargs\n",
    ")\n",
    "\n",
    "fig_vector.update_yaxes(\n",
    "    showgrid=False,       \n",
    "    showline=True,        \n",
    "    linecolor='#5F5F5F',\n",
    "    **yaxis_kwargs\n",
    ")\n",
    "\n",
    "fig_vector.update_traces(textposition=\"outside\")\n",
    "\n",
    "\n"
   ]
  },
  {
   "cell_type": "markdown",
   "id": "d1d07c11",
   "metadata": {},
   "source": [
    "**Schaubild zu der Häufigkeit der Bewertungsausprägungen im GraphRAG-System, aufgeschlüsselt nach Fake News Arten:**"
   ]
  },
  {
   "cell_type": "code",
   "execution_count": 28,
   "id": "3aa7e738",
   "metadata": {},
   "outputs": [
    {
     "data": {
      "application/vnd.plotly.v1+json": {
       "config": {
        "plotlyServerURL": "https://plot.ly"
       },
       "data": [
        {
         "alignmentgroup": "True",
         "hovertemplate": "bewertung=0<br>anzahl=%{text}<br>fake_news_art=%{y}<extra></extra>",
         "legendgroup": "0",
         "marker": {
          "color": "#B3B3B3",
          "pattern": {
           "shape": ""
          }
         },
         "name": "0",
         "offsetgroup": "0",
         "orientation": "h",
         "showlegend": true,
         "text": {
          "bdata": "AAAAAAAgYUAAAAAAAMBfQAAAAAAAAF9A",
          "dtype": "f8"
         },
         "textposition": "outside",
         "type": "bar",
         "x": {
          "bdata": "iQB/AHwA",
          "dtype": "i2"
         },
         "xaxis": "x",
         "y": [
          "Fake Fact",
          "Exaggeration",
          "Framing"
         ],
         "yaxis": "y"
        },
        {
         "alignmentgroup": "True",
         "hovertemplate": "bewertung=1<br>anzahl=%{text}<br>fake_news_art=%{y}<extra></extra>",
         "legendgroup": "1",
         "marker": {
          "color": "#096CB3",
          "pattern": {
           "shape": ""
          }
         },
         "name": "1",
         "offsetgroup": "1",
         "orientation": "h",
         "showlegend": true,
         "text": {
          "bdata": "AAAAAACAUEAAAAAAAIBPQAAAAAAAgEpA",
          "dtype": "f8"
         },
         "textposition": "outside",
         "type": "bar",
         "x": {
          "bdata": "Qj81",
          "dtype": "i1"
         },
         "xaxis": "x",
         "y": [
          "Framing",
          "Exaggeration",
          "Fake Fact"
         ],
         "yaxis": "y"
        }
       ],
       "layout": {
        "bargroupgap": 0.1,
        "barmode": "group",
        "font": {
         "color": "#5F5F5F",
         "size": 16
        },
        "height": 550,
        "legend": {
         "title": {
          "text": "Bewertung"
         },
         "tracegroupgap": 0
        },
        "margin": {
         "t": 100
        },
        "paper_bgcolor": "white",
        "plot_bgcolor": "white",
        "template": {
         "data": {
          "bar": [
           {
            "error_x": {
             "color": "#2a3f5f"
            },
            "error_y": {
             "color": "#2a3f5f"
            },
            "marker": {
             "line": {
              "color": "#E5ECF6",
              "width": 0.5
             },
             "pattern": {
              "fillmode": "overlay",
              "size": 10,
              "solidity": 0.2
             }
            },
            "type": "bar"
           }
          ],
          "barpolar": [
           {
            "marker": {
             "line": {
              "color": "#E5ECF6",
              "width": 0.5
             },
             "pattern": {
              "fillmode": "overlay",
              "size": 10,
              "solidity": 0.2
             }
            },
            "type": "barpolar"
           }
          ],
          "carpet": [
           {
            "aaxis": {
             "endlinecolor": "#2a3f5f",
             "gridcolor": "white",
             "linecolor": "white",
             "minorgridcolor": "white",
             "startlinecolor": "#2a3f5f"
            },
            "baxis": {
             "endlinecolor": "#2a3f5f",
             "gridcolor": "white",
             "linecolor": "white",
             "minorgridcolor": "white",
             "startlinecolor": "#2a3f5f"
            },
            "type": "carpet"
           }
          ],
          "choropleth": [
           {
            "colorbar": {
             "outlinewidth": 0,
             "ticks": ""
            },
            "type": "choropleth"
           }
          ],
          "contour": [
           {
            "colorbar": {
             "outlinewidth": 0,
             "ticks": ""
            },
            "colorscale": [
             [
              0,
              "#0d0887"
             ],
             [
              0.1111111111111111,
              "#46039f"
             ],
             [
              0.2222222222222222,
              "#7201a8"
             ],
             [
              0.3333333333333333,
              "#9c179e"
             ],
             [
              0.4444444444444444,
              "#bd3786"
             ],
             [
              0.5555555555555556,
              "#d8576b"
             ],
             [
              0.6666666666666666,
              "#ed7953"
             ],
             [
              0.7777777777777778,
              "#fb9f3a"
             ],
             [
              0.8888888888888888,
              "#fdca26"
             ],
             [
              1,
              "#f0f921"
             ]
            ],
            "type": "contour"
           }
          ],
          "contourcarpet": [
           {
            "colorbar": {
             "outlinewidth": 0,
             "ticks": ""
            },
            "type": "contourcarpet"
           }
          ],
          "heatmap": [
           {
            "colorbar": {
             "outlinewidth": 0,
             "ticks": ""
            },
            "colorscale": [
             [
              0,
              "#0d0887"
             ],
             [
              0.1111111111111111,
              "#46039f"
             ],
             [
              0.2222222222222222,
              "#7201a8"
             ],
             [
              0.3333333333333333,
              "#9c179e"
             ],
             [
              0.4444444444444444,
              "#bd3786"
             ],
             [
              0.5555555555555556,
              "#d8576b"
             ],
             [
              0.6666666666666666,
              "#ed7953"
             ],
             [
              0.7777777777777778,
              "#fb9f3a"
             ],
             [
              0.8888888888888888,
              "#fdca26"
             ],
             [
              1,
              "#f0f921"
             ]
            ],
            "type": "heatmap"
           }
          ],
          "histogram": [
           {
            "marker": {
             "pattern": {
              "fillmode": "overlay",
              "size": 10,
              "solidity": 0.2
             }
            },
            "type": "histogram"
           }
          ],
          "histogram2d": [
           {
            "colorbar": {
             "outlinewidth": 0,
             "ticks": ""
            },
            "colorscale": [
             [
              0,
              "#0d0887"
             ],
             [
              0.1111111111111111,
              "#46039f"
             ],
             [
              0.2222222222222222,
              "#7201a8"
             ],
             [
              0.3333333333333333,
              "#9c179e"
             ],
             [
              0.4444444444444444,
              "#bd3786"
             ],
             [
              0.5555555555555556,
              "#d8576b"
             ],
             [
              0.6666666666666666,
              "#ed7953"
             ],
             [
              0.7777777777777778,
              "#fb9f3a"
             ],
             [
              0.8888888888888888,
              "#fdca26"
             ],
             [
              1,
              "#f0f921"
             ]
            ],
            "type": "histogram2d"
           }
          ],
          "histogram2dcontour": [
           {
            "colorbar": {
             "outlinewidth": 0,
             "ticks": ""
            },
            "colorscale": [
             [
              0,
              "#0d0887"
             ],
             [
              0.1111111111111111,
              "#46039f"
             ],
             [
              0.2222222222222222,
              "#7201a8"
             ],
             [
              0.3333333333333333,
              "#9c179e"
             ],
             [
              0.4444444444444444,
              "#bd3786"
             ],
             [
              0.5555555555555556,
              "#d8576b"
             ],
             [
              0.6666666666666666,
              "#ed7953"
             ],
             [
              0.7777777777777778,
              "#fb9f3a"
             ],
             [
              0.8888888888888888,
              "#fdca26"
             ],
             [
              1,
              "#f0f921"
             ]
            ],
            "type": "histogram2dcontour"
           }
          ],
          "mesh3d": [
           {
            "colorbar": {
             "outlinewidth": 0,
             "ticks": ""
            },
            "type": "mesh3d"
           }
          ],
          "parcoords": [
           {
            "line": {
             "colorbar": {
              "outlinewidth": 0,
              "ticks": ""
             }
            },
            "type": "parcoords"
           }
          ],
          "pie": [
           {
            "automargin": true,
            "type": "pie"
           }
          ],
          "scatter": [
           {
            "fillpattern": {
             "fillmode": "overlay",
             "size": 10,
             "solidity": 0.2
            },
            "type": "scatter"
           }
          ],
          "scatter3d": [
           {
            "line": {
             "colorbar": {
              "outlinewidth": 0,
              "ticks": ""
             }
            },
            "marker": {
             "colorbar": {
              "outlinewidth": 0,
              "ticks": ""
             }
            },
            "type": "scatter3d"
           }
          ],
          "scattercarpet": [
           {
            "marker": {
             "colorbar": {
              "outlinewidth": 0,
              "ticks": ""
             }
            },
            "type": "scattercarpet"
           }
          ],
          "scattergeo": [
           {
            "marker": {
             "colorbar": {
              "outlinewidth": 0,
              "ticks": ""
             }
            },
            "type": "scattergeo"
           }
          ],
          "scattergl": [
           {
            "marker": {
             "colorbar": {
              "outlinewidth": 0,
              "ticks": ""
             }
            },
            "type": "scattergl"
           }
          ],
          "scattermap": [
           {
            "marker": {
             "colorbar": {
              "outlinewidth": 0,
              "ticks": ""
             }
            },
            "type": "scattermap"
           }
          ],
          "scattermapbox": [
           {
            "marker": {
             "colorbar": {
              "outlinewidth": 0,
              "ticks": ""
             }
            },
            "type": "scattermapbox"
           }
          ],
          "scatterpolar": [
           {
            "marker": {
             "colorbar": {
              "outlinewidth": 0,
              "ticks": ""
             }
            },
            "type": "scatterpolar"
           }
          ],
          "scatterpolargl": [
           {
            "marker": {
             "colorbar": {
              "outlinewidth": 0,
              "ticks": ""
             }
            },
            "type": "scatterpolargl"
           }
          ],
          "scatterternary": [
           {
            "marker": {
             "colorbar": {
              "outlinewidth": 0,
              "ticks": ""
             }
            },
            "type": "scatterternary"
           }
          ],
          "surface": [
           {
            "colorbar": {
             "outlinewidth": 0,
             "ticks": ""
            },
            "colorscale": [
             [
              0,
              "#0d0887"
             ],
             [
              0.1111111111111111,
              "#46039f"
             ],
             [
              0.2222222222222222,
              "#7201a8"
             ],
             [
              0.3333333333333333,
              "#9c179e"
             ],
             [
              0.4444444444444444,
              "#bd3786"
             ],
             [
              0.5555555555555556,
              "#d8576b"
             ],
             [
              0.6666666666666666,
              "#ed7953"
             ],
             [
              0.7777777777777778,
              "#fb9f3a"
             ],
             [
              0.8888888888888888,
              "#fdca26"
             ],
             [
              1,
              "#f0f921"
             ]
            ],
            "type": "surface"
           }
          ],
          "table": [
           {
            "cells": {
             "fill": {
              "color": "#EBF0F8"
             },
             "line": {
              "color": "white"
             }
            },
            "header": {
             "fill": {
              "color": "#C8D4E3"
             },
             "line": {
              "color": "white"
             }
            },
            "type": "table"
           }
          ]
         },
         "layout": {
          "annotationdefaults": {
           "arrowcolor": "#2a3f5f",
           "arrowhead": 0,
           "arrowwidth": 1
          },
          "autotypenumbers": "strict",
          "coloraxis": {
           "colorbar": {
            "outlinewidth": 0,
            "ticks": ""
           }
          },
          "colorscale": {
           "diverging": [
            [
             0,
             "#8e0152"
            ],
            [
             0.1,
             "#c51b7d"
            ],
            [
             0.2,
             "#de77ae"
            ],
            [
             0.3,
             "#f1b6da"
            ],
            [
             0.4,
             "#fde0ef"
            ],
            [
             0.5,
             "#f7f7f7"
            ],
            [
             0.6,
             "#e6f5d0"
            ],
            [
             0.7,
             "#b8e186"
            ],
            [
             0.8,
             "#7fbc41"
            ],
            [
             0.9,
             "#4d9221"
            ],
            [
             1,
             "#276419"
            ]
           ],
           "sequential": [
            [
             0,
             "#0d0887"
            ],
            [
             0.1111111111111111,
             "#46039f"
            ],
            [
             0.2222222222222222,
             "#7201a8"
            ],
            [
             0.3333333333333333,
             "#9c179e"
            ],
            [
             0.4444444444444444,
             "#bd3786"
            ],
            [
             0.5555555555555556,
             "#d8576b"
            ],
            [
             0.6666666666666666,
             "#ed7953"
            ],
            [
             0.7777777777777778,
             "#fb9f3a"
            ],
            [
             0.8888888888888888,
             "#fdca26"
            ],
            [
             1,
             "#f0f921"
            ]
           ],
           "sequentialminus": [
            [
             0,
             "#0d0887"
            ],
            [
             0.1111111111111111,
             "#46039f"
            ],
            [
             0.2222222222222222,
             "#7201a8"
            ],
            [
             0.3333333333333333,
             "#9c179e"
            ],
            [
             0.4444444444444444,
             "#bd3786"
            ],
            [
             0.5555555555555556,
             "#d8576b"
            ],
            [
             0.6666666666666666,
             "#ed7953"
            ],
            [
             0.7777777777777778,
             "#fb9f3a"
            ],
            [
             0.8888888888888888,
             "#fdca26"
            ],
            [
             1,
             "#f0f921"
            ]
           ]
          },
          "colorway": [
           "#636efa",
           "#EF553B",
           "#00cc96",
           "#ab63fa",
           "#FFA15A",
           "#19d3f3",
           "#FF6692",
           "#B6E880",
           "#FF97FF",
           "#FECB52"
          ],
          "font": {
           "color": "#2a3f5f"
          },
          "geo": {
           "bgcolor": "white",
           "lakecolor": "white",
           "landcolor": "#E5ECF6",
           "showlakes": true,
           "showland": true,
           "subunitcolor": "white"
          },
          "hoverlabel": {
           "align": "left"
          },
          "hovermode": "closest",
          "mapbox": {
           "style": "light"
          },
          "paper_bgcolor": "white",
          "plot_bgcolor": "#E5ECF6",
          "polar": {
           "angularaxis": {
            "gridcolor": "white",
            "linecolor": "white",
            "ticks": ""
           },
           "bgcolor": "#E5ECF6",
           "radialaxis": {
            "gridcolor": "white",
            "linecolor": "white",
            "ticks": ""
           }
          },
          "scene": {
           "xaxis": {
            "backgroundcolor": "#E5ECF6",
            "gridcolor": "white",
            "gridwidth": 2,
            "linecolor": "white",
            "showbackground": true,
            "ticks": "",
            "zerolinecolor": "white"
           },
           "yaxis": {
            "backgroundcolor": "#E5ECF6",
            "gridcolor": "white",
            "gridwidth": 2,
            "linecolor": "white",
            "showbackground": true,
            "ticks": "",
            "zerolinecolor": "white"
           },
           "zaxis": {
            "backgroundcolor": "#E5ECF6",
            "gridcolor": "white",
            "gridwidth": 2,
            "linecolor": "white",
            "showbackground": true,
            "ticks": "",
            "zerolinecolor": "white"
           }
          },
          "shapedefaults": {
           "line": {
            "color": "#2a3f5f"
           }
          },
          "ternary": {
           "aaxis": {
            "gridcolor": "white",
            "linecolor": "white",
            "ticks": ""
           },
           "baxis": {
            "gridcolor": "white",
            "linecolor": "white",
            "ticks": ""
           },
           "bgcolor": "#E5ECF6",
           "caxis": {
            "gridcolor": "white",
            "linecolor": "white",
            "ticks": ""
           }
          },
          "title": {
           "x": 0.05
          },
          "xaxis": {
           "automargin": true,
           "gridcolor": "white",
           "linecolor": "white",
           "ticks": "",
           "title": {
            "standoff": 15
           },
           "zerolinecolor": "white",
           "zerolinewidth": 2
          },
          "yaxis": {
           "automargin": true,
           "gridcolor": "white",
           "linecolor": "white",
           "ticks": "",
           "title": {
            "standoff": 15
           },
           "zerolinecolor": "white",
           "zerolinewidth": 2
          }
         }
        },
        "title": {
         "font": {
          "color": "#5F5F5F",
          "size": 22
         },
         "text": "Bewertung GraphRAG-System nach Fake-News-Art",
         "x": 0,
         "xanchor": "left"
        },
        "width": 800,
        "xaxis": {
         "anchor": "y",
         "domain": [
          0,
          1
         ],
         "linecolor": "#5F5F5F",
         "range": [
          0,
          150.70000000000002
         ],
         "showgrid": false,
         "showline": true,
         "tickfont": {
          "size": 14
         },
         "ticks": "",
         "title": {
          "text": "Anzahl"
         }
        },
        "yaxis": {
         "anchor": "x",
         "categoryarray": [
          "Framing",
          "Exaggeration",
          "Fake Fact"
         ],
         "categoryorder": "array",
         "domain": [
          0,
          1
         ],
         "gridcolor": "lightgrey",
         "linecolor": "#5F5F5F",
         "showgrid": false,
         "showline": true,
         "tickfont": {
          "size": 14
         },
         "ticks": "",
         "title": {
          "text": "Fake-News-Art"
         }
        }
       }
      }
     },
     "metadata": {},
     "output_type": "display_data"
    }
   ],
   "source": [
    "# Diagramm für GraphRAG System\n",
    "\n",
    "df_graph_sorted = df_graph.sort_values(by=\"anzahl\", ascending=False)\n",
    "max_val_graph = df_graph[\"anzahl\"].max()\n",
    "\n",
    "fig_graph = px.bar(\n",
    "    df_graph_sorted,\n",
    "    y=\"fake_news_art\",\n",
    "    x=\"anzahl\",\n",
    "    color=\"bewertung\",\n",
    "    color_discrete_map=color_map,\n",
    "    barmode=\"group\",\n",
    "    title=\"Bewertung GraphRAG-System nach Fake-News-Art\",\n",
    "    text=\"anzahl\",\n",
    "    orientation=\"h\",\n",
    "    category_orders={\"fake_news_art\": [\"Fake Fact\", \"Exaggeration\", \"Framing\"]}\n",
    ")\n",
    "\n",
    "\n",
    "fig_graph.update_layout(\n",
    "    title=dict(text=fig_graph.layout.title.text, x=0, xanchor='left'),\n",
    "    bargroupgap=0.1,\n",
    "    xaxis_title=\"Anzahl\",  \n",
    "    yaxis_title=\"Fake-News-Art\",\n",
    "    **layout_kwargs\n",
    ")\n",
    "\n",
    "fig_graph.update_xaxes(\n",
    "    showgrid=False,       \n",
    "    showline=True,   \n",
    "    linecolor='#5F5F5F',  \n",
    "    range=[0, max_val_graph * 1.1],\n",
    "    **xaxis_kwargs\n",
    ")\n",
    "\n",
    "fig_graph.update_yaxes(\n",
    "    showgrid=False,       \n",
    "    showline=True,        \n",
    "    linecolor='#5F5F5F',\n",
    "    **yaxis_kwargs\n",
    ")\n",
    "\n",
    "fig_graph.update_traces(textposition=\"outside\")"
   ]
  },
  {
   "cell_type": "markdown",
   "id": "4210e12f",
   "metadata": {},
   "source": [
    "**Schaubild zu der Häufigkeit der Bewertungsausprägungen im HybridRAG-System, aufgeschlüsselt nach Fake News Arten:**"
   ]
  },
  {
   "cell_type": "code",
   "execution_count": 35,
   "id": "e9325555",
   "metadata": {},
   "outputs": [
    {
     "data": {
      "application/vnd.plotly.v1+json": {
       "config": {
        "plotlyServerURL": "https://plot.ly"
       },
       "data": [
        {
         "alignmentgroup": "True",
         "hovertemplate": "bewertung=0<br>anzahl=%{text}<br>fake_news_art=%{y}<extra></extra>",
         "legendgroup": "0",
         "marker": {
          "color": "#B3B3B3",
          "pattern": {
           "shape": ""
          }
         },
         "name": "0",
         "offsetgroup": "0",
         "orientation": "h",
         "showlegend": true,
         "text": {
          "bdata": "AAAAAADAUEAAAAAAAABRQAAAAAAAwFFA",
          "dtype": "f8"
         },
         "textposition": "outside",
         "type": "bar",
         "x": {
          "bdata": "Q0RH",
          "dtype": "i1"
         },
         "xaxis": "x",
         "y": [
          "Framing",
          "Fake Fact",
          "Exaggeration"
         ],
         "yaxis": "y"
        },
        {
         "alignmentgroup": "True",
         "hovertemplate": "bewertung=1<br>anzahl=%{text}<br>fake_news_art=%{y}<extra></extra>",
         "legendgroup": "1",
         "marker": {
          "color": "#096CB3",
          "pattern": {
           "shape": ""
          }
         },
         "name": "1",
         "offsetgroup": "1",
         "orientation": "h",
         "showlegend": true,
         "text": {
          "bdata": "AAAAAADAXUAAAAAAAIBeQAAAAAAAwF5A",
          "dtype": "f8"
         },
         "textposition": "outside",
         "type": "bar",
         "x": {
          "bdata": "d3p7",
          "dtype": "i1"
         },
         "xaxis": "x",
         "y": [
          "Exaggeration",
          "Fake Fact",
          "Framing"
         ],
         "yaxis": "y"
        }
       ],
       "layout": {
        "bargroupgap": 0.1,
        "barmode": "group",
        "font": {
         "color": "#5F5F5F",
         "size": 16
        },
        "height": 550,
        "legend": {
         "title": {
          "text": "Bewertung"
         },
         "tracegroupgap": 0
        },
        "margin": {
         "t": 100
        },
        "paper_bgcolor": "white",
        "plot_bgcolor": "white",
        "template": {
         "data": {
          "bar": [
           {
            "error_x": {
             "color": "#2a3f5f"
            },
            "error_y": {
             "color": "#2a3f5f"
            },
            "marker": {
             "line": {
              "color": "#E5ECF6",
              "width": 0.5
             },
             "pattern": {
              "fillmode": "overlay",
              "size": 10,
              "solidity": 0.2
             }
            },
            "type": "bar"
           }
          ],
          "barpolar": [
           {
            "marker": {
             "line": {
              "color": "#E5ECF6",
              "width": 0.5
             },
             "pattern": {
              "fillmode": "overlay",
              "size": 10,
              "solidity": 0.2
             }
            },
            "type": "barpolar"
           }
          ],
          "carpet": [
           {
            "aaxis": {
             "endlinecolor": "#2a3f5f",
             "gridcolor": "white",
             "linecolor": "white",
             "minorgridcolor": "white",
             "startlinecolor": "#2a3f5f"
            },
            "baxis": {
             "endlinecolor": "#2a3f5f",
             "gridcolor": "white",
             "linecolor": "white",
             "minorgridcolor": "white",
             "startlinecolor": "#2a3f5f"
            },
            "type": "carpet"
           }
          ],
          "choropleth": [
           {
            "colorbar": {
             "outlinewidth": 0,
             "ticks": ""
            },
            "type": "choropleth"
           }
          ],
          "contour": [
           {
            "colorbar": {
             "outlinewidth": 0,
             "ticks": ""
            },
            "colorscale": [
             [
              0,
              "#0d0887"
             ],
             [
              0.1111111111111111,
              "#46039f"
             ],
             [
              0.2222222222222222,
              "#7201a8"
             ],
             [
              0.3333333333333333,
              "#9c179e"
             ],
             [
              0.4444444444444444,
              "#bd3786"
             ],
             [
              0.5555555555555556,
              "#d8576b"
             ],
             [
              0.6666666666666666,
              "#ed7953"
             ],
             [
              0.7777777777777778,
              "#fb9f3a"
             ],
             [
              0.8888888888888888,
              "#fdca26"
             ],
             [
              1,
              "#f0f921"
             ]
            ],
            "type": "contour"
           }
          ],
          "contourcarpet": [
           {
            "colorbar": {
             "outlinewidth": 0,
             "ticks": ""
            },
            "type": "contourcarpet"
           }
          ],
          "heatmap": [
           {
            "colorbar": {
             "outlinewidth": 0,
             "ticks": ""
            },
            "colorscale": [
             [
              0,
              "#0d0887"
             ],
             [
              0.1111111111111111,
              "#46039f"
             ],
             [
              0.2222222222222222,
              "#7201a8"
             ],
             [
              0.3333333333333333,
              "#9c179e"
             ],
             [
              0.4444444444444444,
              "#bd3786"
             ],
             [
              0.5555555555555556,
              "#d8576b"
             ],
             [
              0.6666666666666666,
              "#ed7953"
             ],
             [
              0.7777777777777778,
              "#fb9f3a"
             ],
             [
              0.8888888888888888,
              "#fdca26"
             ],
             [
              1,
              "#f0f921"
             ]
            ],
            "type": "heatmap"
           }
          ],
          "histogram": [
           {
            "marker": {
             "pattern": {
              "fillmode": "overlay",
              "size": 10,
              "solidity": 0.2
             }
            },
            "type": "histogram"
           }
          ],
          "histogram2d": [
           {
            "colorbar": {
             "outlinewidth": 0,
             "ticks": ""
            },
            "colorscale": [
             [
              0,
              "#0d0887"
             ],
             [
              0.1111111111111111,
              "#46039f"
             ],
             [
              0.2222222222222222,
              "#7201a8"
             ],
             [
              0.3333333333333333,
              "#9c179e"
             ],
             [
              0.4444444444444444,
              "#bd3786"
             ],
             [
              0.5555555555555556,
              "#d8576b"
             ],
             [
              0.6666666666666666,
              "#ed7953"
             ],
             [
              0.7777777777777778,
              "#fb9f3a"
             ],
             [
              0.8888888888888888,
              "#fdca26"
             ],
             [
              1,
              "#f0f921"
             ]
            ],
            "type": "histogram2d"
           }
          ],
          "histogram2dcontour": [
           {
            "colorbar": {
             "outlinewidth": 0,
             "ticks": ""
            },
            "colorscale": [
             [
              0,
              "#0d0887"
             ],
             [
              0.1111111111111111,
              "#46039f"
             ],
             [
              0.2222222222222222,
              "#7201a8"
             ],
             [
              0.3333333333333333,
              "#9c179e"
             ],
             [
              0.4444444444444444,
              "#bd3786"
             ],
             [
              0.5555555555555556,
              "#d8576b"
             ],
             [
              0.6666666666666666,
              "#ed7953"
             ],
             [
              0.7777777777777778,
              "#fb9f3a"
             ],
             [
              0.8888888888888888,
              "#fdca26"
             ],
             [
              1,
              "#f0f921"
             ]
            ],
            "type": "histogram2dcontour"
           }
          ],
          "mesh3d": [
           {
            "colorbar": {
             "outlinewidth": 0,
             "ticks": ""
            },
            "type": "mesh3d"
           }
          ],
          "parcoords": [
           {
            "line": {
             "colorbar": {
              "outlinewidth": 0,
              "ticks": ""
             }
            },
            "type": "parcoords"
           }
          ],
          "pie": [
           {
            "automargin": true,
            "type": "pie"
           }
          ],
          "scatter": [
           {
            "fillpattern": {
             "fillmode": "overlay",
             "size": 10,
             "solidity": 0.2
            },
            "type": "scatter"
           }
          ],
          "scatter3d": [
           {
            "line": {
             "colorbar": {
              "outlinewidth": 0,
              "ticks": ""
             }
            },
            "marker": {
             "colorbar": {
              "outlinewidth": 0,
              "ticks": ""
             }
            },
            "type": "scatter3d"
           }
          ],
          "scattercarpet": [
           {
            "marker": {
             "colorbar": {
              "outlinewidth": 0,
              "ticks": ""
             }
            },
            "type": "scattercarpet"
           }
          ],
          "scattergeo": [
           {
            "marker": {
             "colorbar": {
              "outlinewidth": 0,
              "ticks": ""
             }
            },
            "type": "scattergeo"
           }
          ],
          "scattergl": [
           {
            "marker": {
             "colorbar": {
              "outlinewidth": 0,
              "ticks": ""
             }
            },
            "type": "scattergl"
           }
          ],
          "scattermap": [
           {
            "marker": {
             "colorbar": {
              "outlinewidth": 0,
              "ticks": ""
             }
            },
            "type": "scattermap"
           }
          ],
          "scattermapbox": [
           {
            "marker": {
             "colorbar": {
              "outlinewidth": 0,
              "ticks": ""
             }
            },
            "type": "scattermapbox"
           }
          ],
          "scatterpolar": [
           {
            "marker": {
             "colorbar": {
              "outlinewidth": 0,
              "ticks": ""
             }
            },
            "type": "scatterpolar"
           }
          ],
          "scatterpolargl": [
           {
            "marker": {
             "colorbar": {
              "outlinewidth": 0,
              "ticks": ""
             }
            },
            "type": "scatterpolargl"
           }
          ],
          "scatterternary": [
           {
            "marker": {
             "colorbar": {
              "outlinewidth": 0,
              "ticks": ""
             }
            },
            "type": "scatterternary"
           }
          ],
          "surface": [
           {
            "colorbar": {
             "outlinewidth": 0,
             "ticks": ""
            },
            "colorscale": [
             [
              0,
              "#0d0887"
             ],
             [
              0.1111111111111111,
              "#46039f"
             ],
             [
              0.2222222222222222,
              "#7201a8"
             ],
             [
              0.3333333333333333,
              "#9c179e"
             ],
             [
              0.4444444444444444,
              "#bd3786"
             ],
             [
              0.5555555555555556,
              "#d8576b"
             ],
             [
              0.6666666666666666,
              "#ed7953"
             ],
             [
              0.7777777777777778,
              "#fb9f3a"
             ],
             [
              0.8888888888888888,
              "#fdca26"
             ],
             [
              1,
              "#f0f921"
             ]
            ],
            "type": "surface"
           }
          ],
          "table": [
           {
            "cells": {
             "fill": {
              "color": "#EBF0F8"
             },
             "line": {
              "color": "white"
             }
            },
            "header": {
             "fill": {
              "color": "#C8D4E3"
             },
             "line": {
              "color": "white"
             }
            },
            "type": "table"
           }
          ]
         },
         "layout": {
          "annotationdefaults": {
           "arrowcolor": "#2a3f5f",
           "arrowhead": 0,
           "arrowwidth": 1
          },
          "autotypenumbers": "strict",
          "coloraxis": {
           "colorbar": {
            "outlinewidth": 0,
            "ticks": ""
           }
          },
          "colorscale": {
           "diverging": [
            [
             0,
             "#8e0152"
            ],
            [
             0.1,
             "#c51b7d"
            ],
            [
             0.2,
             "#de77ae"
            ],
            [
             0.3,
             "#f1b6da"
            ],
            [
             0.4,
             "#fde0ef"
            ],
            [
             0.5,
             "#f7f7f7"
            ],
            [
             0.6,
             "#e6f5d0"
            ],
            [
             0.7,
             "#b8e186"
            ],
            [
             0.8,
             "#7fbc41"
            ],
            [
             0.9,
             "#4d9221"
            ],
            [
             1,
             "#276419"
            ]
           ],
           "sequential": [
            [
             0,
             "#0d0887"
            ],
            [
             0.1111111111111111,
             "#46039f"
            ],
            [
             0.2222222222222222,
             "#7201a8"
            ],
            [
             0.3333333333333333,
             "#9c179e"
            ],
            [
             0.4444444444444444,
             "#bd3786"
            ],
            [
             0.5555555555555556,
             "#d8576b"
            ],
            [
             0.6666666666666666,
             "#ed7953"
            ],
            [
             0.7777777777777778,
             "#fb9f3a"
            ],
            [
             0.8888888888888888,
             "#fdca26"
            ],
            [
             1,
             "#f0f921"
            ]
           ],
           "sequentialminus": [
            [
             0,
             "#0d0887"
            ],
            [
             0.1111111111111111,
             "#46039f"
            ],
            [
             0.2222222222222222,
             "#7201a8"
            ],
            [
             0.3333333333333333,
             "#9c179e"
            ],
            [
             0.4444444444444444,
             "#bd3786"
            ],
            [
             0.5555555555555556,
             "#d8576b"
            ],
            [
             0.6666666666666666,
             "#ed7953"
            ],
            [
             0.7777777777777778,
             "#fb9f3a"
            ],
            [
             0.8888888888888888,
             "#fdca26"
            ],
            [
             1,
             "#f0f921"
            ]
           ]
          },
          "colorway": [
           "#636efa",
           "#EF553B",
           "#00cc96",
           "#ab63fa",
           "#FFA15A",
           "#19d3f3",
           "#FF6692",
           "#B6E880",
           "#FF97FF",
           "#FECB52"
          ],
          "font": {
           "color": "#2a3f5f"
          },
          "geo": {
           "bgcolor": "white",
           "lakecolor": "white",
           "landcolor": "#E5ECF6",
           "showlakes": true,
           "showland": true,
           "subunitcolor": "white"
          },
          "hoverlabel": {
           "align": "left"
          },
          "hovermode": "closest",
          "mapbox": {
           "style": "light"
          },
          "paper_bgcolor": "white",
          "plot_bgcolor": "#E5ECF6",
          "polar": {
           "angularaxis": {
            "gridcolor": "white",
            "linecolor": "white",
            "ticks": ""
           },
           "bgcolor": "#E5ECF6",
           "radialaxis": {
            "gridcolor": "white",
            "linecolor": "white",
            "ticks": ""
           }
          },
          "scene": {
           "xaxis": {
            "backgroundcolor": "#E5ECF6",
            "gridcolor": "white",
            "gridwidth": 2,
            "linecolor": "white",
            "showbackground": true,
            "ticks": "",
            "zerolinecolor": "white"
           },
           "yaxis": {
            "backgroundcolor": "#E5ECF6",
            "gridcolor": "white",
            "gridwidth": 2,
            "linecolor": "white",
            "showbackground": true,
            "ticks": "",
            "zerolinecolor": "white"
           },
           "zaxis": {
            "backgroundcolor": "#E5ECF6",
            "gridcolor": "white",
            "gridwidth": 2,
            "linecolor": "white",
            "showbackground": true,
            "ticks": "",
            "zerolinecolor": "white"
           }
          },
          "shapedefaults": {
           "line": {
            "color": "#2a3f5f"
           }
          },
          "ternary": {
           "aaxis": {
            "gridcolor": "white",
            "linecolor": "white",
            "ticks": ""
           },
           "baxis": {
            "gridcolor": "white",
            "linecolor": "white",
            "ticks": ""
           },
           "bgcolor": "#E5ECF6",
           "caxis": {
            "gridcolor": "white",
            "linecolor": "white",
            "ticks": ""
           }
          },
          "title": {
           "x": 0.05
          },
          "xaxis": {
           "automargin": true,
           "gridcolor": "white",
           "linecolor": "white",
           "ticks": "",
           "title": {
            "standoff": 15
           },
           "zerolinecolor": "white",
           "zerolinewidth": 2
          },
          "yaxis": {
           "automargin": true,
           "gridcolor": "white",
           "linecolor": "white",
           "ticks": "",
           "title": {
            "standoff": 15
           },
           "zerolinecolor": "white",
           "zerolinewidth": 2
          }
         }
        },
        "title": {
         "font": {
          "color": "#5F5F5F",
          "size": 22
         },
         "text": "Bewertung HybridRAG-System nach Fake-News-Art",
         "x": 0,
         "xanchor": "left"
        },
        "width": 800,
        "xaxis": {
         "anchor": "y",
         "domain": [
          0,
          1
         ],
         "linecolor": "#5F5F5F",
         "range": [
          0,
          135.3
         ],
         "showgrid": false,
         "showline": true,
         "tickfont": {
          "size": 14
         },
         "ticks": "",
         "title": {
          "text": "Anzahl"
         }
        },
        "yaxis": {
         "anchor": "x",
         "categoryarray": [
          "Framing",
          "Exaggeration",
          "Fake Fact"
         ],
         "categoryorder": "array",
         "domain": [
          0,
          1
         ],
         "gridcolor": "lightgrey",
         "linecolor": "#5F5F5F",
         "showgrid": false,
         "showline": true,
         "tickfont": {
          "size": 14
         },
         "ticks": "",
         "title": {
          "text": "Fake-News-Art"
         }
        }
       }
      }
     },
     "metadata": {},
     "output_type": "display_data"
    }
   ],
   "source": [
    "# Diagramm für HybridRAG\n",
    "\n",
    "df_hybrid_sorted = df_hybrid.sort_values(by=\"anzahl\")\n",
    "max_val_hybrid = df_hybrid[\"anzahl\"].max()\n",
    "\n",
    "fig_hybrid = px.bar(\n",
    "    df_hybrid_sorted,\n",
    "    y=\"fake_news_art\",\n",
    "    x=\"anzahl\",\n",
    "    color=\"bewertung\",\n",
    "    color_discrete_map=color_map,\n",
    "    barmode=\"group\",\n",
    "    title=\"Bewertung HybridRAG-System nach Fake-News-Art\",\n",
    "    text=\"anzahl\",\n",
    "    orientation=\"h\",\n",
    "    category_orders={\"fake_news_art\": [\"Fake Fact\", \"Exaggeration\", \"Framing\"]}\n",
    ")\n",
    "\n",
    "\n",
    "fig_hybrid.update_layout(\n",
    "    title=dict(text=fig_hybrid.layout.title.text, x=0, xanchor='left'),\n",
    "    bargroupgap=0.1,\n",
    "    xaxis_title=\"Anzahl\",  \n",
    "    yaxis_title=\"Fake-News-Art\",\n",
    "    **layout_kwargs\n",
    ")\n",
    "\n",
    "fig_hybrid.update_xaxes(\n",
    "    showgrid=False,       \n",
    "    showline=True,   \n",
    "    linecolor='#5F5F5F',  \n",
    "    range=[0, max_val_hybrid * 1.1],\n",
    "    **xaxis_kwargs\n",
    ")\n",
    "\n",
    "fig_hybrid.update_yaxes(\n",
    "    showgrid=False,       \n",
    "    showline=True,        \n",
    "    linecolor='#5F5F5F',\n",
    "    **yaxis_kwargs\n",
    ")\n",
    "\n",
    "fig_hybrid.update_traces(textposition=\"outside\")"
   ]
  },
  {
   "cell_type": "markdown",
   "id": "a4af9e75",
   "metadata": {},
   "source": [
    "**Schaubild zu der Häufigkeit der Bewertungsausprägungen Für jedes System im manipulierten Kontext**"
   ]
  },
  {
   "cell_type": "code",
   "execution_count": 36,
   "id": "643f2639",
   "metadata": {},
   "outputs": [
    {
     "data": {
      "application/vnd.plotly.v1+json": {
       "config": {
        "plotlyServerURL": "https://plot.ly"
       },
       "data": [
        {
         "alignmentgroup": "True",
         "hovertemplate": "bewertung=0<br>anzahl=%{text}<br>system=%{y}<extra></extra>",
         "legendgroup": "0",
         "marker": {
          "color": "#B3B3B3",
          "pattern": {
           "shape": ""
          }
         },
         "name": "0",
         "offsetgroup": "0",
         "orientation": "h",
         "showlegend": true,
         "text": {
          "bdata": "AAAAAACgaUAAAAAAAEB4QAAAAAAAwGlA",
          "dtype": "f8"
         },
         "textposition": "outside",
         "type": "bar",
         "x": {
          "bdata": "zQCEAc4A",
          "dtype": "i2"
         },
         "xaxis": "x",
         "y": [
          "VectorRAG",
          "GraphRAG",
          "HybridRAG"
         ],
         "yaxis": "y"
        },
        {
         "alignmentgroup": "True",
         "hovertemplate": "bewertung=1<br>anzahl=%{text}<br>system=%{y}<extra></extra>",
         "legendgroup": "1",
         "marker": {
          "color": "#096CB3",
          "pattern": {
           "shape": ""
          }
         },
         "name": "1",
         "offsetgroup": "1",
         "orientation": "h",
         "showlegend": true,
         "text": {
          "bdata": "AAAAAADQdkAAAAAAAMBmQAAAAAAAwHZA",
          "dtype": "f8"
         },
         "textposition": "outside",
         "type": "bar",
         "x": {
          "bdata": "bQG2AGwB",
          "dtype": "i2"
         },
         "xaxis": "x",
         "y": [
          "VectorRAG",
          "GraphRAG",
          "HybridRAG"
         ],
         "yaxis": "y"
        }
       ],
       "layout": {
        "bargroupgap": 0.1,
        "barmode": "group",
        "font": {
         "color": "#5F5F5F",
         "size": 16
        },
        "height": 550,
        "legend": {
         "title": {
          "text": "Bewertung"
         },
         "tracegroupgap": 0
        },
        "margin": {
         "t": 100
        },
        "paper_bgcolor": "white",
        "plot_bgcolor": "white",
        "template": {
         "data": {
          "bar": [
           {
            "error_x": {
             "color": "#2a3f5f"
            },
            "error_y": {
             "color": "#2a3f5f"
            },
            "marker": {
             "line": {
              "color": "#E5ECF6",
              "width": 0.5
             },
             "pattern": {
              "fillmode": "overlay",
              "size": 10,
              "solidity": 0.2
             }
            },
            "type": "bar"
           }
          ],
          "barpolar": [
           {
            "marker": {
             "line": {
              "color": "#E5ECF6",
              "width": 0.5
             },
             "pattern": {
              "fillmode": "overlay",
              "size": 10,
              "solidity": 0.2
             }
            },
            "type": "barpolar"
           }
          ],
          "carpet": [
           {
            "aaxis": {
             "endlinecolor": "#2a3f5f",
             "gridcolor": "white",
             "linecolor": "white",
             "minorgridcolor": "white",
             "startlinecolor": "#2a3f5f"
            },
            "baxis": {
             "endlinecolor": "#2a3f5f",
             "gridcolor": "white",
             "linecolor": "white",
             "minorgridcolor": "white",
             "startlinecolor": "#2a3f5f"
            },
            "type": "carpet"
           }
          ],
          "choropleth": [
           {
            "colorbar": {
             "outlinewidth": 0,
             "ticks": ""
            },
            "type": "choropleth"
           }
          ],
          "contour": [
           {
            "colorbar": {
             "outlinewidth": 0,
             "ticks": ""
            },
            "colorscale": [
             [
              0,
              "#0d0887"
             ],
             [
              0.1111111111111111,
              "#46039f"
             ],
             [
              0.2222222222222222,
              "#7201a8"
             ],
             [
              0.3333333333333333,
              "#9c179e"
             ],
             [
              0.4444444444444444,
              "#bd3786"
             ],
             [
              0.5555555555555556,
              "#d8576b"
             ],
             [
              0.6666666666666666,
              "#ed7953"
             ],
             [
              0.7777777777777778,
              "#fb9f3a"
             ],
             [
              0.8888888888888888,
              "#fdca26"
             ],
             [
              1,
              "#f0f921"
             ]
            ],
            "type": "contour"
           }
          ],
          "contourcarpet": [
           {
            "colorbar": {
             "outlinewidth": 0,
             "ticks": ""
            },
            "type": "contourcarpet"
           }
          ],
          "heatmap": [
           {
            "colorbar": {
             "outlinewidth": 0,
             "ticks": ""
            },
            "colorscale": [
             [
              0,
              "#0d0887"
             ],
             [
              0.1111111111111111,
              "#46039f"
             ],
             [
              0.2222222222222222,
              "#7201a8"
             ],
             [
              0.3333333333333333,
              "#9c179e"
             ],
             [
              0.4444444444444444,
              "#bd3786"
             ],
             [
              0.5555555555555556,
              "#d8576b"
             ],
             [
              0.6666666666666666,
              "#ed7953"
             ],
             [
              0.7777777777777778,
              "#fb9f3a"
             ],
             [
              0.8888888888888888,
              "#fdca26"
             ],
             [
              1,
              "#f0f921"
             ]
            ],
            "type": "heatmap"
           }
          ],
          "histogram": [
           {
            "marker": {
             "pattern": {
              "fillmode": "overlay",
              "size": 10,
              "solidity": 0.2
             }
            },
            "type": "histogram"
           }
          ],
          "histogram2d": [
           {
            "colorbar": {
             "outlinewidth": 0,
             "ticks": ""
            },
            "colorscale": [
             [
              0,
              "#0d0887"
             ],
             [
              0.1111111111111111,
              "#46039f"
             ],
             [
              0.2222222222222222,
              "#7201a8"
             ],
             [
              0.3333333333333333,
              "#9c179e"
             ],
             [
              0.4444444444444444,
              "#bd3786"
             ],
             [
              0.5555555555555556,
              "#d8576b"
             ],
             [
              0.6666666666666666,
              "#ed7953"
             ],
             [
              0.7777777777777778,
              "#fb9f3a"
             ],
             [
              0.8888888888888888,
              "#fdca26"
             ],
             [
              1,
              "#f0f921"
             ]
            ],
            "type": "histogram2d"
           }
          ],
          "histogram2dcontour": [
           {
            "colorbar": {
             "outlinewidth": 0,
             "ticks": ""
            },
            "colorscale": [
             [
              0,
              "#0d0887"
             ],
             [
              0.1111111111111111,
              "#46039f"
             ],
             [
              0.2222222222222222,
              "#7201a8"
             ],
             [
              0.3333333333333333,
              "#9c179e"
             ],
             [
              0.4444444444444444,
              "#bd3786"
             ],
             [
              0.5555555555555556,
              "#d8576b"
             ],
             [
              0.6666666666666666,
              "#ed7953"
             ],
             [
              0.7777777777777778,
              "#fb9f3a"
             ],
             [
              0.8888888888888888,
              "#fdca26"
             ],
             [
              1,
              "#f0f921"
             ]
            ],
            "type": "histogram2dcontour"
           }
          ],
          "mesh3d": [
           {
            "colorbar": {
             "outlinewidth": 0,
             "ticks": ""
            },
            "type": "mesh3d"
           }
          ],
          "parcoords": [
           {
            "line": {
             "colorbar": {
              "outlinewidth": 0,
              "ticks": ""
             }
            },
            "type": "parcoords"
           }
          ],
          "pie": [
           {
            "automargin": true,
            "type": "pie"
           }
          ],
          "scatter": [
           {
            "fillpattern": {
             "fillmode": "overlay",
             "size": 10,
             "solidity": 0.2
            },
            "type": "scatter"
           }
          ],
          "scatter3d": [
           {
            "line": {
             "colorbar": {
              "outlinewidth": 0,
              "ticks": ""
             }
            },
            "marker": {
             "colorbar": {
              "outlinewidth": 0,
              "ticks": ""
             }
            },
            "type": "scatter3d"
           }
          ],
          "scattercarpet": [
           {
            "marker": {
             "colorbar": {
              "outlinewidth": 0,
              "ticks": ""
             }
            },
            "type": "scattercarpet"
           }
          ],
          "scattergeo": [
           {
            "marker": {
             "colorbar": {
              "outlinewidth": 0,
              "ticks": ""
             }
            },
            "type": "scattergeo"
           }
          ],
          "scattergl": [
           {
            "marker": {
             "colorbar": {
              "outlinewidth": 0,
              "ticks": ""
             }
            },
            "type": "scattergl"
           }
          ],
          "scattermap": [
           {
            "marker": {
             "colorbar": {
              "outlinewidth": 0,
              "ticks": ""
             }
            },
            "type": "scattermap"
           }
          ],
          "scattermapbox": [
           {
            "marker": {
             "colorbar": {
              "outlinewidth": 0,
              "ticks": ""
             }
            },
            "type": "scattermapbox"
           }
          ],
          "scatterpolar": [
           {
            "marker": {
             "colorbar": {
              "outlinewidth": 0,
              "ticks": ""
             }
            },
            "type": "scatterpolar"
           }
          ],
          "scatterpolargl": [
           {
            "marker": {
             "colorbar": {
              "outlinewidth": 0,
              "ticks": ""
             }
            },
            "type": "scatterpolargl"
           }
          ],
          "scatterternary": [
           {
            "marker": {
             "colorbar": {
              "outlinewidth": 0,
              "ticks": ""
             }
            },
            "type": "scatterternary"
           }
          ],
          "surface": [
           {
            "colorbar": {
             "outlinewidth": 0,
             "ticks": ""
            },
            "colorscale": [
             [
              0,
              "#0d0887"
             ],
             [
              0.1111111111111111,
              "#46039f"
             ],
             [
              0.2222222222222222,
              "#7201a8"
             ],
             [
              0.3333333333333333,
              "#9c179e"
             ],
             [
              0.4444444444444444,
              "#bd3786"
             ],
             [
              0.5555555555555556,
              "#d8576b"
             ],
             [
              0.6666666666666666,
              "#ed7953"
             ],
             [
              0.7777777777777778,
              "#fb9f3a"
             ],
             [
              0.8888888888888888,
              "#fdca26"
             ],
             [
              1,
              "#f0f921"
             ]
            ],
            "type": "surface"
           }
          ],
          "table": [
           {
            "cells": {
             "fill": {
              "color": "#EBF0F8"
             },
             "line": {
              "color": "white"
             }
            },
            "header": {
             "fill": {
              "color": "#C8D4E3"
             },
             "line": {
              "color": "white"
             }
            },
            "type": "table"
           }
          ]
         },
         "layout": {
          "annotationdefaults": {
           "arrowcolor": "#2a3f5f",
           "arrowhead": 0,
           "arrowwidth": 1
          },
          "autotypenumbers": "strict",
          "coloraxis": {
           "colorbar": {
            "outlinewidth": 0,
            "ticks": ""
           }
          },
          "colorscale": {
           "diverging": [
            [
             0,
             "#8e0152"
            ],
            [
             0.1,
             "#c51b7d"
            ],
            [
             0.2,
             "#de77ae"
            ],
            [
             0.3,
             "#f1b6da"
            ],
            [
             0.4,
             "#fde0ef"
            ],
            [
             0.5,
             "#f7f7f7"
            ],
            [
             0.6,
             "#e6f5d0"
            ],
            [
             0.7,
             "#b8e186"
            ],
            [
             0.8,
             "#7fbc41"
            ],
            [
             0.9,
             "#4d9221"
            ],
            [
             1,
             "#276419"
            ]
           ],
           "sequential": [
            [
             0,
             "#0d0887"
            ],
            [
             0.1111111111111111,
             "#46039f"
            ],
            [
             0.2222222222222222,
             "#7201a8"
            ],
            [
             0.3333333333333333,
             "#9c179e"
            ],
            [
             0.4444444444444444,
             "#bd3786"
            ],
            [
             0.5555555555555556,
             "#d8576b"
            ],
            [
             0.6666666666666666,
             "#ed7953"
            ],
            [
             0.7777777777777778,
             "#fb9f3a"
            ],
            [
             0.8888888888888888,
             "#fdca26"
            ],
            [
             1,
             "#f0f921"
            ]
           ],
           "sequentialminus": [
            [
             0,
             "#0d0887"
            ],
            [
             0.1111111111111111,
             "#46039f"
            ],
            [
             0.2222222222222222,
             "#7201a8"
            ],
            [
             0.3333333333333333,
             "#9c179e"
            ],
            [
             0.4444444444444444,
             "#bd3786"
            ],
            [
             0.5555555555555556,
             "#d8576b"
            ],
            [
             0.6666666666666666,
             "#ed7953"
            ],
            [
             0.7777777777777778,
             "#fb9f3a"
            ],
            [
             0.8888888888888888,
             "#fdca26"
            ],
            [
             1,
             "#f0f921"
            ]
           ]
          },
          "colorway": [
           "#636efa",
           "#EF553B",
           "#00cc96",
           "#ab63fa",
           "#FFA15A",
           "#19d3f3",
           "#FF6692",
           "#B6E880",
           "#FF97FF",
           "#FECB52"
          ],
          "font": {
           "color": "#2a3f5f"
          },
          "geo": {
           "bgcolor": "white",
           "lakecolor": "white",
           "landcolor": "#E5ECF6",
           "showlakes": true,
           "showland": true,
           "subunitcolor": "white"
          },
          "hoverlabel": {
           "align": "left"
          },
          "hovermode": "closest",
          "mapbox": {
           "style": "light"
          },
          "paper_bgcolor": "white",
          "plot_bgcolor": "#E5ECF6",
          "polar": {
           "angularaxis": {
            "gridcolor": "white",
            "linecolor": "white",
            "ticks": ""
           },
           "bgcolor": "#E5ECF6",
           "radialaxis": {
            "gridcolor": "white",
            "linecolor": "white",
            "ticks": ""
           }
          },
          "scene": {
           "xaxis": {
            "backgroundcolor": "#E5ECF6",
            "gridcolor": "white",
            "gridwidth": 2,
            "linecolor": "white",
            "showbackground": true,
            "ticks": "",
            "zerolinecolor": "white"
           },
           "yaxis": {
            "backgroundcolor": "#E5ECF6",
            "gridcolor": "white",
            "gridwidth": 2,
            "linecolor": "white",
            "showbackground": true,
            "ticks": "",
            "zerolinecolor": "white"
           },
           "zaxis": {
            "backgroundcolor": "#E5ECF6",
            "gridcolor": "white",
            "gridwidth": 2,
            "linecolor": "white",
            "showbackground": true,
            "ticks": "",
            "zerolinecolor": "white"
           }
          },
          "shapedefaults": {
           "line": {
            "color": "#2a3f5f"
           }
          },
          "ternary": {
           "aaxis": {
            "gridcolor": "white",
            "linecolor": "white",
            "ticks": ""
           },
           "baxis": {
            "gridcolor": "white",
            "linecolor": "white",
            "ticks": ""
           },
           "bgcolor": "#E5ECF6",
           "caxis": {
            "gridcolor": "white",
            "linecolor": "white",
            "ticks": ""
           }
          },
          "title": {
           "x": 0.05
          },
          "xaxis": {
           "automargin": true,
           "gridcolor": "white",
           "linecolor": "white",
           "ticks": "",
           "title": {
            "standoff": 15
           },
           "zerolinecolor": "white",
           "zerolinewidth": 2
          },
          "yaxis": {
           "automargin": true,
           "gridcolor": "white",
           "linecolor": "white",
           "ticks": "",
           "title": {
            "standoff": 15
           },
           "zerolinecolor": "white",
           "zerolinewidth": 2
          }
         }
        },
        "title": {
         "font": {
          "color": "#5F5F5F",
          "size": 22
         },
         "text": "Gesamte Bewertungen pro System manipulierter Kontext",
         "x": 0,
         "xanchor": "left"
        },
        "width": 800,
        "xaxis": {
         "anchor": "y",
         "domain": [
          0,
          1
         ],
         "linecolor": "#5F5F5F",
         "range": [
          0,
          426.8
         ],
         "showgrid": false,
         "showline": true,
         "tickfont": {
          "size": 14
         },
         "ticks": "",
         "title": {
          "text": "Anzahl"
         }
        },
        "yaxis": {
         "anchor": "x",
         "categoryarray": [
          "GraphRAG",
          "HybridRAG",
          "VectorRAG"
         ],
         "categoryorder": "array",
         "domain": [
          0,
          1
         ],
         "gridcolor": "lightgrey",
         "linecolor": "#5F5F5F",
         "showgrid": false,
         "showline": true,
         "tickfont": {
          "size": 14
         },
         "ticks": "",
         "title": {
          "text": "System"
         }
        }
       }
      }
     },
     "metadata": {},
     "output_type": "display_data"
    }
   ],
   "source": [
    "# Summe berechnen\n",
    "df_sum = df_plot_manip.sum().reset_index()\n",
    "df_sum.columns = [\"system_bewertung\", \"anzahl\"]  # explizit Spalten benennen\n",
    "\n",
    "# Systemnamen und Bewertungen extrahieren\n",
    "df_sum[\"system\"] = df_sum[\"system_bewertung\"].str.extract(r\"^(.*?)_bewertung\")\n",
    "df_sum[\"bewertung\"] = df_sum[\"system_bewertung\"].str.extract(r\"_(\\d)$\")\n",
    "\n",
    "# Systemnamen umbenennen\n",
    "system_label_map = {\n",
    "    \"vector_rag_antwort_manipuliert\": \"VectorRAG\",\n",
    "    \"graph_rag_antwort_manipuliert\": \"GraphRAG\",\n",
    "    \"hybrid_rag_antwort_manipuliert\": \"HybridRAG\"\n",
    "}\n",
    "df_sum[\"system\"] = df_sum[\"system\"].map(system_label_map)\n",
    "\n",
    "\n",
    "df_sum_sorted = df_sum.sort_values(by=\"anzahl\")\n",
    "max_val_sum = df_sum[\"anzahl\"].max()\n",
    "\n",
    "\n",
    "fig_total = px.bar(\n",
    "    df_sum,\n",
    "    y=\"system\",\n",
    "    x=\"anzahl\",\n",
    "    color=\"bewertung\",\n",
    "    barmode=\"group\",\n",
    "    color_discrete_map=color_map,\n",
    "    title=\"Gesamte Bewertungen pro System manipulierter Kontext\",\n",
    "    text=\"anzahl\",\n",
    "    orientation=\"h\",\n",
    "    category_orders={\"system\": [\"VectorRAG\", \"HybridRAG\", \"GraphRAG\"]}\n",
    ")\n",
    "\n",
    "fig_total.update_layout(\n",
    "    title=dict(text=fig_total.layout.title.text, x=0, xanchor='left'),\n",
    "    bargroupgap=0.1,\n",
    "    xaxis_title=\"Anzahl\",  \n",
    "    yaxis_title=\"System\",\n",
    "    **layout_kwargs\n",
    ")\n",
    "\n",
    "\n",
    "\n",
    "fig_total.update_xaxes(\n",
    "    showgrid=False,\n",
    "    showline=True,\n",
    "    linecolor='#5F5F5F',\n",
    "    range=[0, max_val_sum * 1.1],  # Platz für Text über Balken\n",
    "    **xaxis_kwargs\n",
    ")\n",
    "\n",
    "fig_total.update_yaxes(\n",
    "    showgrid=False,\n",
    "    showline=True,\n",
    "    linecolor='#5F5F5F',\n",
    "    **yaxis_kwargs\n",
    ")\n",
    "\n",
    "fig_total.update_traces(textposition=\"outside\")"
   ]
  },
  {
   "cell_type": "markdown",
   "id": "d1130488",
   "metadata": {},
   "source": [
    "**Schaubild zu der Häufigkeit der Bewertungsausprägungen Je System im Originalkontext:**"
   ]
  },
  {
   "cell_type": "code",
   "execution_count": 13,
   "id": "f0a6c0da",
   "metadata": {},
   "outputs": [
    {
     "data": {
      "application/vnd.plotly.v1+json": {
       "config": {
        "plotlyServerURL": "https://plot.ly"
       },
       "data": [
        {
         "alignmentgroup": "True",
         "hovertemplate": "bewertung=0<br>anzahl=%{text}<br>system=%{y}<extra></extra>",
         "legendgroup": "0",
         "marker": {
          "color": "#B3B3B3",
          "pattern": {
           "shape": ""
          }
         },
         "name": "0",
         "offsetgroup": "0",
         "orientation": "h",
         "showlegend": true,
         "text": {
          "bdata": "AAAAAABAXEAAAAAAAEB4QAAAAAAAwFhA",
          "dtype": "f8"
         },
         "textposition": "outside",
         "type": "bar",
         "x": {
          "bdata": "cQCEAWMA",
          "dtype": "i2"
         },
         "xaxis": "x",
         "y": [
          "VectorRAG",
          "GraphRAG",
          "HybridRAG"
         ],
         "yaxis": "y"
        },
        {
         "alignmentgroup": "True",
         "hovertemplate": "bewertung=1<br>anzahl=%{text}<br>system=%{y}<extra></extra>",
         "legendgroup": "1",
         "marker": {
          "color": "#096CB3",
          "pattern": {
           "shape": ""
          }
         },
         "name": "1",
         "offsetgroup": "1",
         "orientation": "h",
         "showlegend": true,
         "text": {
          "bdata": "AAAAAACQfEAAAAAAAMBmQAAAAAAAcH1A",
          "dtype": "f8"
         },
         "textposition": "outside",
         "type": "bar",
         "x": {
          "bdata": "yQG2ANcB",
          "dtype": "i2"
         },
         "xaxis": "x",
         "y": [
          "VectorRAG",
          "GraphRAG",
          "HybridRAG"
         ],
         "yaxis": "y"
        }
       ],
       "layout": {
        "bargroupgap": 0.1,
        "barmode": "group",
        "font": {
         "color": "#5F5F5F",
         "size": 16
        },
        "height": 550,
        "legend": {
         "title": {
          "text": "Bewertung"
         },
         "tracegroupgap": 0
        },
        "margin": {
         "t": 100
        },
        "paper_bgcolor": "white",
        "plot_bgcolor": "white",
        "template": {
         "data": {
          "bar": [
           {
            "error_x": {
             "color": "#2a3f5f"
            },
            "error_y": {
             "color": "#2a3f5f"
            },
            "marker": {
             "line": {
              "color": "#E5ECF6",
              "width": 0.5
             },
             "pattern": {
              "fillmode": "overlay",
              "size": 10,
              "solidity": 0.2
             }
            },
            "type": "bar"
           }
          ],
          "barpolar": [
           {
            "marker": {
             "line": {
              "color": "#E5ECF6",
              "width": 0.5
             },
             "pattern": {
              "fillmode": "overlay",
              "size": 10,
              "solidity": 0.2
             }
            },
            "type": "barpolar"
           }
          ],
          "carpet": [
           {
            "aaxis": {
             "endlinecolor": "#2a3f5f",
             "gridcolor": "white",
             "linecolor": "white",
             "minorgridcolor": "white",
             "startlinecolor": "#2a3f5f"
            },
            "baxis": {
             "endlinecolor": "#2a3f5f",
             "gridcolor": "white",
             "linecolor": "white",
             "minorgridcolor": "white",
             "startlinecolor": "#2a3f5f"
            },
            "type": "carpet"
           }
          ],
          "choropleth": [
           {
            "colorbar": {
             "outlinewidth": 0,
             "ticks": ""
            },
            "type": "choropleth"
           }
          ],
          "contour": [
           {
            "colorbar": {
             "outlinewidth": 0,
             "ticks": ""
            },
            "colorscale": [
             [
              0,
              "#0d0887"
             ],
             [
              0.1111111111111111,
              "#46039f"
             ],
             [
              0.2222222222222222,
              "#7201a8"
             ],
             [
              0.3333333333333333,
              "#9c179e"
             ],
             [
              0.4444444444444444,
              "#bd3786"
             ],
             [
              0.5555555555555556,
              "#d8576b"
             ],
             [
              0.6666666666666666,
              "#ed7953"
             ],
             [
              0.7777777777777778,
              "#fb9f3a"
             ],
             [
              0.8888888888888888,
              "#fdca26"
             ],
             [
              1,
              "#f0f921"
             ]
            ],
            "type": "contour"
           }
          ],
          "contourcarpet": [
           {
            "colorbar": {
             "outlinewidth": 0,
             "ticks": ""
            },
            "type": "contourcarpet"
           }
          ],
          "heatmap": [
           {
            "colorbar": {
             "outlinewidth": 0,
             "ticks": ""
            },
            "colorscale": [
             [
              0,
              "#0d0887"
             ],
             [
              0.1111111111111111,
              "#46039f"
             ],
             [
              0.2222222222222222,
              "#7201a8"
             ],
             [
              0.3333333333333333,
              "#9c179e"
             ],
             [
              0.4444444444444444,
              "#bd3786"
             ],
             [
              0.5555555555555556,
              "#d8576b"
             ],
             [
              0.6666666666666666,
              "#ed7953"
             ],
             [
              0.7777777777777778,
              "#fb9f3a"
             ],
             [
              0.8888888888888888,
              "#fdca26"
             ],
             [
              1,
              "#f0f921"
             ]
            ],
            "type": "heatmap"
           }
          ],
          "histogram": [
           {
            "marker": {
             "pattern": {
              "fillmode": "overlay",
              "size": 10,
              "solidity": 0.2
             }
            },
            "type": "histogram"
           }
          ],
          "histogram2d": [
           {
            "colorbar": {
             "outlinewidth": 0,
             "ticks": ""
            },
            "colorscale": [
             [
              0,
              "#0d0887"
             ],
             [
              0.1111111111111111,
              "#46039f"
             ],
             [
              0.2222222222222222,
              "#7201a8"
             ],
             [
              0.3333333333333333,
              "#9c179e"
             ],
             [
              0.4444444444444444,
              "#bd3786"
             ],
             [
              0.5555555555555556,
              "#d8576b"
             ],
             [
              0.6666666666666666,
              "#ed7953"
             ],
             [
              0.7777777777777778,
              "#fb9f3a"
             ],
             [
              0.8888888888888888,
              "#fdca26"
             ],
             [
              1,
              "#f0f921"
             ]
            ],
            "type": "histogram2d"
           }
          ],
          "histogram2dcontour": [
           {
            "colorbar": {
             "outlinewidth": 0,
             "ticks": ""
            },
            "colorscale": [
             [
              0,
              "#0d0887"
             ],
             [
              0.1111111111111111,
              "#46039f"
             ],
             [
              0.2222222222222222,
              "#7201a8"
             ],
             [
              0.3333333333333333,
              "#9c179e"
             ],
             [
              0.4444444444444444,
              "#bd3786"
             ],
             [
              0.5555555555555556,
              "#d8576b"
             ],
             [
              0.6666666666666666,
              "#ed7953"
             ],
             [
              0.7777777777777778,
              "#fb9f3a"
             ],
             [
              0.8888888888888888,
              "#fdca26"
             ],
             [
              1,
              "#f0f921"
             ]
            ],
            "type": "histogram2dcontour"
           }
          ],
          "mesh3d": [
           {
            "colorbar": {
             "outlinewidth": 0,
             "ticks": ""
            },
            "type": "mesh3d"
           }
          ],
          "parcoords": [
           {
            "line": {
             "colorbar": {
              "outlinewidth": 0,
              "ticks": ""
             }
            },
            "type": "parcoords"
           }
          ],
          "pie": [
           {
            "automargin": true,
            "type": "pie"
           }
          ],
          "scatter": [
           {
            "fillpattern": {
             "fillmode": "overlay",
             "size": 10,
             "solidity": 0.2
            },
            "type": "scatter"
           }
          ],
          "scatter3d": [
           {
            "line": {
             "colorbar": {
              "outlinewidth": 0,
              "ticks": ""
             }
            },
            "marker": {
             "colorbar": {
              "outlinewidth": 0,
              "ticks": ""
             }
            },
            "type": "scatter3d"
           }
          ],
          "scattercarpet": [
           {
            "marker": {
             "colorbar": {
              "outlinewidth": 0,
              "ticks": ""
             }
            },
            "type": "scattercarpet"
           }
          ],
          "scattergeo": [
           {
            "marker": {
             "colorbar": {
              "outlinewidth": 0,
              "ticks": ""
             }
            },
            "type": "scattergeo"
           }
          ],
          "scattergl": [
           {
            "marker": {
             "colorbar": {
              "outlinewidth": 0,
              "ticks": ""
             }
            },
            "type": "scattergl"
           }
          ],
          "scattermap": [
           {
            "marker": {
             "colorbar": {
              "outlinewidth": 0,
              "ticks": ""
             }
            },
            "type": "scattermap"
           }
          ],
          "scattermapbox": [
           {
            "marker": {
             "colorbar": {
              "outlinewidth": 0,
              "ticks": ""
             }
            },
            "type": "scattermapbox"
           }
          ],
          "scatterpolar": [
           {
            "marker": {
             "colorbar": {
              "outlinewidth": 0,
              "ticks": ""
             }
            },
            "type": "scatterpolar"
           }
          ],
          "scatterpolargl": [
           {
            "marker": {
             "colorbar": {
              "outlinewidth": 0,
              "ticks": ""
             }
            },
            "type": "scatterpolargl"
           }
          ],
          "scatterternary": [
           {
            "marker": {
             "colorbar": {
              "outlinewidth": 0,
              "ticks": ""
             }
            },
            "type": "scatterternary"
           }
          ],
          "surface": [
           {
            "colorbar": {
             "outlinewidth": 0,
             "ticks": ""
            },
            "colorscale": [
             [
              0,
              "#0d0887"
             ],
             [
              0.1111111111111111,
              "#46039f"
             ],
             [
              0.2222222222222222,
              "#7201a8"
             ],
             [
              0.3333333333333333,
              "#9c179e"
             ],
             [
              0.4444444444444444,
              "#bd3786"
             ],
             [
              0.5555555555555556,
              "#d8576b"
             ],
             [
              0.6666666666666666,
              "#ed7953"
             ],
             [
              0.7777777777777778,
              "#fb9f3a"
             ],
             [
              0.8888888888888888,
              "#fdca26"
             ],
             [
              1,
              "#f0f921"
             ]
            ],
            "type": "surface"
           }
          ],
          "table": [
           {
            "cells": {
             "fill": {
              "color": "#EBF0F8"
             },
             "line": {
              "color": "white"
             }
            },
            "header": {
             "fill": {
              "color": "#C8D4E3"
             },
             "line": {
              "color": "white"
             }
            },
            "type": "table"
           }
          ]
         },
         "layout": {
          "annotationdefaults": {
           "arrowcolor": "#2a3f5f",
           "arrowhead": 0,
           "arrowwidth": 1
          },
          "autotypenumbers": "strict",
          "coloraxis": {
           "colorbar": {
            "outlinewidth": 0,
            "ticks": ""
           }
          },
          "colorscale": {
           "diverging": [
            [
             0,
             "#8e0152"
            ],
            [
             0.1,
             "#c51b7d"
            ],
            [
             0.2,
             "#de77ae"
            ],
            [
             0.3,
             "#f1b6da"
            ],
            [
             0.4,
             "#fde0ef"
            ],
            [
             0.5,
             "#f7f7f7"
            ],
            [
             0.6,
             "#e6f5d0"
            ],
            [
             0.7,
             "#b8e186"
            ],
            [
             0.8,
             "#7fbc41"
            ],
            [
             0.9,
             "#4d9221"
            ],
            [
             1,
             "#276419"
            ]
           ],
           "sequential": [
            [
             0,
             "#0d0887"
            ],
            [
             0.1111111111111111,
             "#46039f"
            ],
            [
             0.2222222222222222,
             "#7201a8"
            ],
            [
             0.3333333333333333,
             "#9c179e"
            ],
            [
             0.4444444444444444,
             "#bd3786"
            ],
            [
             0.5555555555555556,
             "#d8576b"
            ],
            [
             0.6666666666666666,
             "#ed7953"
            ],
            [
             0.7777777777777778,
             "#fb9f3a"
            ],
            [
             0.8888888888888888,
             "#fdca26"
            ],
            [
             1,
             "#f0f921"
            ]
           ],
           "sequentialminus": [
            [
             0,
             "#0d0887"
            ],
            [
             0.1111111111111111,
             "#46039f"
            ],
            [
             0.2222222222222222,
             "#7201a8"
            ],
            [
             0.3333333333333333,
             "#9c179e"
            ],
            [
             0.4444444444444444,
             "#bd3786"
            ],
            [
             0.5555555555555556,
             "#d8576b"
            ],
            [
             0.6666666666666666,
             "#ed7953"
            ],
            [
             0.7777777777777778,
             "#fb9f3a"
            ],
            [
             0.8888888888888888,
             "#fdca26"
            ],
            [
             1,
             "#f0f921"
            ]
           ]
          },
          "colorway": [
           "#636efa",
           "#EF553B",
           "#00cc96",
           "#ab63fa",
           "#FFA15A",
           "#19d3f3",
           "#FF6692",
           "#B6E880",
           "#FF97FF",
           "#FECB52"
          ],
          "font": {
           "color": "#2a3f5f"
          },
          "geo": {
           "bgcolor": "white",
           "lakecolor": "white",
           "landcolor": "#E5ECF6",
           "showlakes": true,
           "showland": true,
           "subunitcolor": "white"
          },
          "hoverlabel": {
           "align": "left"
          },
          "hovermode": "closest",
          "mapbox": {
           "style": "light"
          },
          "paper_bgcolor": "white",
          "plot_bgcolor": "#E5ECF6",
          "polar": {
           "angularaxis": {
            "gridcolor": "white",
            "linecolor": "white",
            "ticks": ""
           },
           "bgcolor": "#E5ECF6",
           "radialaxis": {
            "gridcolor": "white",
            "linecolor": "white",
            "ticks": ""
           }
          },
          "scene": {
           "xaxis": {
            "backgroundcolor": "#E5ECF6",
            "gridcolor": "white",
            "gridwidth": 2,
            "linecolor": "white",
            "showbackground": true,
            "ticks": "",
            "zerolinecolor": "white"
           },
           "yaxis": {
            "backgroundcolor": "#E5ECF6",
            "gridcolor": "white",
            "gridwidth": 2,
            "linecolor": "white",
            "showbackground": true,
            "ticks": "",
            "zerolinecolor": "white"
           },
           "zaxis": {
            "backgroundcolor": "#E5ECF6",
            "gridcolor": "white",
            "gridwidth": 2,
            "linecolor": "white",
            "showbackground": true,
            "ticks": "",
            "zerolinecolor": "white"
           }
          },
          "shapedefaults": {
           "line": {
            "color": "#2a3f5f"
           }
          },
          "ternary": {
           "aaxis": {
            "gridcolor": "white",
            "linecolor": "white",
            "ticks": ""
           },
           "baxis": {
            "gridcolor": "white",
            "linecolor": "white",
            "ticks": ""
           },
           "bgcolor": "#E5ECF6",
           "caxis": {
            "gridcolor": "white",
            "linecolor": "white",
            "ticks": ""
           }
          },
          "title": {
           "x": 0.05
          },
          "xaxis": {
           "automargin": true,
           "gridcolor": "white",
           "linecolor": "white",
           "ticks": "",
           "title": {
            "standoff": 15
           },
           "zerolinecolor": "white",
           "zerolinewidth": 2
          },
          "yaxis": {
           "automargin": true,
           "gridcolor": "white",
           "linecolor": "white",
           "ticks": "",
           "title": {
            "standoff": 15
           },
           "zerolinecolor": "white",
           "zerolinewidth": 2
          }
         }
        },
        "title": {
         "font": {
          "color": "#5F5F5F",
          "size": 22
         },
         "text": "Gesamte Bewertungen pro System Originalkontext",
         "x": 0,
         "xanchor": "left"
        },
        "width": 800,
        "xaxis": {
         "anchor": "y",
         "domain": [
          0,
          1
         ],
         "linecolor": "#5F5F5F",
         "range": [
          0,
          518.1
         ],
         "showgrid": false,
         "showline": true,
         "tickfont": {
          "size": 14
         },
         "ticks": "",
         "title": {
          "text": "Anzahl"
         }
        },
        "yaxis": {
         "anchor": "x",
         "categoryarray": [
          "GraphRAG",
          "VectorRAG",
          "HybridRAG"
         ],
         "categoryorder": "array",
         "domain": [
          0,
          1
         ],
         "gridcolor": "lightgrey",
         "linecolor": "#5F5F5F",
         "showgrid": false,
         "showline": true,
         "tickfont": {
          "size": 14
         },
         "ticks": "",
         "title": {
          "text": "System"
         }
        }
       }
      }
     },
     "metadata": {},
     "output_type": "display_data"
    }
   ],
   "source": [
    "# original\n",
    "# Summe berechnen\n",
    "df_plot_orig = df_erg_org.drop(index=\"Summe\")\n",
    "df_sum = df_plot_orig.sum().reset_index()\n",
    "df_sum.columns = [\"system_bewertung\", \"anzahl\"] \n",
    "\n",
    "\n",
    "\n",
    "\n",
    "\n",
    "# Systemnamen und Bewertungen extrahieren\n",
    "df_sum[\"system\"] = df_sum[\"system_bewertung\"].str.extract(r\"^(.*?)_bewertung\")\n",
    "df_sum[\"bewertung\"] = df_sum[\"system_bewertung\"].str.extract(r\"_(\\d)$\")\n",
    "\n",
    "# Systemnamen umbenennen\n",
    "system_label_map = {\n",
    "    \"vector_rag_antwort_original\": \"VectorRAG\",\n",
    "    \"graph_rag_antwort_original\": \"GraphRAG\",\n",
    "    \"hybrid_rag_antwort_original\": \"HybridRAG\"\n",
    "}\n",
    "df_sum[\"system\"] = df_sum[\"system\"].map(system_label_map)\n",
    "\n",
    "# Danach kannst du wie geplant fortfahren:\n",
    "df_sum_sorted = df_sum.sort_values(by=\"anzahl\")\n",
    "max_val_sum = df_sum[\"anzahl\"].max()\n",
    "\n",
    "\n",
    "fig_total_ori = px.bar(\n",
    "    df_sum,\n",
    "    y=\"system\",\n",
    "    x=\"anzahl\",\n",
    "    color=\"bewertung\",\n",
    "    barmode=\"group\",\n",
    "    color_discrete_map=color_map,\n",
    "    title=\"Gesamte Bewertungen pro System Originalkontext\",\n",
    "    text=\"anzahl\",\n",
    "    orientation=\"h\",\n",
    "    category_orders={\"system\": [\"HybridRAG\", \"VectorRAG\", \"GraphRAG\"]}\n",
    ")\n",
    "\n",
    "fig_total_ori.update_layout(\n",
    "    title=dict(text=fig_total_ori.layout.title.text, x=0, xanchor='left'),\n",
    "    bargroupgap=0.1,\n",
    "    xaxis_title=\"Anzahl\",  \n",
    "    yaxis_title=\"System\",\n",
    "    **layout_kwargs\n",
    ")\n",
    "\n",
    "\n",
    "\n",
    "fig_total_ori.update_xaxes(\n",
    "    showgrid=False,\n",
    "    showline=True,\n",
    "    linecolor='#5F5F5F',\n",
    "    range=[0, max_val_sum * 1.1],  # Platz für Text über Balken\n",
    "    **xaxis_kwargs\n",
    ")\n",
    "\n",
    "fig_total_ori.update_yaxes(\n",
    "    showgrid=False,\n",
    "    showline=True,\n",
    "    linecolor='#5F5F5F',\n",
    "    **yaxis_kwargs\n",
    ")\n",
    "\n",
    "fig_total_ori.update_traces(textposition=\"outside\")"
   ]
  }
 ],
 "metadata": {
  "kernelspec": {
   "display_name": ".venv",
   "language": "python",
   "name": "python3"
  },
  "language_info": {
   "codemirror_mode": {
    "name": "ipython",
    "version": 3
   },
   "file_extension": ".py",
   "mimetype": "text/x-python",
   "name": "python",
   "nbconvert_exporter": "python",
   "pygments_lexer": "ipython3",
   "version": "3.12.0"
  }
 },
 "nbformat": 4,
 "nbformat_minor": 5
}
